{
 "cells": [
  {
   "cell_type": "markdown",
   "metadata": {},
   "source": [
    "<a target=\"_blank\" href=\"https://colab.research.google.com/github/kircherlab/MPRAlib/examples/mpralib.ipynb\">\n",
    "  <img src=\"https://colab.research.google.com/assets/colab-badge.svg\" alt=\"Open In Colab\"/>\n",
    "</a>"
   ]
  },
  {
   "cell_type": "code",
   "execution_count": 1,
   "metadata": {},
   "outputs": [],
   "source": [
    "!pip --quiet install MPRAlib"
   ]
  },
  {
   "cell_type": "markdown",
   "metadata": {},
   "source": [
    "Here we will load a barcode count file (output of MPRAsnakeflow)."
   ]
  },
  {
   "cell_type": "code",
   "execution_count": 2,
   "metadata": {},
   "outputs": [
    {
     "name": "stdout",
     "output_type": "stream",
     "text": [
      "DNA counts\n"
     ]
    },
    {
     "data": {
      "application/vnd.microsoft.datawrangler.viewer.v0+json": {
       "columns": [
        {
         "name": "index",
         "rawType": "object",
         "type": "string"
        },
        {
         "name": "TACTCTCCGTGCCCA",
         "rawType": "int64",
         "type": "integer"
        },
        {
         "name": "GGTATAACATCTCCG",
         "rawType": "int64",
         "type": "integer"
        },
        {
         "name": "TTAGGAGTCACACGT",
         "rawType": "int64",
         "type": "integer"
        },
        {
         "name": "GAATATAACACCCGA",
         "rawType": "int64",
         "type": "integer"
        },
        {
         "name": "AAACACCGCGCTCTA",
         "rawType": "int64",
         "type": "integer"
        }
       ],
       "conversionMethod": "pd.DataFrame",
       "ref": "fbef9727-3cd4-4f32-b401-b80fb155312e",
       "rows": [
        [
         "1",
         "1",
         "0",
         "0",
         "1",
         "0"
        ],
        [
         "2",
         "0",
         "3",
         "1",
         "1",
         "0"
        ],
        [
         "3",
         "0",
         "1",
         "1",
         "1",
         "1"
        ]
       ],
       "shape": {
        "columns": 5,
        "rows": 3
       }
      },
      "text/html": [
       "<div>\n",
       "<style scoped>\n",
       "    .dataframe tbody tr th:only-of-type {\n",
       "        vertical-align: middle;\n",
       "    }\n",
       "\n",
       "    .dataframe tbody tr th {\n",
       "        vertical-align: top;\n",
       "    }\n",
       "\n",
       "    .dataframe thead th {\n",
       "        text-align: right;\n",
       "    }\n",
       "</style>\n",
       "<table border=\"1\" class=\"dataframe\">\n",
       "  <thead>\n",
       "    <tr style=\"text-align: right;\">\n",
       "      <th>barcode</th>\n",
       "      <th>TACTCTCCGTGCCCA</th>\n",
       "      <th>GGTATAACATCTCCG</th>\n",
       "      <th>TTAGGAGTCACACGT</th>\n",
       "      <th>GAATATAACACCCGA</th>\n",
       "      <th>AAACACCGCGCTCTA</th>\n",
       "    </tr>\n",
       "  </thead>\n",
       "  <tbody>\n",
       "    <tr>\n",
       "      <th>1</th>\n",
       "      <td>1</td>\n",
       "      <td>0</td>\n",
       "      <td>0</td>\n",
       "      <td>1</td>\n",
       "      <td>0</td>\n",
       "    </tr>\n",
       "    <tr>\n",
       "      <th>2</th>\n",
       "      <td>0</td>\n",
       "      <td>3</td>\n",
       "      <td>1</td>\n",
       "      <td>1</td>\n",
       "      <td>0</td>\n",
       "    </tr>\n",
       "    <tr>\n",
       "      <th>3</th>\n",
       "      <td>0</td>\n",
       "      <td>1</td>\n",
       "      <td>1</td>\n",
       "      <td>1</td>\n",
       "      <td>1</td>\n",
       "    </tr>\n",
       "  </tbody>\n",
       "</table>\n",
       "</div>"
      ],
      "text/plain": [
       "barcode  TACTCTCCGTGCCCA  GGTATAACATCTCCG  TTAGGAGTCACACGT  GAATATAACACCCGA  \\\n",
       "1                      1                0                0                1   \n",
       "2                      0                3                1                1   \n",
       "3                      0                1                1                1   \n",
       "\n",
       "barcode  AAACACCGCGCTCTA  \n",
       "1                      0  \n",
       "2                      0  \n",
       "3                      1  "
      ]
     },
     "metadata": {},
     "output_type": "display_data"
    },
    {
     "name": "stdout",
     "output_type": "stream",
     "text": [
      "RNA counts\n"
     ]
    },
    {
     "data": {
      "application/vnd.microsoft.datawrangler.viewer.v0+json": {
       "columns": [
        {
         "name": "index",
         "rawType": "object",
         "type": "string"
        },
        {
         "name": "TACTCTCCGTGCCCA",
         "rawType": "int64",
         "type": "integer"
        },
        {
         "name": "GGTATAACATCTCCG",
         "rawType": "int64",
         "type": "integer"
        },
        {
         "name": "TTAGGAGTCACACGT",
         "rawType": "int64",
         "type": "integer"
        },
        {
         "name": "GAATATAACACCCGA",
         "rawType": "int64",
         "type": "integer"
        },
        {
         "name": "AAACACCGCGCTCTA",
         "rawType": "int64",
         "type": "integer"
        }
       ],
       "conversionMethod": "pd.DataFrame",
       "ref": "40465b14-51d8-4282-ad71-bbdcf7f273a9",
       "rows": [
        [
         "1",
         "1",
         "0",
         "0",
         "1",
         "0"
        ],
        [
         "2",
         "0",
         "1",
         "1",
         "1",
         "0"
        ],
        [
         "3",
         "0",
         "2",
         "2",
         "3",
         "1"
        ]
       ],
       "shape": {
        "columns": 5,
        "rows": 3
       }
      },
      "text/html": [
       "<div>\n",
       "<style scoped>\n",
       "    .dataframe tbody tr th:only-of-type {\n",
       "        vertical-align: middle;\n",
       "    }\n",
       "\n",
       "    .dataframe tbody tr th {\n",
       "        vertical-align: top;\n",
       "    }\n",
       "\n",
       "    .dataframe thead th {\n",
       "        text-align: right;\n",
       "    }\n",
       "</style>\n",
       "<table border=\"1\" class=\"dataframe\">\n",
       "  <thead>\n",
       "    <tr style=\"text-align: right;\">\n",
       "      <th>barcode</th>\n",
       "      <th>TACTCTCCGTGCCCA</th>\n",
       "      <th>GGTATAACATCTCCG</th>\n",
       "      <th>TTAGGAGTCACACGT</th>\n",
       "      <th>GAATATAACACCCGA</th>\n",
       "      <th>AAACACCGCGCTCTA</th>\n",
       "    </tr>\n",
       "  </thead>\n",
       "  <tbody>\n",
       "    <tr>\n",
       "      <th>1</th>\n",
       "      <td>1</td>\n",
       "      <td>0</td>\n",
       "      <td>0</td>\n",
       "      <td>1</td>\n",
       "      <td>0</td>\n",
       "    </tr>\n",
       "    <tr>\n",
       "      <th>2</th>\n",
       "      <td>0</td>\n",
       "      <td>1</td>\n",
       "      <td>1</td>\n",
       "      <td>1</td>\n",
       "      <td>0</td>\n",
       "    </tr>\n",
       "    <tr>\n",
       "      <th>3</th>\n",
       "      <td>0</td>\n",
       "      <td>2</td>\n",
       "      <td>2</td>\n",
       "      <td>3</td>\n",
       "      <td>1</td>\n",
       "    </tr>\n",
       "  </tbody>\n",
       "</table>\n",
       "</div>"
      ],
      "text/plain": [
       "barcode  TACTCTCCGTGCCCA  GGTATAACATCTCCG  TTAGGAGTCACACGT  GAATATAACACCCGA  \\\n",
       "1                      1                0                0                1   \n",
       "2                      0                1                1                1   \n",
       "3                      0                2                2                3   \n",
       "\n",
       "barcode  AAACACCGCGCTCTA  \n",
       "1                      0  \n",
       "2                      0  \n",
       "3                      1  "
      ]
     },
     "metadata": {},
     "output_type": "display_data"
    }
   ],
   "source": [
    "from mpralib.mpradata import MPRAdata\n",
    "import pandas as pd\n",
    "import numpy as np\n",
    "\n",
    "# Load the data\n",
    "mpradata = MPRAdata.from_file(\"../resources/reporter_experiment.barcode.HEPG2.fromFile.default.all.tsv.gz\")\n",
    "\n",
    "print(\"DNA counts\")\n",
    "display(pd.DataFrame(mpradata.dna_counts[:,0:5], index=mpradata.replicates, columns=mpradata.barcodes[0:5]))\n",
    "print(\"RNA counts\")\n",
    "display(pd.DataFrame(mpradata.rna_counts[:,0:5], index=mpradata.replicates, columns=mpradata.barcodes[0:5]))\n"
   ]
  },
  {
   "cell_type": "markdown",
   "metadata": {},
   "source": [
    "Generating correlatons across repliactes on certain barcode thresholds."
   ]
  },
  {
   "cell_type": "code",
   "execution_count": 3,
   "metadata": {},
   "outputs": [
    {
     "name": "stdout",
     "output_type": "stream",
     "text": [
      "Pairwise Pearson correlation\n"
     ]
    },
    {
     "name": "stderr",
     "output_type": "stream",
     "text": [
      "/home/mschubach/miniforge3/envs/jupyter/lib/python3.12/site-packages/mpralib/mpradata.py:433: RuntimeWarning: invalid value encountered in divide\n",
      "  self.grouped_data.layers[\"rna_normalized\"] / self.grouped_data.layers[\"dna_normalized\"]\n"
     ]
    },
    {
     "data": {
      "application/vnd.microsoft.datawrangler.viewer.v0+json": {
       "columns": [
        {
         "name": "index",
         "rawType": "object",
         "type": "string"
        },
        {
         "name": "1",
         "rawType": "float64",
         "type": "float"
        },
        {
         "name": "2",
         "rawType": "float64",
         "type": "float"
        },
        {
         "name": "3",
         "rawType": "float64",
         "type": "float"
        }
       ],
       "conversionMethod": "pd.DataFrame",
       "ref": "e2b65ceb-8e16-450c-bfdc-7e2c5700bdf2",
       "rows": [
        [
         "1",
         "1.0",
         "0.456",
         "0.469"
        ],
        [
         "2",
         "0.456",
         "1.0",
         "0.481"
        ],
        [
         "3",
         "0.469",
         "0.481",
         "1.0"
        ]
       ],
       "shape": {
        "columns": 3,
        "rows": 3
       }
      },
      "text/html": [
       "<div>\n",
       "<style scoped>\n",
       "    .dataframe tbody tr th:only-of-type {\n",
       "        vertical-align: middle;\n",
       "    }\n",
       "\n",
       "    .dataframe tbody tr th {\n",
       "        vertical-align: top;\n",
       "    }\n",
       "\n",
       "    .dataframe thead th {\n",
       "        text-align: right;\n",
       "    }\n",
       "</style>\n",
       "<table border=\"1\" class=\"dataframe\">\n",
       "  <thead>\n",
       "    <tr style=\"text-align: right;\">\n",
       "      <th></th>\n",
       "      <th>1</th>\n",
       "      <th>2</th>\n",
       "      <th>3</th>\n",
       "    </tr>\n",
       "  </thead>\n",
       "  <tbody>\n",
       "    <tr>\n",
       "      <th>1</th>\n",
       "      <td>1.000</td>\n",
       "      <td>0.456</td>\n",
       "      <td>0.469</td>\n",
       "    </tr>\n",
       "    <tr>\n",
       "      <th>2</th>\n",
       "      <td>0.456</td>\n",
       "      <td>1.000</td>\n",
       "      <td>0.481</td>\n",
       "    </tr>\n",
       "    <tr>\n",
       "      <th>3</th>\n",
       "      <td>0.469</td>\n",
       "      <td>0.481</td>\n",
       "      <td>1.000</td>\n",
       "    </tr>\n",
       "  </tbody>\n",
       "</table>\n",
       "</div>"
      ],
      "text/plain": [
       "       1      2      3\n",
       "1  1.000  0.456  0.469\n",
       "2  0.456  1.000  0.481\n",
       "3  0.469  0.481  1.000"
      ]
     },
     "metadata": {},
     "output_type": "display_data"
    },
    {
     "name": "stdout",
     "output_type": "stream",
     "text": [
      "Parwise Spearman correlation\n"
     ]
    },
    {
     "data": {
      "application/vnd.microsoft.datawrangler.viewer.v0+json": {
       "columns": [
        {
         "name": "index",
         "rawType": "object",
         "type": "string"
        },
        {
         "name": "1",
         "rawType": "float64",
         "type": "float"
        },
        {
         "name": "2",
         "rawType": "float64",
         "type": "float"
        },
        {
         "name": "3",
         "rawType": "float64",
         "type": "float"
        }
       ],
       "conversionMethod": "pd.DataFrame",
       "ref": "a3bb313b-ef47-46f8-bab1-8c0d1377b4f0",
       "rows": [
        [
         "1",
         "1.0",
         "0.361",
         "0.379"
        ],
        [
         "2",
         "0.361",
         "1.0",
         "0.356"
        ],
        [
         "3",
         "0.379",
         "0.356",
         "1.0"
        ]
       ],
       "shape": {
        "columns": 3,
        "rows": 3
       }
      },
      "text/html": [
       "<div>\n",
       "<style scoped>\n",
       "    .dataframe tbody tr th:only-of-type {\n",
       "        vertical-align: middle;\n",
       "    }\n",
       "\n",
       "    .dataframe tbody tr th {\n",
       "        vertical-align: top;\n",
       "    }\n",
       "\n",
       "    .dataframe thead th {\n",
       "        text-align: right;\n",
       "    }\n",
       "</style>\n",
       "<table border=\"1\" class=\"dataframe\">\n",
       "  <thead>\n",
       "    <tr style=\"text-align: right;\">\n",
       "      <th></th>\n",
       "      <th>1</th>\n",
       "      <th>2</th>\n",
       "      <th>3</th>\n",
       "    </tr>\n",
       "  </thead>\n",
       "  <tbody>\n",
       "    <tr>\n",
       "      <th>1</th>\n",
       "      <td>1.000</td>\n",
       "      <td>0.361</td>\n",
       "      <td>0.379</td>\n",
       "    </tr>\n",
       "    <tr>\n",
       "      <th>2</th>\n",
       "      <td>0.361</td>\n",
       "      <td>1.000</td>\n",
       "      <td>0.356</td>\n",
       "    </tr>\n",
       "    <tr>\n",
       "      <th>3</th>\n",
       "      <td>0.379</td>\n",
       "      <td>0.356</td>\n",
       "      <td>1.000</td>\n",
       "    </tr>\n",
       "  </tbody>\n",
       "</table>\n",
       "</div>"
      ],
      "text/plain": [
       "       1      2      3\n",
       "1  1.000  0.361  0.379\n",
       "2  0.361  1.000  0.356\n",
       "3  0.379  0.356  1.000"
      ]
     },
     "metadata": {},
     "output_type": "display_data"
    },
    {
     "name": "stdout",
     "output_type": "stream",
     "text": [
      "Mean Pearson correlation\n",
      "0.469\n",
      "Mean Spearman correlation\n",
      "0.365\n",
      "Mean Pearson correlation, BC threshold 10\n",
      "0.655\n",
      "Mean Spearman correlation, BC threshold 10\n",
      "0.525\n",
      "Mean Pearson correlation, BC threshold 100\n",
      "0.964\n",
      "Mean Spearman correlation, BC threshold 100\n",
      "1.0\n"
     ]
    }
   ],
   "source": [
    "print(\"Pairwise Pearson correlation\")\n",
    "display(pd.DataFrame(mpradata.pearson_correlation, index=mpradata.replicates, columns=mpradata.replicates).round(3))\n",
    "print(\"Parwise Spearman correlation\")\n",
    "display(pd.DataFrame(mpradata.spearman_correlation, index=mpradata.replicates, columns=mpradata.replicates).round(3))\n",
    "\n",
    "\n",
    "print(\"Mean Pearson correlation\")\n",
    "print(mpradata.pearson_correlation.flatten()[[1,2,5]].mean().round(3))\n",
    "print(\"Mean Spearman correlation\")\n",
    "print(mpradata.spearman_correlation.flatten()[[1,2,5]].mean().round(3))\n",
    "\n",
    "\n",
    "# Setting a different barcode threshold 10\n",
    "mpradata.barcode_threshold = 10\n",
    "print(f\"Mean Pearson correlation, BC threshold {mpradata.barcode_threshold}\")\n",
    "print(mpradata.pearson_correlation.flatten()[[1,2,5]].mean().round(3))\n",
    "print(f\"Mean Spearman correlation, BC threshold {mpradata.barcode_threshold}\")\n",
    "print(mpradata.spearman_correlation.flatten()[[1,2,5]].mean().round(3))\n",
    "\n",
    "# And using a very high one 100\n",
    "mpradata.barcode_threshold = 100\n",
    "print(f\"Mean Pearson correlation, BC threshold {mpradata.barcode_threshold}\")\n",
    "print(mpradata.pearson_correlation.flatten()[[1,2,5]].mean().round(3))\n",
    "print(f\"Mean Spearman correlation, BC threshold {mpradata.barcode_threshold}\")\n",
    "print(mpradata.spearman_correlation.flatten()[[1,2,5]].mean().round(3))"
   ]
  },
  {
   "cell_type": "markdown",
   "metadata": {},
   "source": [
    "Using such stricht barcode will also decreatse our oligos available per replicate"
   ]
  },
  {
   "cell_type": "code",
   "execution_count": 4,
   "metadata": {},
   "outputs": [
    {
     "name": "stdout",
     "output_type": "stream",
     "text": [
      "Number of oligos per individual replicate, using BC threshold 1\n"
     ]
    },
    {
     "data": {
      "text/plain": [
       "array([2243, 2250, 2253])"
      ]
     },
     "metadata": {},
     "output_type": "display_data"
    },
    {
     "name": "stdout",
     "output_type": "stream",
     "text": [
      "Number of oligos per individual replicate, using BC threshold 10\n"
     ]
    },
    {
     "data": {
      "text/plain": [
       "array([1359, 1349, 1357])"
      ]
     },
     "metadata": {},
     "output_type": "display_data"
    },
    {
     "name": "stdout",
     "output_type": "stream",
     "text": [
      "Number of oligos per individual replicate, using BC threshold 100\n"
     ]
    },
    {
     "data": {
      "text/plain": [
       "array([10,  3,  3])"
      ]
     },
     "metadata": {},
     "output_type": "display_data"
    }
   ],
   "source": [
    "for threshold in [1, 10, 100]:\n",
    "    mpradata.barcode_threshold = threshold\n",
    "    print(f\"Number of oligos per individual replicate, using BC threshold {mpradata.barcode_threshold}\")\n",
    "    display(np.sum(mpradata.grouped_data.layers[\"barcodes\"]!=0,axis=1))\n"
   ]
  }
 ],
 "metadata": {
  "kernelspec": {
   "display_name": "jupyter",
   "language": "python",
   "name": "python3"
  },
  "language_info": {
   "codemirror_mode": {
    "name": "ipython",
    "version": 3
   },
   "file_extension": ".py",
   "mimetype": "text/x-python",
   "name": "python",
   "nbconvert_exporter": "python",
   "pygments_lexer": "ipython3",
   "version": "3.12.4"
  }
 },
 "nbformat": 4,
 "nbformat_minor": 2
}
