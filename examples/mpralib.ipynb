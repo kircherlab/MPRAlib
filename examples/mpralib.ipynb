{
 "cells": [
  {
   "cell_type": "markdown",
   "metadata": {},
   "source": [
    "<a target=\"_blank\" href=\"https://colab.research.google.com/github/kircherlab/MPRAlib/blob/master/examples/mpralib.ipynb\">\n",
    "  <img src=\"https://colab.research.google.com/assets/colab-badge.svg\" alt=\"Open In Colab\"/>\n",
    "</a>"
   ]
  },
  {
   "cell_type": "code",
   "execution_count": 1,
   "metadata": {},
   "outputs": [],
   "source": [
    "!pip --quiet install \"MPRAlib==0.6.0\""
   ]
  },
  {
   "cell_type": "markdown",
   "metadata": {},
   "source": [
    "# Loading Data and Understanding the MPRAlib data structure\n",
    "\n",
    "Here we will load a barcode count file (output of [MPRAsnakeflow](https://github.com/kircherlab/MPRAsnakeflow)) into MPRAlib, more precise into an `MPRAData` data object in `mpralib.mpradata`. MPRAlib will generate an [AnnData](https://anndata.readthedocs.io) object out of it, which is acessable via `MRAData.data`:\n",
    "\n",
    "<img src=\"https://raw.githubusercontent.com/scverse/anndata/main/docs/_static/img/anndata_schema.svg\" alt=\"AnnData\" width=\"480 \"/>"
   ]
  },
  {
   "cell_type": "markdown",
   "metadata": {},
   "source": [
    "## Core data\n",
    "\n",
    "We defined two objects inhereted from `MPRAdata`:\n",
    "- `MPRABarcodeData` for DNA and RNA counts per barcode\n",
    "- `MPRAOligoData` for RNA and DNA counts aggregated per oligo\n",
    "\n",
    "`MPRABarcodeData` can be generated from `MPRABarcodeData` but not vice versa. So we start with the `MPRABarcodeData` object:"
   ]
  },
  {
   "cell_type": "markdown",
   "metadata": {},
   "source": [
    "### `MPRABarcodeData`\n",
    "\n",
    "- `var`: barcodes\n",
    "- `obs`: replicates\n",
    "\n",
    "Oligo names are also stored in `var` like `MPRABarcodeData.data.var[\"oligo\"]` and can also be accessed via `MPRABarcodeData.oligos`. Further DNA and RNA counts are stored in `layers` like `MPRABarcodeData.data.layers[\"dna\"]` and `layers[\"rna\"]`. This are the raw counts and those layers are never been modified. You can also access this data via `MPRABarcodeData.raw_rna_counts` and `MPRABarcodeData.raw_dna_counts`.\n",
    "\n",
    "Metadata is stored in the `MPRABarcodeData.data.uns` dictionary."
   ]
  },
  {
   "cell_type": "markdown",
   "metadata": {},
   "source": [
    "#### Extended count data\n",
    "\n",
    "There are some further layers that are dynamically updated via the library. This are:\n",
    "\n",
    "1. Normalization layers in `MPRABarcodeData.data.layers[\"dna_normalized\"]` and `MPRABarcodeData.data.layers[\"rna_normalized\"]`. Usually we have to normalize the data to account for different sequencing depths. This is done by dividing the raw counts by the sum of the counts all counts per replicate and scale them (usually `1e6` like counts per million). We use a pseudo count of `1` to avoid division by zero. So barcodes are allowed to be not observed in either RNA or DNA. When both counts are zero the library will take this barcodes as not observed and will not use it for counting/normalization etc. The pseudocount can be modified via `MPRABarcodeData.PSEUDOCOUNT` e.g. avoiding it via `MPRABarcodeData.PSEUDOCOUNT = 0`.\n",
    "2. Sampling layers in `MPRABarcodeData.data.layers[\"dna_sampling\"]` and `MPRABarcodeData.data.layers[\"rna_sampling\"]`. This is only an edge case when you want to downsample your counts.\n",
    "\n",
    "The library usually generates the layers and takes care of them. E.g. when barcode filtering is applied, the normalization layers are updated accordingly.\n",
    "\n",
    "MPRAlib provides some getters (in python properties) to access the data intuitively. E.g. `MPRABarcodeData.raw_dna_counts` will return the raw DNA counts. `MPRABarcodeData.raw_rna_counts` for RNA accordingly. If you use the property `MPRABarcodeData.rna_counts` or `MPRABarcodeData.dna_counts` it will return the latest counts. That can be the raw counts (if nothing was done), filtered counts when where some barcode counts are set to zero according to the barcode filter mask (see below), sampled or sampled and filtered counts. If you want to get norlazied counts use `MPRABarcodeData.normalized_rna_counts` or `MPRABarcodeData.normalized_dna_counts`. It returns the layer `\"rna_normalized\"` or `\"dna_normalized\"` which is a normalization of `MPRABarcodeData.rna_counts` or `MPRABarcodeData.dna_counts`."
   ]
  },
  {
   "cell_type": "markdown",
   "metadata": {},
   "source": [
    "#### Barcode filtering\n",
    "\n",
    "Barcode filters are (or in AnnData filter for `var`) stored in a n_barcodes x n_replicates matrix within the AnnData object `MPRABarcodeData.data.varm[\"var_filter\"]`. You can set any new filter using the setter `MPRABarcodeData.var_filter = new_filter`. The filter is a boolean matrix with `True` for barcodes that should be removed and `False` for barcodes that should be kept. This setter magically also updates the normalized counts for you.\n",
    "\n",
    "There are pre implemented methods to filter barcodes, like detecting outliers. We will cover this part later."
   ]
  },
  {
   "cell_type": "markdown",
   "metadata": {},
   "source": [
    "### Grouping Data by Oligo - The `MPRAOligoData` object\n",
    "\n",
    "Usually when we work with MPRA data we are not interested by the barcode count itself but an aggregated count version per oligo. This is done by grouping the data by oligo and writing a new MPRAlib object with a new AnnData object, called `MPRAOligoData` and `MPRAOligoData.data` accordingly. `MPRAOligoData` also inherits from `MPRAData` so has very similar functionality than `MPRABarcodeData`. It is a new AnnData object because the data structure is slightly different. The `var` are now the oligos and the `obs` remain the replicates. The layers `\"dna\"`, `\"rna\"`, `\"dna_normalized\"`, and  `\"rna_normalized\"` exist also for the grouped data but are now aggregated per oligo. \n",
    "\n",
    "When generating a `MPRAOligoData` from an `MPRABarcodeData` usually the filtered counts or sampled counts are used for aggregation (if applicable). Also you can define a barcode threshold to filter out oligos that have not enough barcodes. This threshold can be set by `MPRAdata.barcode_threshold = 10` for example. The default is 1 (no oligo is removed). Barcode thereshold is only applied when running correlations on the `MPRAOligoData` object or saving outputs. Otherwise you will see all counts from all oligos.\n",
    "\n",
    "For this purpose we have one additional layers: `MPRAOligoData.data.layers[\"barcode_counts\"]` counts the number of barcodes per oligo that was used for the aggregation (or simple property `MPRAOligoData.barcode_counts`). The layer is also available in MPRABarcode data and shows the same value for each barcode within the same oligo.\n",
    "\n",
    "Maybe the most interesting layer is the one for activity (whch also exists in the barcode object but there this can be very sparse data): `MPRAOligoData.data.layers[\"activity\"]` stores the log2 rna/dna ratio and can also be accessed via `MPRAOligoData.activities`."
   ]
  },
  {
   "cell_type": "markdown",
   "metadata": {},
   "source": [
    "## Example\n",
    "\n",
    "Let's start with loading a barcode count file from [MPRAsnakeflow](https://github.com/kircherlab/MPRAsnakeflow):"
   ]
  },
  {
   "cell_type": "code",
   "execution_count": 2,
   "metadata": {},
   "outputs": [
    {
     "name": "stdout",
     "output_type": "stream",
     "text": [
      "DNA counts\n"
     ]
    },
    {
     "data": {
      "application/vnd.microsoft.datawrangler.viewer.v0+json": {
       "columns": [
        {
         "name": "index",
         "rawType": "object",
         "type": "string"
        },
        {
         "name": "CTAGGTAAGGCATAG",
         "rawType": "int64",
         "type": "integer"
        },
        {
         "name": "GCCTAATACTTTTTA",
         "rawType": "int64",
         "type": "integer"
        },
        {
         "name": "CAATGCCACAGAGAA",
         "rawType": "int64",
         "type": "integer"
        },
        {
         "name": "TACCCTCAAGTAAAC",
         "rawType": "int64",
         "type": "integer"
        },
        {
         "name": "ATGGTACTTAGGAGT",
         "rawType": "int64",
         "type": "integer"
        }
       ],
       "conversionMethod": "pd.DataFrame",
       "ref": "ba464ef6-5dad-4a50-a557-8fdfa906719d",
       "rows": [
        [
         "1",
         "3",
         "3",
         "2",
         "9",
         "2"
        ],
        [
         "2",
         "1",
         "4",
         "0",
         "9",
         "5"
        ],
        [
         "3",
         "0",
         "5",
         "0",
         "17",
         "3"
        ]
       ],
       "shape": {
        "columns": 5,
        "rows": 3
       }
      },
      "text/html": [
       "<div>\n",
       "<style scoped>\n",
       "    .dataframe tbody tr th:only-of-type {\n",
       "        vertical-align: middle;\n",
       "    }\n",
       "\n",
       "    .dataframe tbody tr th {\n",
       "        vertical-align: top;\n",
       "    }\n",
       "\n",
       "    .dataframe thead th {\n",
       "        text-align: right;\n",
       "    }\n",
       "</style>\n",
       "<table border=\"1\" class=\"dataframe\">\n",
       "  <thead>\n",
       "    <tr style=\"text-align: right;\">\n",
       "      <th>barcode</th>\n",
       "      <th>CTAGGTAAGGCATAG</th>\n",
       "      <th>GCCTAATACTTTTTA</th>\n",
       "      <th>CAATGCCACAGAGAA</th>\n",
       "      <th>TACCCTCAAGTAAAC</th>\n",
       "      <th>ATGGTACTTAGGAGT</th>\n",
       "    </tr>\n",
       "  </thead>\n",
       "  <tbody>\n",
       "    <tr>\n",
       "      <th>1</th>\n",
       "      <td>3</td>\n",
       "      <td>3</td>\n",
       "      <td>2</td>\n",
       "      <td>9</td>\n",
       "      <td>2</td>\n",
       "    </tr>\n",
       "    <tr>\n",
       "      <th>2</th>\n",
       "      <td>1</td>\n",
       "      <td>4</td>\n",
       "      <td>0</td>\n",
       "      <td>9</td>\n",
       "      <td>5</td>\n",
       "    </tr>\n",
       "    <tr>\n",
       "      <th>3</th>\n",
       "      <td>0</td>\n",
       "      <td>5</td>\n",
       "      <td>0</td>\n",
       "      <td>17</td>\n",
       "      <td>3</td>\n",
       "    </tr>\n",
       "  </tbody>\n",
       "</table>\n",
       "</div>"
      ],
      "text/plain": [
       "barcode  CTAGGTAAGGCATAG  GCCTAATACTTTTTA  CAATGCCACAGAGAA  TACCCTCAAGTAAAC  \\\n",
       "1                      3                3                2                9   \n",
       "2                      1                4                0                9   \n",
       "3                      0                5                0               17   \n",
       "\n",
       "barcode  ATGGTACTTAGGAGT  \n",
       "1                      2  \n",
       "2                      5  \n",
       "3                      3  "
      ]
     },
     "metadata": {},
     "output_type": "display_data"
    },
    {
     "name": "stdout",
     "output_type": "stream",
     "text": [
      "RNA counts\n"
     ]
    },
    {
     "data": {
      "application/vnd.microsoft.datawrangler.viewer.v0+json": {
       "columns": [
        {
         "name": "index",
         "rawType": "object",
         "type": "string"
        },
        {
         "name": "CTAGGTAAGGCATAG",
         "rawType": "int64",
         "type": "integer"
        },
        {
         "name": "GCCTAATACTTTTTA",
         "rawType": "int64",
         "type": "integer"
        },
        {
         "name": "CAATGCCACAGAGAA",
         "rawType": "int64",
         "type": "integer"
        },
        {
         "name": "TACCCTCAAGTAAAC",
         "rawType": "int64",
         "type": "integer"
        },
        {
         "name": "ATGGTACTTAGGAGT",
         "rawType": "int64",
         "type": "integer"
        }
       ],
       "conversionMethod": "pd.DataFrame",
       "ref": "dff4e0d0-ef7c-4bf0-b0e6-20c3906059f5",
       "rows": [
        [
         "1",
         "4",
         "3",
         "2",
         "3",
         "12"
        ],
        [
         "2",
         "2",
         "7",
         "0",
         "16",
         "6"
        ],
        [
         "3",
         "0",
         "3",
         "0",
         "27",
         "10"
        ]
       ],
       "shape": {
        "columns": 5,
        "rows": 3
       }
      },
      "text/html": [
       "<div>\n",
       "<style scoped>\n",
       "    .dataframe tbody tr th:only-of-type {\n",
       "        vertical-align: middle;\n",
       "    }\n",
       "\n",
       "    .dataframe tbody tr th {\n",
       "        vertical-align: top;\n",
       "    }\n",
       "\n",
       "    .dataframe thead th {\n",
       "        text-align: right;\n",
       "    }\n",
       "</style>\n",
       "<table border=\"1\" class=\"dataframe\">\n",
       "  <thead>\n",
       "    <tr style=\"text-align: right;\">\n",
       "      <th>barcode</th>\n",
       "      <th>CTAGGTAAGGCATAG</th>\n",
       "      <th>GCCTAATACTTTTTA</th>\n",
       "      <th>CAATGCCACAGAGAA</th>\n",
       "      <th>TACCCTCAAGTAAAC</th>\n",
       "      <th>ATGGTACTTAGGAGT</th>\n",
       "    </tr>\n",
       "  </thead>\n",
       "  <tbody>\n",
       "    <tr>\n",
       "      <th>1</th>\n",
       "      <td>4</td>\n",
       "      <td>3</td>\n",
       "      <td>2</td>\n",
       "      <td>3</td>\n",
       "      <td>12</td>\n",
       "    </tr>\n",
       "    <tr>\n",
       "      <th>2</th>\n",
       "      <td>2</td>\n",
       "      <td>7</td>\n",
       "      <td>0</td>\n",
       "      <td>16</td>\n",
       "      <td>6</td>\n",
       "    </tr>\n",
       "    <tr>\n",
       "      <th>3</th>\n",
       "      <td>0</td>\n",
       "      <td>3</td>\n",
       "      <td>0</td>\n",
       "      <td>27</td>\n",
       "      <td>10</td>\n",
       "    </tr>\n",
       "  </tbody>\n",
       "</table>\n",
       "</div>"
      ],
      "text/plain": [
       "barcode  CTAGGTAAGGCATAG  GCCTAATACTTTTTA  CAATGCCACAGAGAA  TACCCTCAAGTAAAC  \\\n",
       "1                      4                3                2                3   \n",
       "2                      2                7                0               16   \n",
       "3                      0                3                0               27   \n",
       "\n",
       "barcode  ATGGTACTTAGGAGT  \n",
       "1                     12  \n",
       "2                      6  \n",
       "3                     10  "
      ]
     },
     "metadata": {},
     "output_type": "display_data"
    }
   ],
   "source": [
    "# Loading the MPRAlib library\n",
    "from mpralib.mpradata import MPRABarcodeData\n",
    "# Loading other libraries\n",
    "import pandas as pd\n",
    "import numpy as np\n",
    "\n",
    "# Load the data\n",
    "mpra_barcode_data = MPRABarcodeData.from_file(\"../resources/barcode_counts.tsv.gz\")\n",
    "\n",
    "# Getting counts, no filtering/sampling done, so raw counts\n",
    "print(\"DNA counts\")\n",
    "display(pd.DataFrame(mpra_barcode_data.dna_counts[:,0:5], index=mpra_barcode_data.obs_names, columns=mpra_barcode_data.var_names[0:5]))\n",
    "print(\"RNA counts\")\n",
    "display(pd.DataFrame(mpra_barcode_data.rna_counts[:,0:5], index=mpra_barcode_data.obs_names, columns=mpra_barcode_data.var_names[0:5]))\n"
   ]
  },
  {
   "cell_type": "markdown",
   "metadata": {},
   "source": [
    "### Correlation\n",
    "\n",
    "We can correlate replicates based on DNA/RNA counts or activity. We are able to do this on a barcode level. But usually this generates very very low correlations:"
   ]
  },
  {
   "cell_type": "code",
   "execution_count": 3,
   "metadata": {},
   "outputs": [
    {
     "name": "stdout",
     "output_type": "stream",
     "text": [
      "Pairwise Pearson correlation activity\n",
      "       1      2      3\n",
      "1  1.000  0.462  0.460\n",
      "2  0.462  1.000  0.478\n",
      "3  0.460  0.478  1.000\n",
      "Pairwise Pearson correlation normalized DNA\n",
      "       1      2      3\n",
      "1  1.000  0.843  0.832\n",
      "2  0.843  1.000  0.834\n",
      "3  0.832  0.834  1.000\n",
      "Pairwise Pearson correlation normalized RNA\n",
      "       1      2      3\n",
      "1  1.000  0.906  0.901\n",
      "2  0.906  1.000  0.917\n",
      "3  0.901  0.917  1.000\n"
     ]
    }
   ],
   "source": [
    "from mpralib.mpradata import Modality\n",
    "print(\"Pairwise Pearson correlation activity\")\n",
    "print(pd.DataFrame(mpra_barcode_data.correlation(), index=mpra_barcode_data.obs_names, columns=mpra_barcode_data.obs_names).round(3))\n",
    "print(\"Pairwise Pearson correlation normalized DNA\")\n",
    "print(pd.DataFrame(mpra_barcode_data.correlation(count_type=Modality.DNA_NORMALIZED), index=mpra_barcode_data.obs_names, columns=mpra_barcode_data.obs_names).round(3))\n",
    "print(\"Pairwise Pearson correlation normalized RNA\")\n",
    "print(pd.DataFrame(mpra_barcode_data.correlation(count_type=Modality.RNA_NORMALIZED), index=mpra_barcode_data.obs_names, columns=mpra_barcode_data.obs_names).round(3))"
   ]
  },
  {
   "cell_type": "markdown",
   "metadata": {},
   "source": [
    "So let's do this for aggregated data (per Oligo not per barcode):"
   ]
  },
  {
   "cell_type": "code",
   "execution_count": 4,
   "metadata": {},
   "outputs": [
    {
     "name": "stdout",
     "output_type": "stream",
     "text": [
      "Pairwise Pearson correlation\n",
      "       1      2      3\n",
      "1  1.000  0.578  0.002\n",
      "2  0.578  1.000 -0.000\n",
      "3  0.002 -0.000  1.000\n",
      "Parwise Spearman correlation\n",
      "       1      2      3\n",
      "1  1.000  0.927  0.923\n",
      "2  0.927  1.000  0.947\n",
      "3  0.923  0.947  1.000\n",
      "Mean Pearson correlation activity, BC threshold 1: 0.967\n",
      "Mean Pearson correlation RNA counts (normalized), BC threshold 1: 0.662\n",
      "Mean Pearson correlation DNA counts (normalized), BC threshold 1: 0.64\n",
      "\n",
      "Mean Pearson correlation activity, BC threshold 10: 0.979\n",
      "Mean Pearson correlation RNA counts (normalized), BC threshold 10: 0.664\n",
      "Mean Pearson correlation DNA counts (normalized), BC threshold 10: 0.648\n",
      "\n",
      "Mean Pearson correlation activity, BC threshold 50: 0.981\n",
      "Mean Pearson correlation RNA counts (normalized), BC threshold 50: 0.664\n",
      "Mean Pearson correlation DNA counts (normalized), BC threshold 50: 0.647\n",
      "\n"
     ]
    }
   ],
   "source": [
    "mpra_oligo_data = mpra_barcode_data.oligo_data\n",
    "\n",
    "print(\"Pairwise Pearson correlation\")\n",
    "print(pd.DataFrame(mpra_oligo_data.correlation(), index=mpra_oligo_data.obs_names, columns=mpra_oligo_data.obs_names).round(3))\n",
    "print(\"Parwise Spearman correlation\")\n",
    "print(pd.DataFrame(mpra_oligo_data.correlation(method=\"spearman\"), index=mpra_oligo_data.obs_names, columns=mpra_oligo_data.obs_names).round(3))\n",
    "\n",
    "\n",
    "# Setting a different barcode threshold 1, 10, 50 and getting the average across replicates\n",
    "for threshold in [1, 10, 50]:\n",
    "    mpra_oligo_data.barcode_threshold = threshold\n",
    "    print(f\"Mean Pearson correlation activity, BC threshold {mpra_oligo_data.barcode_threshold}: {mpra_oligo_data.correlation().flatten()[[1,2,5]].mean().round(3)}\")\n",
    "    \n",
    "    print(f\"Mean Pearson correlation RNA counts (normalized), BC threshold {mpra_oligo_data.barcode_threshold}: {np.mean(np.triu(mpra_oligo_data.correlation(count_type=Modality.RNA_NORMALIZED))).round(3)}\")\n",
    "    \n",
    "    print(f\"Mean Pearson correlation DNA counts (normalized), BC threshold {mpra_oligo_data.barcode_threshold}: {np.mean(np.triu(mpra_oligo_data.correlation(count_type=Modality.DNA_NORMALIZED))).round(3)}\")\n",
    "\n",
    "    print(\"\")"
   ]
  },
  {
   "cell_type": "markdown",
   "metadata": {},
   "source": [
    "Using a higher threshold will also reduce our oligos available per replicate:"
   ]
  },
  {
   "cell_type": "code",
   "execution_count": 5,
   "metadata": {},
   "outputs": [
    {
     "name": "stdout",
     "output_type": "stream",
     "text": [
      "Number of oligos per individual replicate, using BC threshold 1\n",
      "[7436 7437 7439]\n",
      "Number of oligos per individual replicate, using BC threshold 10\n",
      "[7288 7288 7287]\n",
      "Number of oligos per individual replicate, using BC threshold 50\n",
      "[7123 7132 7122]\n"
     ]
    }
   ],
   "source": [
    "for threshold in [1, 10, 50]:\n",
    "    mpra_oligo_data.barcode_threshold = threshold\n",
    "    print(f\"Number of oligos per individual replicate, using BC threshold {mpra_oligo_data.barcode_threshold}\")\n",
    "    print(np.sum(mpra_oligo_data.barcode_counts >= mpra_oligo_data.barcode_threshold,axis=1))\n"
   ]
  },
  {
   "cell_type": "markdown",
   "metadata": {},
   "source": [
    "We can also plot the correlation. Let's do it for barcode_threshold 50:"
   ]
  },
  {
   "cell_type": "code",
   "execution_count": 6,
   "metadata": {},
   "outputs": [
    {
     "data": {
      "text/plain": [
       "<seaborn.axisgrid.PairGrid at 0x7f827d4bcaa0>"
      ]
     },
     "execution_count": 6,
     "metadata": {},
     "output_type": "execute_result"
    },
    {
     "data": {
      "image/png": "[encoded data removed]",
      "text/plain": [
       "<Figure size 750x750 with 12 Axes>"
      ]
     },
     "metadata": {},
     "output_type": "display_data"
    }
   ],
   "source": [
    "from mpralib.utils.plot import correlation\n",
    "mpra_oligo_data.barcode_threshold = 50\n",
    "correlation(mpra_oligo_data, Modality.ACTIVITY)"
   ]
  },
  {
   "cell_type": "markdown",
   "metadata": {},
   "source": [
    "We have other usefull plots. E.g. We ant to see if we basically have activity in the data. So that we see on different DNA levels different RNA activities. So we plot now normalized DNA vs normalized RNA (mediana across replicates)"
   ]
  },
  {
   "cell_type": "code",
   "execution_count": 7,
   "metadata": {},
   "outputs": [
    {
     "name": "stderr",
     "output_type": "stream",
     "text": [
      "/home/mschubach/miniforge3/envs/jupyter/lib/python3.12/site-packages/numpy/_core/fromnumeric.py:868: UserWarning: Warning: 'partition' will ignore the 'mask' of the MaskedArray.\n",
      "  a.partition(kth, axis=axis, kind=kind, order=order)\n",
      "/home/mschubach/miniforge3/envs/jupyter/lib/python3.12/site-packages/mpralib/utils/plot.py:63: RuntimeWarning: divide by zero encountered in log10\n",
      "  df = pd.DataFrame({\"DNA [log10]\": np.log10(median_dna), \"RNA [log10]\": np.log10(median_rna)})\n"
     ]
    },
    {
     "data": {
      "text/plain": [
       "<seaborn.axisgrid.JointGrid at 0x7f827cff0320>"
      ]
     },
     "execution_count": 7,
     "metadata": {},
     "output_type": "execute_result"
    },
    {
     "data": {
      "image/png": "[encoded data removed]",
      "text/plain": [
       "<Figure size 600x600 with 3 Axes>"
      ]
     },
     "metadata": {},
     "output_type": "display_data"
    }
   ],
   "source": [
    "from mpralib.utils.plot import dna_vs_rna,barcodes_per_oligo\n",
    "mpra_oligo_data.barcode_threshold = 1\n",
    "dna_vs_rna(mpra_oligo_data)"
   ]
  },
  {
   "cell_type": "markdown",
   "metadata": {},
   "source": [
    "Looks very good. The dots follow nearly a vertical line. When they would follow the dashed line we basically have no different activity in our data. So this is a good sign.\n",
    "\n",
    "Also would be great to know how many barcodes per oligo we have:"
   ]
  },
  {
   "cell_type": "code",
   "execution_count": 8,
   "metadata": {},
   "outputs": [
    {
     "data": {
      "text/plain": [
       "<seaborn.axisgrid.FacetGrid at 0x7f82a4fc0a10>"
      ]
     },
     "execution_count": 8,
     "metadata": {},
     "output_type": "execute_result"
    },
    {
     "data": {
      "image/png": "[encoded data removed]",
      "text/plain": [
       "<Figure size 900x300 with 3 Axes>"
      ]
     },
     "metadata": {},
     "output_type": "display_data"
    }
   ],
   "source": [
    "barcodes_per_oligo(mpra_oligo_data)"
   ]
  },
  {
   "cell_type": "markdown",
   "metadata": {},
   "source": [
    "## Barcode filtering and outlier detection\n",
    "\n",
    "There is some pre-build function to remove barcodes from experiments. This is done via the function `MPRAData.apply_barcode_filter()`. This function has pre-build filters like setting a minimum or maximum threshold for counts. E.g. you want to remove very very high barcode counts or you 'trust' only barcode counts with 3 RNA counts to remove noisy data. The functin can also randomly remove barcodes if you want to downsample your data on barcodes (Which correspons to removing barcodes from your assignment, theerfor ehaving a lower quality/lower depth assignment file).\n",
    "\n",
    "But it can also detect outlier barcodes. E.g. if you want to remove barcodes that do not follow the distribution per oligo. This is usually done per repliacte.\n",
    "\n",
    "Now we try to remove barcodes that are outliers within the RNA counts using the zscore:"
   ]
  },
  {
   "cell_type": "code",
   "execution_count": 9,
   "metadata": {},
   "outputs": [
    {
     "name": "stdout",
     "output_type": "stream",
     "text": [
      "Mean Pearson correlation before BC filter, BC threshold 10\n",
      "0.66\n",
      "Number of oligs\n",
      "[7288 7288 7287]\n",
      "Mean Pearson correlation after BC filter, BC threshold 10\n",
      "0.66\n",
      "Number of oligs\n",
      "[7288 7288 7287]\n"
     ]
    }
   ],
   "source": [
    "from mpralib.mpradata import BarcodeFilter\n",
    "\n",
    "# using standard number of barcodes per oligo\n",
    "mpra_barcode_data.barcode_threshold = 10\n",
    "\n",
    "# Resetting the barcode filter\n",
    "mpra_barcode_data.barcode_filter = None\n",
    "mpra_oligo_data = mpra_barcode_data.oligo_data\n",
    "print(f\"Mean Pearson correlation before BC filter, BC threshold {mpra_oligo_data.barcode_threshold}\")\n",
    "print(np.mean(np.triu(mpra_oligo_data.correlation())).round(3))\n",
    "print(f\"Number of oligs\")\n",
    "print(np.sum(mpra_oligo_data.barcode_counts >= mpra_oligo_data.barcode_threshold,axis=1))\n",
    "\n",
    "# Apply filter\n",
    "mpra_barcode_data.apply_barcode_filter(BarcodeFilter.RNA_ZSCORE, {\"times_zscore\": 3})\n",
    "\n",
    "mpra_oligo_data = mpra_barcode_data.oligo_data\n",
    "print(f\"Mean Pearson correlation after BC filter, BC threshold {mpra_oligo_data.barcode_threshold}\")\n",
    "print(np.mean(np.triu(mpra_oligo_data.correlation())).round(3))\n",
    "print(f\"Number of oligs\")\n",
    "print(np.sum(mpra_oligo_data.barcode_counts >= mpra_oligo_data.barcode_threshold,axis=1))"
   ]
  },
  {
   "cell_type": "markdown",
   "metadata": {},
   "source": [
    "You see we keeping number of oligos the same but our Person correlaton was (slightly) increased. Now we want to see the barcodes that were removed. We can access them using the  `MPRAData.barcode_filter` matrix on the `MPRAData.var` (our barcodes) object. We also compute all barcodes that are consistently renoved across repliactes."
   ]
  },
  {
   "cell_type": "code",
   "execution_count": 10,
   "metadata": {},
   "outputs": [
    {
     "name": "stdout",
     "output_type": "stream",
     "text": [
      "Number of removed barcodes in replicate 0: 27071\n",
      "Number of removed barcodes in replicate 1: 27121\n",
      "Number of removed barcodes in replicate 2: 26857\n",
      "Number of common barcodes: 9999\n",
      "Common barcodes: Index(['CAATAAAAAGAGATG', 'CTCGCTTGCTGCAAG', 'CGGCGGCCAACGCAC',\n",
      "       'TCCCCAGCGGATGCT', 'CCGTGCCAGTTATTG', 'CCCCCGTGCCCACCG',\n",
      "       'AAGATCCTGCTGTCG', 'TCCACACCTACCTCA', 'CACCTCAACACGCAC',\n",
      "       'CTAGAGACCGAAGGA',\n",
      "       ...\n",
      "       'CCCGCCGCCCCCCGG', 'ACGCGCGATACGGAG', 'TTAAGCTCAACTTAC',\n",
      "       'GTGCATCGTCCTCGC', 'CGTAACGCCCGCCAG', 'TCTTTAACCTGATCT',\n",
      "       'AAATAAAGAGGTAAC', 'CCACTAGAACGCTGA', 'AGGACAACAATTTGA',\n",
      "       'CACATATAACTACGA'],\n",
      "      dtype='object', name='barcode', length=9999)\n"
     ]
    }
   ],
   "source": [
    "common_barcodes = None\n",
    "for i, replicate in enumerate(mpra_barcode_data.var_filter):\n",
    "    print(f\"Number of removed barcodes in replicate {i}: {len(mpra_barcode_data.data.var_names[mpra_barcode_data.var_filter.iloc[:,i]])}\")\n",
    "    if common_barcodes is None:\n",
    "        common_barcodes = mpra_barcode_data.data.var_names[mpra_barcode_data.var_filter.iloc[:,i]]\n",
    "    else:\n",
    "        common_barcodes = common_barcodes.intersection(mpra_barcode_data.data.var_names[mpra_barcode_data.var_filter.iloc[:,i]])\n",
    "print(f\"Number of common barcodes: {len(common_barcodes)}\")\n",
    "print(f\"Common barcodes: {common_barcodes}\")"
   ]
  },
  {
   "cell_type": "markdown",
   "metadata": {},
   "source": [
    "Let's see if we achieve something else when allowing only a higher number of DNA and RNA counts:"
   ]
  },
  {
   "cell_type": "code",
   "execution_count": 11,
   "metadata": {},
   "outputs": [
    {
     "name": "stdout",
     "output_type": "stream",
     "text": [
      "Mean Pearson correlation before BC filter, BC threshold 10\n",
      "0.66\n",
      "Number of oligs\n",
      "[7288 7288 7287]\n",
      "Mean Pearson correlation before BC filter, BC threshold 10\n",
      "0.659\n",
      "Number of oligs\n",
      "[7276 7277 7276]\n"
     ]
    }
   ],
   "source": [
    "mpra_barcode_data.var_filter = None\n",
    "\n",
    "mpra_oligo_data = mpra_barcode_data.oligo_data\n",
    "print(f\"Mean Pearson correlation before BC filter, BC threshold {mpra_oligo_data.barcode_threshold}\")\n",
    "print(np.mean(np.triu(mpra_oligo_data.correlation())).round(3))\n",
    "print(f\"Number of oligs\")\n",
    "print(np.sum(mpra_oligo_data.barcode_counts >= mpra_oligo_data.barcode_threshold,axis=1))\n",
    "\n",
    "# Apply filter\n",
    "mpra_barcode_data.apply_barcode_filter(BarcodeFilter.MIN_COUNT, {\"dna_min_count\": 2, \"rna_min_count\": 4})\n",
    "\n",
    "mpra_oligo_data = mpra_barcode_data.oligo_data\n",
    "print(f\"Mean Pearson correlation before BC filter, BC threshold {mpra_oligo_data.barcode_threshold}\")\n",
    "print(np.mean(np.triu(mpra_oligo_data.correlation())).round(3))\n",
    "print(f\"Number of oligs\")\n",
    "print(np.sum(mpra_oligo_data.barcode_counts >= mpra_oligo_data.barcode_threshold,axis=1))"
   ]
  },
  {
   "cell_type": "markdown",
   "metadata": {},
   "source": [
    "This reduces our correlation and also the number of oligos. that fullfills the BC threshold 10 criteria."
   ]
  },
  {
   "cell_type": "markdown",
   "metadata": {},
   "source": [
    "## Saving activity files.\n",
    "\n",
    "Finally we want to safe our oligo activities. We have a pre-build function for that."
   ]
  },
  {
   "cell_type": "code",
   "execution_count": 12,
   "metadata": {},
   "outputs": [
    {
     "data": {
      "application/vnd.microsoft.datawrangler.viewer.v0+json": {
       "columns": [
        {
         "name": "index",
         "rawType": "int64",
         "type": "integer"
        },
        {
         "name": "replicate",
         "rawType": "int64",
         "type": "integer"
        },
        {
         "name": "oligo_name",
         "rawType": "object",
         "type": "string"
        },
        {
         "name": "dna_counts",
         "rawType": "int64",
         "type": "integer"
        },
        {
         "name": "rna_counts",
         "rawType": "int64",
         "type": "integer"
        },
        {
         "name": "dna_normalized",
         "rawType": "float64",
         "type": "float"
        },
        {
         "name": "rna_normalized",
         "rawType": "float64",
         "type": "float"
        },
        {
         "name": "log2FoldChange",
         "rawType": "float64",
         "type": "float"
        },
        {
         "name": "n_bc",
         "rawType": "int64",
         "type": "integer"
        }
       ],
       "conversionMethod": "pd.DataFrame",
       "ref": "e2bcd9b2-bf2b-47c7-9106-c20948d0deb2",
       "rows": [
        [
         "0",
         "1",
         "Negative_100_(chr20:23361299-23361499)",
         "1806",
         "2963",
         "0.9689",
         "0.8788",
         "-0.1408",
         "161"
        ],
        [
         "1",
         "1",
         "Negative_101_(chr20:45230745-45230945)",
         "1190",
         "2667",
         "0.7169",
         "0.8614",
         "0.2648",
         "148"
        ],
        [
         "2",
         "1",
         "Negative_102_(chr20:51863129-51863329)",
         "3964",
         "4875",
         "0.9289",
         "0.642",
         "-0.533",
         "370"
        ],
        [
         "3",
         "1",
         "Negative_103_(chr20:5611877-5612077)",
         "1081",
         "1618",
         "0.8058",
         "0.6663",
         "-0.2743",
         "118"
        ],
        [
         "4",
         "1",
         "Negative_104_(chr20:9067910-9068110)",
         "1514",
         "1832",
         "0.8392",
         "0.5704",
         "-0.557",
         "158"
        ],
        [
         "5",
         "1",
         "Negative_105_(chr21:43076112-43076312)",
         "1280",
         "1309",
         "0.8483",
         "0.4944",
         "-0.7789",
         "132"
        ],
        [
         "6",
         "1",
         "Negative_106_(chr22:20981319-20981519)",
         "1031",
         "1147",
         "0.8363",
         "0.5263",
         "-0.6683",
         "108"
        ],
        [
         "7",
         "1",
         "Negative_107_(chr22:21044386-21044586)",
         "1498",
         "1434",
         "0.9861",
         "0.541",
         "-0.866",
         "131"
        ],
        [
         "8",
         "1",
         "Negative_108_(chr22:22898023-22898223)",
         "1566",
         "2117",
         "0.8555",
         "0.6445",
         "-0.4085",
         "160"
        ],
        [
         "9",
         "1",
         "Negative_109_(chr22:23856687-23856887)",
         "1031",
         "1285",
         "0.8093",
         "0.5649",
         "-0.5187",
         "112"
        ],
        [
         "10",
         "1",
         "Negative_10_(chr1:181023570-181023770)",
         "1971",
         "2712",
         "0.885",
         "0.6784",
         "-0.3836",
         "194"
        ],
        [
         "11",
         "1",
         "Negative_110_(chr22:50672526-50672726)",
         "2134",
         "2579",
         "1.5903",
         "1.0881",
         "-0.5474",
         "112"
        ],
        [
         "12",
         "1",
         "Negative_111_(chr3:129893019-129893219)",
         "1949",
         "3177",
         "0.8719",
         "0.7831",
         "-0.1549",
         "195"
        ],
        [
         "13",
         "1",
         "Negative_112_(chr3:153473216-153473416)",
         "1151",
         "1676",
         "0.9244",
         "0.7481",
         "-0.3054",
         "108"
        ],
        [
         "14",
         "1",
         "Negative_113_(chr3:42052284-42052484)",
         "1367",
         "1786",
         "0.8883",
         "0.6489",
         "-0.453",
         "134"
        ],
        [
         "15",
         "1",
         "Negative_114_(chr3:57492550-57492750)",
         "730",
         "735",
         "0.9982",
         "0.5736",
         "-0.7992",
         "63"
        ],
        [
         "16",
         "1",
         "Negative_115_(chr4:152537451-152537651)",
         "1418",
         "1796",
         "1.0571",
         "0.7526",
         "-0.4903",
         "115"
        ],
        [
         "17",
         "1",
         "Negative_116_(chr4:15702461-15702661)",
         "2085",
         "3174",
         "0.9186",
         "0.775",
         "-0.2453",
         "197"
        ],
        [
         "18",
         "1",
         "Negative_117_(chr4:15776387-15776587)",
         "503",
         "549",
         "0.928",
         "0.5743",
         "-0.6923",
         "47"
        ],
        [
         "19",
         "1",
         "Negative_118_(chr4:188455387-188455587)",
         "950",
         "964",
         "0.8403",
         "0.4863",
         "-0.7891",
         "99"
        ]
       ],
       "shape": {
        "columns": 8,
        "rows": 20
       }
      },
      "text/html": [
       "<div>\n",
       "<style scoped>\n",
       "    .dataframe tbody tr th:only-of-type {\n",
       "        vertical-align: middle;\n",
       "    }\n",
       "\n",
       "    .dataframe tbody tr th {\n",
       "        vertical-align: top;\n",
       "    }\n",
       "\n",
       "    .dataframe thead th {\n",
       "        text-align: right;\n",
       "    }\n",
       "</style>\n",
       "<table border=\"1\" class=\"dataframe\">\n",
       "  <thead>\n",
       "    <tr style=\"text-align: right;\">\n",
       "      <th></th>\n",
       "      <th>replicate</th>\n",
       "      <th>oligo_name</th>\n",
       "      <th>dna_counts</th>\n",
       "      <th>rna_counts</th>\n",
       "      <th>dna_normalized</th>\n",
       "      <th>rna_normalized</th>\n",
       "      <th>log2FoldChange</th>\n",
       "      <th>n_bc</th>\n",
       "    </tr>\n",
       "  </thead>\n",
       "  <tbody>\n",
       "    <tr>\n",
       "      <th>0</th>\n",
       "      <td>1</td>\n",
       "      <td>Negative_100_(chr20:23361299-23361499)</td>\n",
       "      <td>1806</td>\n",
       "      <td>2963</td>\n",
       "      <td>0.9689</td>\n",
       "      <td>0.8788</td>\n",
       "      <td>-0.1408</td>\n",
       "      <td>161</td>\n",
       "    </tr>\n",
       "    <tr>\n",
       "      <th>1</th>\n",
       "      <td>1</td>\n",
       "      <td>Negative_101_(chr20:45230745-45230945)</td>\n",
       "      <td>1190</td>\n",
       "      <td>2667</td>\n",
       "      <td>0.7169</td>\n",
       "      <td>0.8614</td>\n",
       "      <td>0.2648</td>\n",
       "      <td>148</td>\n",
       "    </tr>\n",
       "    <tr>\n",
       "      <th>2</th>\n",
       "      <td>1</td>\n",
       "      <td>Negative_102_(chr20:51863129-51863329)</td>\n",
       "      <td>3964</td>\n",
       "      <td>4875</td>\n",
       "      <td>0.9289</td>\n",
       "      <td>0.6420</td>\n",
       "      <td>-0.5330</td>\n",
       "      <td>370</td>\n",
       "    </tr>\n",
       "    <tr>\n",
       "      <th>3</th>\n",
       "      <td>1</td>\n",
       "      <td>Negative_103_(chr20:5611877-5612077)</td>\n",
       "      <td>1081</td>\n",
       "      <td>1618</td>\n",
       "      <td>0.8058</td>\n",
       "      <td>0.6663</td>\n",
       "      <td>-0.2743</td>\n",
       "      <td>118</td>\n",
       "    </tr>\n",
       "    <tr>\n",
       "      <th>4</th>\n",
       "      <td>1</td>\n",
       "      <td>Negative_104_(chr20:9067910-9068110)</td>\n",
       "      <td>1514</td>\n",
       "      <td>1832</td>\n",
       "      <td>0.8392</td>\n",
       "      <td>0.5704</td>\n",
       "      <td>-0.5570</td>\n",
       "      <td>158</td>\n",
       "    </tr>\n",
       "    <tr>\n",
       "      <th>5</th>\n",
       "      <td>1</td>\n",
       "      <td>Negative_105_(chr21:43076112-43076312)</td>\n",
       "      <td>1280</td>\n",
       "      <td>1309</td>\n",
       "      <td>0.8483</td>\n",
       "      <td>0.4944</td>\n",
       "      <td>-0.7789</td>\n",
       "      <td>132</td>\n",
       "    </tr>\n",
       "    <tr>\n",
       "      <th>6</th>\n",
       "      <td>1</td>\n",
       "      <td>Negative_106_(chr22:20981319-20981519)</td>\n",
       "      <td>1031</td>\n",
       "      <td>1147</td>\n",
       "      <td>0.8363</td>\n",
       "      <td>0.5263</td>\n",
       "      <td>-0.6683</td>\n",
       "      <td>108</td>\n",
       "    </tr>\n",
       "    <tr>\n",
       "      <th>7</th>\n",
       "      <td>1</td>\n",
       "      <td>Negative_107_(chr22:21044386-21044586)</td>\n",
       "      <td>1498</td>\n",
       "      <td>1434</td>\n",
       "      <td>0.9861</td>\n",
       "      <td>0.5410</td>\n",
       "      <td>-0.8660</td>\n",
       "      <td>131</td>\n",
       "    </tr>\n",
       "    <tr>\n",
       "      <th>8</th>\n",
       "      <td>1</td>\n",
       "      <td>Negative_108_(chr22:22898023-22898223)</td>\n",
       "      <td>1566</td>\n",
       "      <td>2117</td>\n",
       "      <td>0.8555</td>\n",
       "      <td>0.6445</td>\n",
       "      <td>-0.4085</td>\n",
       "      <td>160</td>\n",
       "    </tr>\n",
       "    <tr>\n",
       "      <th>9</th>\n",
       "      <td>1</td>\n",
       "      <td>Negative_109_(chr22:23856687-23856887)</td>\n",
       "      <td>1031</td>\n",
       "      <td>1285</td>\n",
       "      <td>0.8093</td>\n",
       "      <td>0.5649</td>\n",
       "      <td>-0.5187</td>\n",
       "      <td>112</td>\n",
       "    </tr>\n",
       "    <tr>\n",
       "      <th>10</th>\n",
       "      <td>1</td>\n",
       "      <td>Negative_10_(chr1:181023570-181023770)</td>\n",
       "      <td>1971</td>\n",
       "      <td>2712</td>\n",
       "      <td>0.8850</td>\n",
       "      <td>0.6784</td>\n",
       "      <td>-0.3836</td>\n",
       "      <td>194</td>\n",
       "    </tr>\n",
       "    <tr>\n",
       "      <th>11</th>\n",
       "      <td>1</td>\n",
       "      <td>Negative_110_(chr22:50672526-50672726)</td>\n",
       "      <td>2134</td>\n",
       "      <td>2579</td>\n",
       "      <td>1.5903</td>\n",
       "      <td>1.0881</td>\n",
       "      <td>-0.5474</td>\n",
       "      <td>112</td>\n",
       "    </tr>\n",
       "    <tr>\n",
       "      <th>12</th>\n",
       "      <td>1</td>\n",
       "      <td>Negative_111_(chr3:129893019-129893219)</td>\n",
       "      <td>1949</td>\n",
       "      <td>3177</td>\n",
       "      <td>0.8719</td>\n",
       "      <td>0.7831</td>\n",
       "      <td>-0.1549</td>\n",
       "      <td>195</td>\n",
       "    </tr>\n",
       "    <tr>\n",
       "      <th>13</th>\n",
       "      <td>1</td>\n",
       "      <td>Negative_112_(chr3:153473216-153473416)</td>\n",
       "      <td>1151</td>\n",
       "      <td>1676</td>\n",
       "      <td>0.9244</td>\n",
       "      <td>0.7481</td>\n",
       "      <td>-0.3054</td>\n",
       "      <td>108</td>\n",
       "    </tr>\n",
       "    <tr>\n",
       "      <th>14</th>\n",
       "      <td>1</td>\n",
       "      <td>Negative_113_(chr3:42052284-42052484)</td>\n",
       "      <td>1367</td>\n",
       "      <td>1786</td>\n",
       "      <td>0.8883</td>\n",
       "      <td>0.6489</td>\n",
       "      <td>-0.4530</td>\n",
       "      <td>134</td>\n",
       "    </tr>\n",
       "    <tr>\n",
       "      <th>15</th>\n",
       "      <td>1</td>\n",
       "      <td>Negative_114_(chr3:57492550-57492750)</td>\n",
       "      <td>730</td>\n",
       "      <td>735</td>\n",
       "      <td>0.9982</td>\n",
       "      <td>0.5736</td>\n",
       "      <td>-0.7992</td>\n",
       "      <td>63</td>\n",
       "    </tr>\n",
       "    <tr>\n",
       "      <th>16</th>\n",
       "      <td>1</td>\n",
       "      <td>Negative_115_(chr4:152537451-152537651)</td>\n",
       "      <td>1418</td>\n",
       "      <td>1796</td>\n",
       "      <td>1.0571</td>\n",
       "      <td>0.7526</td>\n",
       "      <td>-0.4903</td>\n",
       "      <td>115</td>\n",
       "    </tr>\n",
       "    <tr>\n",
       "      <th>17</th>\n",
       "      <td>1</td>\n",
       "      <td>Negative_116_(chr4:15702461-15702661)</td>\n",
       "      <td>2085</td>\n",
       "      <td>3174</td>\n",
       "      <td>0.9186</td>\n",
       "      <td>0.7750</td>\n",
       "      <td>-0.2453</td>\n",
       "      <td>197</td>\n",
       "    </tr>\n",
       "    <tr>\n",
       "      <th>18</th>\n",
       "      <td>1</td>\n",
       "      <td>Negative_117_(chr4:15776387-15776587)</td>\n",
       "      <td>503</td>\n",
       "      <td>549</td>\n",
       "      <td>0.9280</td>\n",
       "      <td>0.5743</td>\n",
       "      <td>-0.6923</td>\n",
       "      <td>47</td>\n",
       "    </tr>\n",
       "    <tr>\n",
       "      <th>19</th>\n",
       "      <td>1</td>\n",
       "      <td>Negative_118_(chr4:188455387-188455587)</td>\n",
       "      <td>950</td>\n",
       "      <td>964</td>\n",
       "      <td>0.8403</td>\n",
       "      <td>0.4863</td>\n",
       "      <td>-0.7891</td>\n",
       "      <td>99</td>\n",
       "    </tr>\n",
       "  </tbody>\n",
       "</table>\n",
       "</div>"
      ],
      "text/plain": [
       "    replicate                               oligo_name  dna_counts  \\\n",
       "0           1   Negative_100_(chr20:23361299-23361499)        1806   \n",
       "1           1   Negative_101_(chr20:45230745-45230945)        1190   \n",
       "2           1   Negative_102_(chr20:51863129-51863329)        3964   \n",
       "3           1     Negative_103_(chr20:5611877-5612077)        1081   \n",
       "4           1     Negative_104_(chr20:9067910-9068110)        1514   \n",
       "5           1   Negative_105_(chr21:43076112-43076312)        1280   \n",
       "6           1   Negative_106_(chr22:20981319-20981519)        1031   \n",
       "7           1   Negative_107_(chr22:21044386-21044586)        1498   \n",
       "8           1   Negative_108_(chr22:22898023-22898223)        1566   \n",
       "9           1   Negative_109_(chr22:23856687-23856887)        1031   \n",
       "10          1   Negative_10_(chr1:181023570-181023770)        1971   \n",
       "11          1   Negative_110_(chr22:50672526-50672726)        2134   \n",
       "12          1  Negative_111_(chr3:129893019-129893219)        1949   \n",
       "13          1  Negative_112_(chr3:153473216-153473416)        1151   \n",
       "14          1    Negative_113_(chr3:42052284-42052484)        1367   \n",
       "15          1    Negative_114_(chr3:57492550-57492750)         730   \n",
       "16          1  Negative_115_(chr4:152537451-152537651)        1418   \n",
       "17          1    Negative_116_(chr4:15702461-15702661)        2085   \n",
       "18          1    Negative_117_(chr4:15776387-15776587)         503   \n",
       "19          1  Negative_118_(chr4:188455387-188455587)         950   \n",
       "\n",
       "    rna_counts  dna_normalized  rna_normalized  log2FoldChange  n_bc  \n",
       "0         2963          0.9689          0.8788         -0.1408   161  \n",
       "1         2667          0.7169          0.8614          0.2648   148  \n",
       "2         4875          0.9289          0.6420         -0.5330   370  \n",
       "3         1618          0.8058          0.6663         -0.2743   118  \n",
       "4         1832          0.8392          0.5704         -0.5570   158  \n",
       "5         1309          0.8483          0.4944         -0.7789   132  \n",
       "6         1147          0.8363          0.5263         -0.6683   108  \n",
       "7         1434          0.9861          0.5410         -0.8660   131  \n",
       "8         2117          0.8555          0.6445         -0.4085   160  \n",
       "9         1285          0.8093          0.5649         -0.5187   112  \n",
       "10        2712          0.8850          0.6784         -0.3836   194  \n",
       "11        2579          1.5903          1.0881         -0.5474   112  \n",
       "12        3177          0.8719          0.7831         -0.1549   195  \n",
       "13        1676          0.9244          0.7481         -0.3054   108  \n",
       "14        1786          0.8883          0.6489         -0.4530   134  \n",
       "15         735          0.9982          0.5736         -0.7992    63  \n",
       "16        1796          1.0571          0.7526         -0.4903   115  \n",
       "17        3174          0.9186          0.7750         -0.2453   197  \n",
       "18         549          0.9280          0.5743         -0.6923    47  \n",
       "19         964          0.8403          0.4863         -0.7891    99  "
      ]
     },
     "metadata": {},
     "output_type": "display_data"
    }
   ],
   "source": [
    "from mpralib.utils.io import export_activity_file, export_barcode_file\n",
    "export_activity_file(mpra_oligo_data, \"activity.tsv.gz\")\n",
    "\n",
    "df = pd.read_csv(\"activity.tsv.gz\", sep='\\t', nrows = 20)\n",
    "display(df)"
   ]
  },
  {
   "cell_type": "markdown",
   "metadata": {},
   "source": [
    "So every oligo per replicate is written into one row with its counts, normalized counts, log2 fold change and the number of supporting barcodes. \n",
    "\n",
    "Remark: We just load the first 20 oligos.\n",
    "\n",
    "We can also write out the results in a barcode format"
   ]
  },
  {
   "cell_type": "code",
   "execution_count": 13,
   "metadata": {},
   "outputs": [
    {
     "data": {
      "application/vnd.microsoft.datawrangler.viewer.v0+json": {
       "columns": [
        {
         "name": "index",
         "rawType": "int64",
         "type": "integer"
        },
        {
         "name": "barcode",
         "rawType": "object",
         "type": "string"
        },
        {
         "name": "oligo_name",
         "rawType": "object",
         "type": "string"
        },
        {
         "name": "dna_count_1",
         "rawType": "float64",
         "type": "float"
        },
        {
         "name": "rna_count_1",
         "rawType": "float64",
         "type": "float"
        },
        {
         "name": "dna_count_2",
         "rawType": "float64",
         "type": "float"
        },
        {
         "name": "rna_count_2",
         "rawType": "float64",
         "type": "float"
        },
        {
         "name": "dna_count_3",
         "rawType": "float64",
         "type": "float"
        },
        {
         "name": "rna_count_3",
         "rawType": "float64",
         "type": "float"
        }
       ],
       "conversionMethod": "pd.DataFrame",
       "ref": "fd4a9e8a-9c29-4734-86fd-c70b7659a5ae",
       "rows": [
        [
         "0",
         "CTAGGTAAGGCATAG",
         "Negative_100_(chr20:23361299-23361499)",
         "3.0",
         "4.0",
         null,
         null,
         null,
         null
        ],
        [
         "1",
         "GCCTAATACTTTTTA",
         "Negative_100_(chr20:23361299-23361499)",
         null,
         null,
         "4.0",
         "7.0",
         null,
         null
        ],
        [
         "2",
         "CAATGCCACAGAGAA",
         "Negative_100_(chr20:23361299-23361499)",
         null,
         null,
         null,
         null,
         null,
         null
        ],
        [
         "3",
         "TACCCTCAAGTAAAC",
         "Negative_100_(chr20:23361299-23361499)",
         null,
         null,
         "9.0",
         "16.0",
         "17.0",
         "27.0"
        ],
        [
         "4",
         "ATGGTACTTAGGAGT",
         "Negative_100_(chr20:23361299-23361499)",
         "2.0",
         "12.0",
         "5.0",
         "6.0",
         "3.0",
         "10.0"
        ],
        [
         "5",
         "GCGGCCGCTCCCCCG",
         "Negative_100_(chr20:23361299-23361499)",
         "14.0",
         "24.0",
         "15.0",
         "40.0",
         "15.0",
         "27.0"
        ],
        [
         "6",
         "AGATGGAAATGTAAA",
         "Negative_100_(chr20:23361299-23361499)",
         "8.0",
         "5.0",
         "7.0",
         "15.0",
         null,
         null
        ],
        [
         "7",
         "AGACTGAGAGTGTGA",
         "Negative_100_(chr20:23361299-23361499)",
         "40.0",
         "41.0",
         "28.0",
         "54.0",
         "25.0",
         "48.0"
        ],
        [
         "8",
         "ATCACCACTTTTTGA",
         "Negative_100_(chr20:23361299-23361499)",
         null,
         null,
         null,
         null,
         null,
         null
        ],
        [
         "9",
         "ACTTCACATTCTTTA",
         "Negative_100_(chr20:23361299-23361499)",
         null,
         null,
         null,
         null,
         null,
         null
        ],
        [
         "10",
         "GTGAAGGTGTTGGGT",
         "Negative_100_(chr20:23361299-23361499)",
         "9.0",
         "23.0",
         "14.0",
         "33.0",
         "9.0",
         "16.0"
        ],
        [
         "11",
         "GATAAAATATAGTTA",
         "Negative_100_(chr20:23361299-23361499)",
         "7.0",
         "10.0",
         "14.0",
         "10.0",
         "6.0",
         "10.0"
        ],
        [
         "12",
         "AAAAATAGCTTGGTC",
         "Negative_100_(chr20:23361299-23361499)",
         "3.0",
         "7.0",
         null,
         null,
         null,
         null
        ],
        [
         "13",
         "ACTTAAAAGCTGTTA",
         "Negative_100_(chr20:23361299-23361499)",
         "7.0",
         "11.0",
         "3.0",
         "18.0",
         "5.0",
         "8.0"
        ],
        [
         "14",
         "CAAGGTAACACCTTA",
         "Negative_100_(chr20:23361299-23361499)",
         "10.0",
         "16.0",
         "3.0",
         "7.0",
         "4.0",
         "15.0"
        ],
        [
         "15",
         "CAATAAAAAGAGATG",
         "Negative_100_(chr20:23361299-23361499)",
         "49.0",
         "73.0",
         "59.0",
         "86.0",
         "44.0",
         "69.0"
        ],
        [
         "16",
         "CCCACCGCCCCCGTC",
         "Negative_100_(chr20:23361299-23361499)",
         "10.0",
         "4.0",
         "7.0",
         "15.0",
         "5.0",
         "9.0"
        ],
        [
         "17",
         "GGTACGATCTCCTGA",
         "Negative_100_(chr20:23361299-23361499)",
         null,
         null,
         "6.0",
         "8.0",
         "4.0",
         "10.0"
        ],
        [
         "18",
         "AAATCCGGTATTCTA",
         "Negative_100_(chr20:23361299-23361499)",
         "6.0",
         "7.0",
         "11.0",
         "11.0",
         "8.0",
         "6.0"
        ],
        [
         "19",
         "GCAGTAATGTAATAC",
         "Negative_100_(chr20:23361299-23361499)",
         "3.0",
         "11.0",
         "5.0",
         "4.0",
         null,
         null
        ]
       ],
       "shape": {
        "columns": 8,
        "rows": 20
       }
      },
      "text/html": [
       "<div>\n",
       "<style scoped>\n",
       "    .dataframe tbody tr th:only-of-type {\n",
       "        vertical-align: middle;\n",
       "    }\n",
       "\n",
       "    .dataframe tbody tr th {\n",
       "        vertical-align: top;\n",
       "    }\n",
       "\n",
       "    .dataframe thead th {\n",
       "        text-align: right;\n",
       "    }\n",
       "</style>\n",
       "<table border=\"1\" class=\"dataframe\">\n",
       "  <thead>\n",
       "    <tr style=\"text-align: right;\">\n",
       "      <th></th>\n",
       "      <th>barcode</th>\n",
       "      <th>oligo_name</th>\n",
       "      <th>dna_count_1</th>\n",
       "      <th>rna_count_1</th>\n",
       "      <th>dna_count_2</th>\n",
       "      <th>rna_count_2</th>\n",
       "      <th>dna_count_3</th>\n",
       "      <th>rna_count_3</th>\n",
       "    </tr>\n",
       "  </thead>\n",
       "  <tbody>\n",
       "    <tr>\n",
       "      <th>0</th>\n",
       "      <td>CTAGGTAAGGCATAG</td>\n",
       "      <td>Negative_100_(chr20:23361299-23361499)</td>\n",
       "      <td>3.0</td>\n",
       "      <td>4.0</td>\n",
       "      <td>NaN</td>\n",
       "      <td>NaN</td>\n",
       "      <td>NaN</td>\n",
       "      <td>NaN</td>\n",
       "    </tr>\n",
       "    <tr>\n",
       "      <th>1</th>\n",
       "      <td>GCCTAATACTTTTTA</td>\n",
       "      <td>Negative_100_(chr20:23361299-23361499)</td>\n",
       "      <td>NaN</td>\n",
       "      <td>NaN</td>\n",
       "      <td>4.0</td>\n",
       "      <td>7.0</td>\n",
       "      <td>NaN</td>\n",
       "      <td>NaN</td>\n",
       "    </tr>\n",
       "    <tr>\n",
       "      <th>2</th>\n",
       "      <td>CAATGCCACAGAGAA</td>\n",
       "      <td>Negative_100_(chr20:23361299-23361499)</td>\n",
       "      <td>NaN</td>\n",
       "      <td>NaN</td>\n",
       "      <td>NaN</td>\n",
       "      <td>NaN</td>\n",
       "      <td>NaN</td>\n",
       "      <td>NaN</td>\n",
       "    </tr>\n",
       "    <tr>\n",
       "      <th>3</th>\n",
       "      <td>TACCCTCAAGTAAAC</td>\n",
       "      <td>Negative_100_(chr20:23361299-23361499)</td>\n",
       "      <td>NaN</td>\n",
       "      <td>NaN</td>\n",
       "      <td>9.0</td>\n",
       "      <td>16.0</td>\n",
       "      <td>17.0</td>\n",
       "      <td>27.0</td>\n",
       "    </tr>\n",
       "    <tr>\n",
       "      <th>4</th>\n",
       "      <td>ATGGTACTTAGGAGT</td>\n",
       "      <td>Negative_100_(chr20:23361299-23361499)</td>\n",
       "      <td>2.0</td>\n",
       "      <td>12.0</td>\n",
       "      <td>5.0</td>\n",
       "      <td>6.0</td>\n",
       "      <td>3.0</td>\n",
       "      <td>10.0</td>\n",
       "    </tr>\n",
       "    <tr>\n",
       "      <th>5</th>\n",
       "      <td>GCGGCCGCTCCCCCG</td>\n",
       "      <td>Negative_100_(chr20:23361299-23361499)</td>\n",
       "      <td>14.0</td>\n",
       "      <td>24.0</td>\n",
       "      <td>15.0</td>\n",
       "      <td>40.0</td>\n",
       "      <td>15.0</td>\n",
       "      <td>27.0</td>\n",
       "    </tr>\n",
       "    <tr>\n",
       "      <th>6</th>\n",
       "      <td>AGATGGAAATGTAAA</td>\n",
       "      <td>Negative_100_(chr20:23361299-23361499)</td>\n",
       "      <td>8.0</td>\n",
       "      <td>5.0</td>\n",
       "      <td>7.0</td>\n",
       "      <td>15.0</td>\n",
       "      <td>NaN</td>\n",
       "      <td>NaN</td>\n",
       "    </tr>\n",
       "    <tr>\n",
       "      <th>7</th>\n",
       "      <td>AGACTGAGAGTGTGA</td>\n",
       "      <td>Negative_100_(chr20:23361299-23361499)</td>\n",
       "      <td>40.0</td>\n",
       "      <td>41.0</td>\n",
       "      <td>28.0</td>\n",
       "      <td>54.0</td>\n",
       "      <td>25.0</td>\n",
       "      <td>48.0</td>\n",
       "    </tr>\n",
       "    <tr>\n",
       "      <th>8</th>\n",
       "      <td>ATCACCACTTTTTGA</td>\n",
       "      <td>Negative_100_(chr20:23361299-23361499)</td>\n",
       "      <td>NaN</td>\n",
       "      <td>NaN</td>\n",
       "      <td>NaN</td>\n",
       "      <td>NaN</td>\n",
       "      <td>NaN</td>\n",
       "      <td>NaN</td>\n",
       "    </tr>\n",
       "    <tr>\n",
       "      <th>9</th>\n",
       "      <td>ACTTCACATTCTTTA</td>\n",
       "      <td>Negative_100_(chr20:23361299-23361499)</td>\n",
       "      <td>NaN</td>\n",
       "      <td>NaN</td>\n",
       "      <td>NaN</td>\n",
       "      <td>NaN</td>\n",
       "      <td>NaN</td>\n",
       "      <td>NaN</td>\n",
       "    </tr>\n",
       "    <tr>\n",
       "      <th>10</th>\n",
       "      <td>GTGAAGGTGTTGGGT</td>\n",
       "      <td>Negative_100_(chr20:23361299-23361499)</td>\n",
       "      <td>9.0</td>\n",
       "      <td>23.0</td>\n",
       "      <td>14.0</td>\n",
       "      <td>33.0</td>\n",
       "      <td>9.0</td>\n",
       "      <td>16.0</td>\n",
       "    </tr>\n",
       "    <tr>\n",
       "      <th>11</th>\n",
       "      <td>GATAAAATATAGTTA</td>\n",
       "      <td>Negative_100_(chr20:23361299-23361499)</td>\n",
       "      <td>7.0</td>\n",
       "      <td>10.0</td>\n",
       "      <td>14.0</td>\n",
       "      <td>10.0</td>\n",
       "      <td>6.0</td>\n",
       "      <td>10.0</td>\n",
       "    </tr>\n",
       "    <tr>\n",
       "      <th>12</th>\n",
       "      <td>AAAAATAGCTTGGTC</td>\n",
       "      <td>Negative_100_(chr20:23361299-23361499)</td>\n",
       "      <td>3.0</td>\n",
       "      <td>7.0</td>\n",
       "      <td>NaN</td>\n",
       "      <td>NaN</td>\n",
       "      <td>NaN</td>\n",
       "      <td>NaN</td>\n",
       "    </tr>\n",
       "    <tr>\n",
       "      <th>13</th>\n",
       "      <td>ACTTAAAAGCTGTTA</td>\n",
       "      <td>Negative_100_(chr20:23361299-23361499)</td>\n",
       "      <td>7.0</td>\n",
       "      <td>11.0</td>\n",
       "      <td>3.0</td>\n",
       "      <td>18.0</td>\n",
       "      <td>5.0</td>\n",
       "      <td>8.0</td>\n",
       "    </tr>\n",
       "    <tr>\n",
       "      <th>14</th>\n",
       "      <td>CAAGGTAACACCTTA</td>\n",
       "      <td>Negative_100_(chr20:23361299-23361499)</td>\n",
       "      <td>10.0</td>\n",
       "      <td>16.0</td>\n",
       "      <td>3.0</td>\n",
       "      <td>7.0</td>\n",
       "      <td>4.0</td>\n",
       "      <td>15.0</td>\n",
       "    </tr>\n",
       "    <tr>\n",
       "      <th>15</th>\n",
       "      <td>CAATAAAAAGAGATG</td>\n",
       "      <td>Negative_100_(chr20:23361299-23361499)</td>\n",
       "      <td>49.0</td>\n",
       "      <td>73.0</td>\n",
       "      <td>59.0</td>\n",
       "      <td>86.0</td>\n",
       "      <td>44.0</td>\n",
       "      <td>69.0</td>\n",
       "    </tr>\n",
       "    <tr>\n",
       "      <th>16</th>\n",
       "      <td>CCCACCGCCCCCGTC</td>\n",
       "      <td>Negative_100_(chr20:23361299-23361499)</td>\n",
       "      <td>10.0</td>\n",
       "      <td>4.0</td>\n",
       "      <td>7.0</td>\n",
       "      <td>15.0</td>\n",
       "      <td>5.0</td>\n",
       "      <td>9.0</td>\n",
       "    </tr>\n",
       "    <tr>\n",
       "      <th>17</th>\n",
       "      <td>GGTACGATCTCCTGA</td>\n",
       "      <td>Negative_100_(chr20:23361299-23361499)</td>\n",
       "      <td>NaN</td>\n",
       "      <td>NaN</td>\n",
       "      <td>6.0</td>\n",
       "      <td>8.0</td>\n",
       "      <td>4.0</td>\n",
       "      <td>10.0</td>\n",
       "    </tr>\n",
       "    <tr>\n",
       "      <th>18</th>\n",
       "      <td>AAATCCGGTATTCTA</td>\n",
       "      <td>Negative_100_(chr20:23361299-23361499)</td>\n",
       "      <td>6.0</td>\n",
       "      <td>7.0</td>\n",
       "      <td>11.0</td>\n",
       "      <td>11.0</td>\n",
       "      <td>8.0</td>\n",
       "      <td>6.0</td>\n",
       "    </tr>\n",
       "    <tr>\n",
       "      <th>19</th>\n",
       "      <td>GCAGTAATGTAATAC</td>\n",
       "      <td>Negative_100_(chr20:23361299-23361499)</td>\n",
       "      <td>3.0</td>\n",
       "      <td>11.0</td>\n",
       "      <td>5.0</td>\n",
       "      <td>4.0</td>\n",
       "      <td>NaN</td>\n",
       "      <td>NaN</td>\n",
       "    </tr>\n",
       "  </tbody>\n",
       "</table>\n",
       "</div>"
      ],
      "text/plain": [
       "            barcode                              oligo_name  dna_count_1  \\\n",
       "0   CTAGGTAAGGCATAG  Negative_100_(chr20:23361299-23361499)          3.0   \n",
       "1   GCCTAATACTTTTTA  Negative_100_(chr20:23361299-23361499)          NaN   \n",
       "2   CAATGCCACAGAGAA  Negative_100_(chr20:23361299-23361499)          NaN   \n",
       "3   TACCCTCAAGTAAAC  Negative_100_(chr20:23361299-23361499)          NaN   \n",
       "4   ATGGTACTTAGGAGT  Negative_100_(chr20:23361299-23361499)          2.0   \n",
       "5   GCGGCCGCTCCCCCG  Negative_100_(chr20:23361299-23361499)         14.0   \n",
       "6   AGATGGAAATGTAAA  Negative_100_(chr20:23361299-23361499)          8.0   \n",
       "7   AGACTGAGAGTGTGA  Negative_100_(chr20:23361299-23361499)         40.0   \n",
       "8   ATCACCACTTTTTGA  Negative_100_(chr20:23361299-23361499)          NaN   \n",
       "9   ACTTCACATTCTTTA  Negative_100_(chr20:23361299-23361499)          NaN   \n",
       "10  GTGAAGGTGTTGGGT  Negative_100_(chr20:23361299-23361499)          9.0   \n",
       "11  GATAAAATATAGTTA  Negative_100_(chr20:23361299-23361499)          7.0   \n",
       "12  AAAAATAGCTTGGTC  Negative_100_(chr20:23361299-23361499)          3.0   \n",
       "13  ACTTAAAAGCTGTTA  Negative_100_(chr20:23361299-23361499)          7.0   \n",
       "14  CAAGGTAACACCTTA  Negative_100_(chr20:23361299-23361499)         10.0   \n",
       "15  CAATAAAAAGAGATG  Negative_100_(chr20:23361299-23361499)         49.0   \n",
       "16  CCCACCGCCCCCGTC  Negative_100_(chr20:23361299-23361499)         10.0   \n",
       "17  GGTACGATCTCCTGA  Negative_100_(chr20:23361299-23361499)          NaN   \n",
       "18  AAATCCGGTATTCTA  Negative_100_(chr20:23361299-23361499)          6.0   \n",
       "19  GCAGTAATGTAATAC  Negative_100_(chr20:23361299-23361499)          3.0   \n",
       "\n",
       "    rna_count_1  dna_count_2  rna_count_2  dna_count_3  rna_count_3  \n",
       "0           4.0          NaN          NaN          NaN          NaN  \n",
       "1           NaN          4.0          7.0          NaN          NaN  \n",
       "2           NaN          NaN          NaN          NaN          NaN  \n",
       "3           NaN          9.0         16.0         17.0         27.0  \n",
       "4          12.0          5.0          6.0          3.0         10.0  \n",
       "5          24.0         15.0         40.0         15.0         27.0  \n",
       "6           5.0          7.0         15.0          NaN          NaN  \n",
       "7          41.0         28.0         54.0         25.0         48.0  \n",
       "8           NaN          NaN          NaN          NaN          NaN  \n",
       "9           NaN          NaN          NaN          NaN          NaN  \n",
       "10         23.0         14.0         33.0          9.0         16.0  \n",
       "11         10.0         14.0         10.0          6.0         10.0  \n",
       "12          7.0          NaN          NaN          NaN          NaN  \n",
       "13         11.0          3.0         18.0          5.0          8.0  \n",
       "14         16.0          3.0          7.0          4.0         15.0  \n",
       "15         73.0         59.0         86.0         44.0         69.0  \n",
       "16          4.0          7.0         15.0          5.0          9.0  \n",
       "17          NaN          6.0          8.0          4.0         10.0  \n",
       "18          7.0         11.0         11.0          8.0          6.0  \n",
       "19         11.0          5.0          4.0          NaN          NaN  "
      ]
     },
     "metadata": {},
     "output_type": "display_data"
    }
   ],
   "source": [
    "export_barcode_file(mpra_barcode_data, \"barcodes.tsv.gz\")\n",
    "\n",
    "df = pd.read_csv(\"barcodes.tsv.gz\", sep='\\t', nrows=20)\n",
    "display(df)"
   ]
  },
  {
   "cell_type": "markdown",
   "metadata": {},
   "source": [
    "This dumped the whole DNA and rna counts into a file. Same format as we loaded the data. BUT now with the filtereing applied. So we see a little bit more missing values.\n",
    "\n",
    "Remark: We just load the first 20 oligos."
   ]
  }
 ],
 "metadata": {
  "kernelspec": {
   "display_name": "jupyter",
   "language": "python",
   "name": "python3"
  },
  "language_info": {
   "codemirror_mode": {
    "name": "ipython",
    "version": 3
   },
   "file_extension": ".py",
   "mimetype": "text/x-python",
   "name": "python",
   "nbconvert_exporter": "python",
   "pygments_lexer": "ipython3",
   "version": "3.12.4"
  }
 },
 "nbformat": 4,
 "nbformat_minor": 2
}
