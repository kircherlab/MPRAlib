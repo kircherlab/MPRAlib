{
 "cells": [
  {
   "cell_type": "markdown",
   "metadata": {},
   "source": [
    "<a target=\"_blank\" href=\"https://colab.research.google.com/github/kircherlab/MPRAlib/examples/mpralib.ipynb\">\n",
    "  <img src=\"https://colab.research.google.com/assets/colab-badge.svg\" alt=\"Open In Colab\"/>\n",
    "</a>"
   ]
  },
  {
   "cell_type": "code",
   "execution_count": 1,
   "metadata": {},
   "outputs": [],
   "source": [
    "!pip --quiet install MPRAlib"
   ]
  },
  {
   "cell_type": "markdown",
   "metadata": {},
   "source": [
    "# Loading Data and Understanding the MPRAlib data structure\n",
    "\n",
    "Here we will load a barcode count file (output of [MPRAsnakeflow](https://github.com/kircherlab/MPRAsnakeflow)) into MPRAlib, more precise into an `MPRAData` data object in `mpralib.mpradata`. MPRAlib will generate an [AnnData](https://anndata.readthedocs.io) object out of it, which is acessable via `MRAData.data`:\n",
    "\n",
    "<img src=\"https://raw.githubusercontent.com/scverse/anndata/main/docs/_static/img/anndata_schema.svg\" alt=\"AnnData\" width=\"480 \"/>"
   ]
  },
  {
   "cell_type": "markdown",
   "metadata": {},
   "source": [
    "## Core data\n",
    "\n",
    "- `var`: barcodes\n",
    "- `obs`: replicates\n",
    "\n",
    "Oligo names are also stored in `var` like `MRAData.data.var[\"ologos\"]`. Further DNA and RNA counts are stored in `layers` like `MRAData.data.layers[\"\"dna\"]` and `layers[\"rna\"]`. This are the raw counst and those layers are never been modified.\n",
    "\n",
    "Metadata is stored in the `MPRA.data.uns` dictionary."
   ]
  },
  {
   "cell_type": "markdown",
   "metadata": {},
   "source": [
    "## Extended count data\n",
    "\n",
    "There are some further layers that are dynamically updated via the library. This are:\n",
    "\n",
    "1. Normalization layers in `MRAData.data.layers[\"dna_normalized\"]` and `MRAData.data.layers[\"rna_normalized\"]`. Usually we have to normalize the data to account for different sequencing depths. This is done by dividing the raw counts by the sum of the counts all counts per replicate and scale them (usually `1e6` like counts per million).\n",
    "2. Sampling layers in `MRAData.data.layers[\"dna_sampling\"]` and `MRAData.data.layers[\"rna_sampling\"]`. This is only an edge case when you want to downsample your counts.\n",
    "\n",
    "The library usually generates the layers annd takes care of them. E.g. when barcode filtering is applied, the normalization layers are updated accordingly.\n",
    "\n",
    "MPRAlib provides some getters (in python properties) to access the data intuitively. E.g. `MRAData.raw_dna_counts` will return the raw DNA counts. `MRAData.raw_rna_counts` for RNA accordingly. If you use the property `MPRAdata.rna_counts` or `MPRAdata.dna_counts` it will return the latest counts. That can be the raw counts (if nothing was done), Filtered counts when where some barcode counts are set to zero according to the barcode filter mask (see below), sampled or sampled and filtered counts. If you want to get norlazied counts use `MPRAdata.normalized_rna_counts` or `MPRAdata.normalized_dna_counts`. It returns the layer `\"rna_normalized\"` or `\"dna_normalized\"` which is a normalization of `MPRAdata.rna_counts` or `MPRAdata.dna_counts`."
   ]
  },
  {
   "cell_type": "markdown",
   "metadata": {},
   "source": [
    "## Barcode filtering\n",
    "\n",
    "Barcode filters ar stored in a n_barcodes x n_replicates matrix within the AnnData object `MPRAData.data.varm[\"barcode_filter\"]`. You can set any new filter using the setter `MPRAdata.barcode_filter = new_filter`. The filter is a boolean matrix with `True` for barcodes that should be removed and `False` for barcodes that should be kept. This setter magically also updates the normalized counts for you.\n",
    "\n",
    "There are pre implemented methods to filter barcodes, like detecting outliers. We willcover thi part later."
   ]
  },
  {
   "cell_type": "markdown",
   "metadata": {},
   "source": [
    "## Grouping Data by Oligo\n",
    "\n",
    "Usually when we work with MPRA data we are not interested by the barcode count itself but an aggregated count version per oligo. This is done by grouping the data by oligo and writing a new AnnData object into our library, called `MPRAdata.grouped_data`. It is a new AnnData object because the data structure is slightly different. The `var` is now the oligos and the `obs` are the replicates. The layers `\"dna\"`, `\"rna\"`, `\"dna_normalized\"`, and  `\"rna_normalized\"` exist also for the grouped data but are now aggregated per oligo. Also usually the filtered counts or sampled counts are used for the grouped data (if applicable). Also it uses a barcode threshold to filter out oligos that have not enough barcodes. This threshold can be set by `MPRAdata.barcode_threshold = 10` for example. The default is 1 (no Oligo is removed).\n",
    "\n",
    "We have two additional layers: 1. `MPRAData.grouped_data.layers[\"log2FoldChange\"]` stores the log2 rna/dna ratio. 2. `MPRAData.grouped_data.layers[\"barcodes\"]` counts the number of barcodes per oligo that was used for teh aggregation."
   ]
  },
  {
   "cell_type": "markdown",
   "metadata": {},
   "source": [
    "## Example\n",
    "\n",
    "Let's start with loading a barcode count file from [MPRAsnakeflow](https://github.com/kircherlab/MPRAsnakeflow):"
   ]
  },
  {
   "cell_type": "code",
   "execution_count": 2,
   "metadata": {},
   "outputs": [
    {
     "name": "stdout",
     "output_type": "stream",
     "text": [
      "DNA counts\n"
     ]
    },
    {
     "data": {
      "application/vnd.microsoft.datawrangler.viewer.v0+json": {
       "columns": [
        {
         "name": "index",
         "rawType": "object",
         "type": "string"
        },
        {
         "name": "TACTCTCCGTGCCCA",
         "rawType": "int64",
         "type": "integer"
        },
        {
         "name": "GGTATAACATCTCCG",
         "rawType": "int64",
         "type": "integer"
        },
        {
         "name": "TTAGGAGTCACACGT",
         "rawType": "int64",
         "type": "integer"
        },
        {
         "name": "GAATATAACACCCGA",
         "rawType": "int64",
         "type": "integer"
        },
        {
         "name": "AAACACCGCGCTCTA",
         "rawType": "int64",
         "type": "integer"
        }
       ],
       "conversionMethod": "pd.DataFrame",
       "ref": "dd998448-4709-4560-ab4e-1e11092321b5",
       "rows": [
        [
         "1",
         "1",
         "0",
         "0",
         "1",
         "0"
        ],
        [
         "2",
         "0",
         "3",
         "1",
         "1",
         "0"
        ],
        [
         "3",
         "0",
         "1",
         "1",
         "1",
         "1"
        ]
       ],
       "shape": {
        "columns": 5,
        "rows": 3
       }
      },
      "text/html": [
       "<div>\n",
       "<style scoped>\n",
       "    .dataframe tbody tr th:only-of-type {\n",
       "        vertical-align: middle;\n",
       "    }\n",
       "\n",
       "    .dataframe tbody tr th {\n",
       "        vertical-align: top;\n",
       "    }\n",
       "\n",
       "    .dataframe thead th {\n",
       "        text-align: right;\n",
       "    }\n",
       "</style>\n",
       "<table border=\"1\" class=\"dataframe\">\n",
       "  <thead>\n",
       "    <tr style=\"text-align: right;\">\n",
       "      <th>barcode</th>\n",
       "      <th>TACTCTCCGTGCCCA</th>\n",
       "      <th>GGTATAACATCTCCG</th>\n",
       "      <th>TTAGGAGTCACACGT</th>\n",
       "      <th>GAATATAACACCCGA</th>\n",
       "      <th>AAACACCGCGCTCTA</th>\n",
       "    </tr>\n",
       "  </thead>\n",
       "  <tbody>\n",
       "    <tr>\n",
       "      <th>1</th>\n",
       "      <td>1</td>\n",
       "      <td>0</td>\n",
       "      <td>0</td>\n",
       "      <td>1</td>\n",
       "      <td>0</td>\n",
       "    </tr>\n",
       "    <tr>\n",
       "      <th>2</th>\n",
       "      <td>0</td>\n",
       "      <td>3</td>\n",
       "      <td>1</td>\n",
       "      <td>1</td>\n",
       "      <td>0</td>\n",
       "    </tr>\n",
       "    <tr>\n",
       "      <th>3</th>\n",
       "      <td>0</td>\n",
       "      <td>1</td>\n",
       "      <td>1</td>\n",
       "      <td>1</td>\n",
       "      <td>1</td>\n",
       "    </tr>\n",
       "  </tbody>\n",
       "</table>\n",
       "</div>"
      ],
      "text/plain": [
       "barcode  TACTCTCCGTGCCCA  GGTATAACATCTCCG  TTAGGAGTCACACGT  GAATATAACACCCGA  \\\n",
       "1                      1                0                0                1   \n",
       "2                      0                3                1                1   \n",
       "3                      0                1                1                1   \n",
       "\n",
       "barcode  AAACACCGCGCTCTA  \n",
       "1                      0  \n",
       "2                      0  \n",
       "3                      1  "
      ]
     },
     "metadata": {},
     "output_type": "display_data"
    },
    {
     "name": "stdout",
     "output_type": "stream",
     "text": [
      "RNA counts\n"
     ]
    },
    {
     "data": {
      "application/vnd.microsoft.datawrangler.viewer.v0+json": {
       "columns": [
        {
         "name": "index",
         "rawType": "object",
         "type": "string"
        },
        {
         "name": "TACTCTCCGTGCCCA",
         "rawType": "int64",
         "type": "integer"
        },
        {
         "name": "GGTATAACATCTCCG",
         "rawType": "int64",
         "type": "integer"
        },
        {
         "name": "TTAGGAGTCACACGT",
         "rawType": "int64",
         "type": "integer"
        },
        {
         "name": "GAATATAACACCCGA",
         "rawType": "int64",
         "type": "integer"
        },
        {
         "name": "AAACACCGCGCTCTA",
         "rawType": "int64",
         "type": "integer"
        }
       ],
       "conversionMethod": "pd.DataFrame",
       "ref": "c4e68fa5-a64b-4de8-9cef-f1b41c4d6cae",
       "rows": [
        [
         "1",
         "1",
         "0",
         "0",
         "1",
         "0"
        ],
        [
         "2",
         "0",
         "1",
         "1",
         "1",
         "0"
        ],
        [
         "3",
         "0",
         "2",
         "2",
         "3",
         "1"
        ]
       ],
       "shape": {
        "columns": 5,
        "rows": 3
       }
      },
      "text/html": [
       "<div>\n",
       "<style scoped>\n",
       "    .dataframe tbody tr th:only-of-type {\n",
       "        vertical-align: middle;\n",
       "    }\n",
       "\n",
       "    .dataframe tbody tr th {\n",
       "        vertical-align: top;\n",
       "    }\n",
       "\n",
       "    .dataframe thead th {\n",
       "        text-align: right;\n",
       "    }\n",
       "</style>\n",
       "<table border=\"1\" class=\"dataframe\">\n",
       "  <thead>\n",
       "    <tr style=\"text-align: right;\">\n",
       "      <th>barcode</th>\n",
       "      <th>TACTCTCCGTGCCCA</th>\n",
       "      <th>GGTATAACATCTCCG</th>\n",
       "      <th>TTAGGAGTCACACGT</th>\n",
       "      <th>GAATATAACACCCGA</th>\n",
       "      <th>AAACACCGCGCTCTA</th>\n",
       "    </tr>\n",
       "  </thead>\n",
       "  <tbody>\n",
       "    <tr>\n",
       "      <th>1</th>\n",
       "      <td>1</td>\n",
       "      <td>0</td>\n",
       "      <td>0</td>\n",
       "      <td>1</td>\n",
       "      <td>0</td>\n",
       "    </tr>\n",
       "    <tr>\n",
       "      <th>2</th>\n",
       "      <td>0</td>\n",
       "      <td>1</td>\n",
       "      <td>1</td>\n",
       "      <td>1</td>\n",
       "      <td>0</td>\n",
       "    </tr>\n",
       "    <tr>\n",
       "      <th>3</th>\n",
       "      <td>0</td>\n",
       "      <td>2</td>\n",
       "      <td>2</td>\n",
       "      <td>3</td>\n",
       "      <td>1</td>\n",
       "    </tr>\n",
       "  </tbody>\n",
       "</table>\n",
       "</div>"
      ],
      "text/plain": [
       "barcode  TACTCTCCGTGCCCA  GGTATAACATCTCCG  TTAGGAGTCACACGT  GAATATAACACCCGA  \\\n",
       "1                      1                0                0                1   \n",
       "2                      0                1                1                1   \n",
       "3                      0                2                2                3   \n",
       "\n",
       "barcode  AAACACCGCGCTCTA  \n",
       "1                      0  \n",
       "2                      0  \n",
       "3                      1  "
      ]
     },
     "metadata": {},
     "output_type": "display_data"
    }
   ],
   "source": [
    "# Loading the MPRAlib library\n",
    "from mpralib.mpradata import MPRAdata\n",
    "# Loading other libraries\n",
    "import pandas as pd\n",
    "import numpy as np\n",
    "\n",
    "# Load the data\n",
    "mpradata = MPRAdata.from_file(\"../resources/reporter_experiment.barcode.HEPG2.fromFile.default.all.tsv.gz\")\n",
    "\n",
    "# Getting counts, no filtering/sampling done, so raw counts\n",
    "print(\"DNA counts\")\n",
    "display(pd.DataFrame(mpradata.dna_counts[:,0:5], index=mpradata.replicates, columns=mpradata.barcodes[0:5]))\n",
    "print(\"RNA counts\")\n",
    "display(pd.DataFrame(mpradata.rna_counts[:,0:5], index=mpradata.replicates, columns=mpradata.barcodes[0:5]))\n"
   ]
  },
  {
   "cell_type": "markdown",
   "metadata": {},
   "source": [
    "Generating correlations across repliactes on certain barcode thresholds:"
   ]
  },
  {
   "cell_type": "code",
   "execution_count": 3,
   "metadata": {},
   "outputs": [
    {
     "name": "stdout",
     "output_type": "stream",
     "text": [
      "Pairwise Pearson correlation\n"
     ]
    },
    {
     "name": "stderr",
     "output_type": "stream",
     "text": [
      "/home/mschubach/miniforge3/envs/jupyter/lib/python3.12/site-packages/mpralib/mpradata.py:433: RuntimeWarning: invalid value encountered in divide\n",
      "  self.grouped_data.layers[\"rna_normalized\"] / self.grouped_data.layers[\"dna_normalized\"]\n"
     ]
    },
    {
     "data": {
      "application/vnd.microsoft.datawrangler.viewer.v0+json": {
       "columns": [
        {
         "name": "index",
         "rawType": "object",
         "type": "string"
        },
        {
         "name": "1",
         "rawType": "float64",
         "type": "float"
        },
        {
         "name": "2",
         "rawType": "float64",
         "type": "float"
        },
        {
         "name": "3",
         "rawType": "float64",
         "type": "float"
        }
       ],
       "conversionMethod": "pd.DataFrame",
       "ref": "7cc7b0f8-fb83-4399-ad4b-b851b368a570",
       "rows": [
        [
         "1",
         "1.0",
         "0.456",
         "0.469"
        ],
        [
         "2",
         "0.456",
         "1.0",
         "0.481"
        ],
        [
         "3",
         "0.469",
         "0.481",
         "1.0"
        ]
       ],
       "shape": {
        "columns": 3,
        "rows": 3
       }
      },
      "text/html": [
       "<div>\n",
       "<style scoped>\n",
       "    .dataframe tbody tr th:only-of-type {\n",
       "        vertical-align: middle;\n",
       "    }\n",
       "\n",
       "    .dataframe tbody tr th {\n",
       "        vertical-align: top;\n",
       "    }\n",
       "\n",
       "    .dataframe thead th {\n",
       "        text-align: right;\n",
       "    }\n",
       "</style>\n",
       "<table border=\"1\" class=\"dataframe\">\n",
       "  <thead>\n",
       "    <tr style=\"text-align: right;\">\n",
       "      <th></th>\n",
       "      <th>1</th>\n",
       "      <th>2</th>\n",
       "      <th>3</th>\n",
       "    </tr>\n",
       "  </thead>\n",
       "  <tbody>\n",
       "    <tr>\n",
       "      <th>1</th>\n",
       "      <td>1.000</td>\n",
       "      <td>0.456</td>\n",
       "      <td>0.469</td>\n",
       "    </tr>\n",
       "    <tr>\n",
       "      <th>2</th>\n",
       "      <td>0.456</td>\n",
       "      <td>1.000</td>\n",
       "      <td>0.481</td>\n",
       "    </tr>\n",
       "    <tr>\n",
       "      <th>3</th>\n",
       "      <td>0.469</td>\n",
       "      <td>0.481</td>\n",
       "      <td>1.000</td>\n",
       "    </tr>\n",
       "  </tbody>\n",
       "</table>\n",
       "</div>"
      ],
      "text/plain": [
       "       1      2      3\n",
       "1  1.000  0.456  0.469\n",
       "2  0.456  1.000  0.481\n",
       "3  0.469  0.481  1.000"
      ]
     },
     "metadata": {},
     "output_type": "display_data"
    },
    {
     "name": "stdout",
     "output_type": "stream",
     "text": [
      "Parwise Spearman correlation\n"
     ]
    },
    {
     "data": {
      "application/vnd.microsoft.datawrangler.viewer.v0+json": {
       "columns": [
        {
         "name": "index",
         "rawType": "object",
         "type": "string"
        },
        {
         "name": "1",
         "rawType": "float64",
         "type": "float"
        },
        {
         "name": "2",
         "rawType": "float64",
         "type": "float"
        },
        {
         "name": "3",
         "rawType": "float64",
         "type": "float"
        }
       ],
       "conversionMethod": "pd.DataFrame",
       "ref": "8c6a3c0a-b24f-4680-bff5-4235ba7d333c",
       "rows": [
        [
         "1",
         "1.0",
         "0.361",
         "0.379"
        ],
        [
         "2",
         "0.361",
         "1.0",
         "0.356"
        ],
        [
         "3",
         "0.379",
         "0.356",
         "1.0"
        ]
       ],
       "shape": {
        "columns": 3,
        "rows": 3
       }
      },
      "text/html": [
       "<div>\n",
       "<style scoped>\n",
       "    .dataframe tbody tr th:only-of-type {\n",
       "        vertical-align: middle;\n",
       "    }\n",
       "\n",
       "    .dataframe tbody tr th {\n",
       "        vertical-align: top;\n",
       "    }\n",
       "\n",
       "    .dataframe thead th {\n",
       "        text-align: right;\n",
       "    }\n",
       "</style>\n",
       "<table border=\"1\" class=\"dataframe\">\n",
       "  <thead>\n",
       "    <tr style=\"text-align: right;\">\n",
       "      <th></th>\n",
       "      <th>1</th>\n",
       "      <th>2</th>\n",
       "      <th>3</th>\n",
       "    </tr>\n",
       "  </thead>\n",
       "  <tbody>\n",
       "    <tr>\n",
       "      <th>1</th>\n",
       "      <td>1.000</td>\n",
       "      <td>0.361</td>\n",
       "      <td>0.379</td>\n",
       "    </tr>\n",
       "    <tr>\n",
       "      <th>2</th>\n",
       "      <td>0.361</td>\n",
       "      <td>1.000</td>\n",
       "      <td>0.356</td>\n",
       "    </tr>\n",
       "    <tr>\n",
       "      <th>3</th>\n",
       "      <td>0.379</td>\n",
       "      <td>0.356</td>\n",
       "      <td>1.000</td>\n",
       "    </tr>\n",
       "  </tbody>\n",
       "</table>\n",
       "</div>"
      ],
      "text/plain": [
       "       1      2      3\n",
       "1  1.000  0.361  0.379\n",
       "2  0.361  1.000  0.356\n",
       "3  0.379  0.356  1.000"
      ]
     },
     "metadata": {},
     "output_type": "display_data"
    },
    {
     "name": "stdout",
     "output_type": "stream",
     "text": [
      "Mean Pearson correlation\n",
      "0.469\n",
      "Mean Spearman correlation\n",
      "0.365\n",
      "Mean Pearson correlation, BC threshold 10\n",
      "0.655\n",
      "Mean Spearman correlation, BC threshold 10\n",
      "0.525\n",
      "Mean Pearson correlation, BC threshold 10\n",
      "0.655\n",
      "Mean Spearman correlation, BC threshold 10\n",
      "0.525\n",
      "Mean Pearson correlation, BC threshold 10\n",
      "0.655\n",
      "Mean Spearman correlation, BC threshold 10\n",
      "0.525\n"
     ]
    }
   ],
   "source": [
    "print(\"Pairwise Pearson correlation\")\n",
    "display(pd.DataFrame(mpradata.pearson_correlation, index=mpradata.replicates, columns=mpradata.replicates).round(3))\n",
    "print(\"Parwise Spearman correlation\")\n",
    "display(pd.DataFrame(mpradata.spearman_correlation, index=mpradata.replicates, columns=mpradata.replicates).round(3))\n",
    "\n",
    "\n",
    "print(\"Mean Pearson correlation\")\n",
    "print(mpradata.pearson_correlation.flatten()[[1,2,5]].mean().round(3))\n",
    "print(\"Mean Spearman correlation\")\n",
    "print(mpradata.spearman_correlation.flatten()[[1,2,5]].mean().round(3))\n",
    "\n",
    "\n",
    "# Setting a different barcode threshold 10, 100\n",
    "for threshold in [1, 10, 100]:\n",
    "    mpradata.barcode_threshold = 10\n",
    "    print(f\"Mean Pearson correlation, BC threshold {mpradata.barcode_threshold}\")\n",
    "    print(mpradata.pearson_correlation.flatten()[[1,2,5]].mean().round(3))\n",
    "    print(f\"Mean Spearman correlation, BC threshold {mpradata.barcode_threshold}\")\n",
    "    print(mpradata.spearman_correlation.flatten()[[1,2,5]].mean().round(3))"
   ]
  },
  {
   "cell_type": "markdown",
   "metadata": {},
   "source": [
    "Using such strict barcode threshold will also reduce our oligos available per replicate:"
   ]
  },
  {
   "cell_type": "code",
   "execution_count": null,
   "metadata": {},
   "outputs": [
    {
     "name": "stdout",
     "output_type": "stream",
     "text": [
      "Number of oligos per individual replicate, using BC threshold 1\n"
     ]
    },
    {
     "data": {
      "text/plain": [
       "array([2243, 2250, 2253])"
      ]
     },
     "metadata": {},
     "output_type": "display_data"
    },
    {
     "name": "stdout",
     "output_type": "stream",
     "text": [
      "Number of oligos per individual replicate, using BC threshold 10\n"
     ]
    },
    {
     "data": {
      "text/plain": [
       "array([1359, 1349, 1357])"
      ]
     },
     "metadata": {},
     "output_type": "display_data"
    },
    {
     "name": "stdout",
     "output_type": "stream",
     "text": [
      "Number of oligos per individual replicate, using BC threshold 100\n"
     ]
    },
    {
     "data": {
      "text/plain": [
       "array([10,  3,  3])"
      ]
     },
     "metadata": {},
     "output_type": "display_data"
    }
   ],
   "source": [
    "for threshold in [1, 10, 100]:\n",
    "    mpradata.barcode_threshold = threshold\n",
    "    print(f\"Number of oligos per individual replicate, using BC threshold {mpradata.barcode_threshold}\")\n",
    "    print(np.sum(mpradata.grouped_data.layers[\"barcodes\"]!=0,axis=1))\n"
   ]
  },
  {
   "cell_type": "markdown",
   "metadata": {},
   "source": [
    "## Barcode filtering and outlier detection\n",
    "\n",
    "There is some pre-build function to remove barcodes from experiments. This is done via the function `MPRAData.apply_barcode_filter()`. This function has pre-build filters like setting a minimum or maximum threshold for counts. E.g. you want to remove very very high barcode counts or you 'trust' only barcode counts with 3 RNA counts to remove noisy data. The functin can also randomly remove barcodes if you want to downsample your data on barcodes (Which correspons to removing barcodes from your assignment, theerfor ehaving a lower quality/lower depth assignment file).\n",
    "\n",
    "But it can also detect outlier barcodes. E.g. if you want to remove barcodes that do not follow the distribution per oligo. This is usually done per repliacte.\n",
    "\n",
    "Now we try to remove barcodes that are outliers within the RNA counts using the zscore:"
   ]
  },
  {
   "cell_type": "code",
   "execution_count": 28,
   "metadata": {},
   "outputs": [
    {
     "name": "stdout",
     "output_type": "stream",
     "text": [
      "Mean Pearson correlation before BC filter, BC threshold 10\n",
      "0.655\n",
      "Number of oligs\n",
      "[1359 1349 1357]\n",
      "Mean Pearson correlation after BC filter, BC threshold 10\n",
      "0.594\n",
      "Number of oligs\n",
      "[1359 1349 1357]\n"
     ]
    }
   ],
   "source": [
    "from mpralib.mpradata import BarcodeFilter\n",
    "\n",
    "# using standard number of barcodes per oligo\n",
    "mpradata.barcode_threshold = 10\n",
    "\n",
    "# Resetting the barcode filter\n",
    "mpradata.barcode_filter = None\n",
    "print(f\"Mean Pearson correlation before BC filter, BC threshold {mpradata.barcode_threshold}\")\n",
    "print(mpradata.pearson_correlation.flatten()[[1,2,5]].mean().round(3))\n",
    "print(f\"Number of oligs\")\n",
    "print(np.sum(mpradata.grouped_data.layers[\"barcodes\"]!=0,axis=1))\n",
    "\n",
    "# Apply filter\n",
    "mpradata.apply_barcode_filter(BarcodeFilter.RNA_ZSCORE, {\"times_zscore\": 3})\n",
    "\n",
    "print(f\"Mean Pearson correlation after BC filter, BC threshold {mpradata.barcode_threshold}\")\n",
    "print(mpradata.pearson_correlation.flatten()[[1,2,5]].mean().round(3))\n",
    "print(f\"Number of oligs\")\n",
    "print(np.sum(mpradata.grouped_data.layers[\"barcodes\"]!=0,axis=1))"
   ]
  },
  {
   "cell_type": "markdown",
   "metadata": {},
   "source": [
    "You see we keeping number of oligos the same but our Person correlaton drops. Maybe within this example dataset this was not a good idea. Let's see if we achieve something else when allowing only a higher number of DNA and RNA counts:"
   ]
  },
  {
   "cell_type": "code",
   "execution_count": 40,
   "metadata": {},
   "outputs": [
    {
     "name": "stdout",
     "output_type": "stream",
     "text": [
      "Mean Pearson correlation before BC filter, BC threshold 10\n",
      "0.655\n",
      "Number of oligs\n",
      "[1359 1349 1357]\n",
      "Mean Pearson correlation after BC filter, BC threshold 10\n",
      "0.78\n",
      "Number of oligs\n",
      "[12  5  8]\n"
     ]
    }
   ],
   "source": [
    "mpradata.barcode_filter = None\n",
    "print(f\"Mean Pearson correlation before BC filter, BC threshold {mpradata.barcode_threshold}\")\n",
    "print(mpradata.pearson_correlation.flatten()[[1,2,5]].mean().round(3))\n",
    "print(f\"Number of oligs\")\n",
    "print(np.sum(mpradata.grouped_data.layers[\"barcodes\"]!=0,axis=1))\n",
    "\n",
    "# Apply filter\n",
    "mpradata.apply_barcode_filter(BarcodeFilter.MIN_COUNT, {\"dna_min_count\": 2, \"rna_min_count\": 4})\n",
    "\n",
    "print(f\"Mean Pearson correlation after BC filter, BC threshold {mpradata.barcode_threshold}\")\n",
    "print(mpradata.pearson_correlation.flatten()[[1,2,5]].mean().round(3))\n",
    "print(f\"Number of oligs\")\n",
    "print(np.sum(mpradata.grouped_data.layers[\"barcodes\"]!=0,axis=1))"
   ]
  },
  {
   "cell_type": "markdown",
   "metadata": {},
   "source": [
    "Now we see an improved correlaton. But hold on... We have nearly no oligo left that fullfills the BC threshold 10 criteria. This example data seems to be a very very low count data. Maybe not the best idea. "
   ]
  }
 ],
 "metadata": {
  "kernelspec": {
   "display_name": "jupyter",
   "language": "python",
   "name": "python3"
  },
  "language_info": {
   "codemirror_mode": {
    "name": "ipython",
    "version": 3
   },
   "file_extension": ".py",
   "mimetype": "text/x-python",
   "name": "python",
   "nbconvert_exporter": "python",
   "pygments_lexer": "ipython3",
   "version": "3.12.4"
  }
 },
 "nbformat": 4,
 "nbformat_minor": 2
}
