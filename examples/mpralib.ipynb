{
 "cells": [
  {
   "cell_type": "markdown",
   "metadata": {},
   "source": [
    "<a target=\"_blank\" href=\"https://colab.research.google.com/github/kircherlab/MPRAlib/examples/mpralib.ipynb\">\n",
    "  <img src=\"https://colab.research.google.com/assets/colab-badge.svg\" alt=\"Open In Colab\"/>\n",
    "</a>"
   ]
  },
  {
   "cell_type": "code",
   "execution_count": 36,
   "metadata": {},
   "outputs": [],
   "source": [
    "!pip --quiet install MPRAlib"
   ]
  },
  {
   "cell_type": "markdown",
   "metadata": {},
   "source": [
    "# Loading Data and Understanding the MPRAlib data structure\n",
    "\n",
    "Here we will load a barcode count file (output of [MPRAsnakeflow](https://github.com/kircherlab/MPRAsnakeflow)) into MPRAlib, more precise into an `MPRAData` data object in `mpralib.mpradata`. MPRAlib will generate an [AnnData](https://anndata.readthedocs.io) object out of it, which is acessable via `MRAData.data`:\n",
    "\n",
    "<img src=\"https://raw.githubusercontent.com/scverse/anndata/main/docs/_static/img/anndata_schema.svg\" alt=\"AnnData\" width=\"480 \"/>"
   ]
  },
  {
   "cell_type": "markdown",
   "metadata": {},
   "source": [
    "## Core data\n",
    "\n",
    "- `var`: barcodes\n",
    "- `obs`: replicates\n",
    "\n",
    "Oligo names are also stored in `var` like `MRAData.data.var[\"ologos\"]`. Further DNA and RNA counts are stored in `layers` like `MRAData.data.layers[\"\"dna\"]` and `layers[\"rna\"]`. This are the raw counst and those layers are never been modified.\n",
    "\n",
    "Metadata is stored in the `MPRA.data.uns` dictionary."
   ]
  },
  {
   "cell_type": "markdown",
   "metadata": {},
   "source": [
    "## Extended count data\n",
    "\n",
    "There are some further layers that are dynamically updated via the library. This are:\n",
    "\n",
    "1. Normalization layers in `MRAData.data.layers[\"dna_normalized\"]` and `MRAData.data.layers[\"rna_normalized\"]`. Usually we have to normalize the data to account for different sequencing depths. This is done by dividing the raw counts by the sum of the counts all counts per replicate and scale them (usually `1e6` like counts per million).\n",
    "2. Sampling layers in `MRAData.data.layers[\"dna_sampling\"]` and `MRAData.data.layers[\"rna_sampling\"]`. This is only an edge case when you want to downsample your counts.\n",
    "\n",
    "The library usually generates the layers annd takes care of them. E.g. when barcode filtering is applied, the normalization layers are updated accordingly.\n",
    "\n",
    "MPRAlib provides some getters (in python properties) to access the data intuitively. E.g. `MRAData.raw_dna_counts` will return the raw DNA counts. `MRAData.raw_rna_counts` for RNA accordingly. If you use the property `MPRAdata.rna_counts` or `MPRAdata.dna_counts` it will return the latest counts. That can be the raw counts (if nothing was done), Filtered counts when where some barcode counts are set to zero according to the barcode filter mask (see below), sampled or sampled and filtered counts. If you want to get norlazied counts use `MPRAdata.normalized_rna_counts` or `MPRAdata.normalized_dna_counts`. It returns the layer `\"rna_normalized\"` or `\"dna_normalized\"` which is a normalization of `MPRAdata.rna_counts` or `MPRAdata.dna_counts`."
   ]
  },
  {
   "cell_type": "markdown",
   "metadata": {},
   "source": [
    "## Barcode filtering\n",
    "\n",
    "Barcode filters ar stored in a n_barcodes x n_replicates matrix within the AnnData object `MPRAData.data.varm[\"barcode_filter\"]`. You can set any new filter using the setter `MPRAdata.barcode_filter = new_filter`. The filter is a boolean matrix with `True` for barcodes that should be removed and `False` for barcodes that should be kept. This setter magically also updates the normalized counts for you.\n",
    "\n",
    "There are pre implemented methods to filter barcodes, like detecting outliers. We willcover thi part later."
   ]
  },
  {
   "cell_type": "markdown",
   "metadata": {},
   "source": [
    "## Grouping Data by Oligo\n",
    "\n",
    "Usually when we work with MPRA data we are not interested by the barcode count itself but an aggregated count version per oligo. This is done by grouping the data by oligo and writing a new AnnData object into our library, called `MPRAdata.grouped_data`. It is a new AnnData object because the data structure is slightly different. The `var` is now the oligos and the `obs` are the replicates. The layers `\"dna\"`, `\"rna\"`, `\"dna_normalized\"`, and  `\"rna_normalized\"` exist also for the grouped data but are now aggregated per oligo. Also usually the filtered counts or sampled counts are used for the grouped data (if applicable). Also it uses a barcode threshold to filter out oligos that have not enough barcodes. This threshold can be set by `MPRAdata.barcode_threshold = 10` for example. The default is 1 (no Oligo is removed).\n",
    "\n",
    "We have two additional layers: 1. `MPRAData.grouped_data.layers[\"log2FoldChange\"]` stores the log2 rna/dna ratio. 2. `MPRAData.grouped_data.layers[\"barcodes\"]` counts the number of barcodes per oligo that was used for teh aggregation."
   ]
  },
  {
   "cell_type": "markdown",
   "metadata": {},
   "source": [
    "## Example\n",
    "\n",
    "Let's start with loading a barcode count file from [MPRAsnakeflow](https://github.com/kircherlab/MPRAsnakeflow):"
   ]
  },
  {
   "cell_type": "code",
   "execution_count": 37,
   "metadata": {},
   "outputs": [
    {
     "name": "stdout",
     "output_type": "stream",
     "text": [
      "DNA counts\n"
     ]
    },
    {
     "data": {
      "application/vnd.microsoft.datawrangler.viewer.v0+json": {
       "columns": [
        {
         "name": "index",
         "rawType": "object",
         "type": "string"
        },
        {
         "name": "TACTCTCCGTGCCCA",
         "rawType": "int64",
         "type": "integer"
        },
        {
         "name": "GGTATAACATCTCCG",
         "rawType": "int64",
         "type": "integer"
        },
        {
         "name": "TTAGGAGTCACACGT",
         "rawType": "int64",
         "type": "integer"
        },
        {
         "name": "GAATATAACACCCGA",
         "rawType": "int64",
         "type": "integer"
        },
        {
         "name": "AAACACCGCGCTCTA",
         "rawType": "int64",
         "type": "integer"
        }
       ],
       "conversionMethod": "pd.DataFrame",
       "ref": "e17acb88-c1bf-478c-bc67-01cd3202d078",
       "rows": [
        [
         "1",
         "1",
         "0",
         "0",
         "1",
         "0"
        ],
        [
         "2",
         "0",
         "3",
         "1",
         "1",
         "0"
        ],
        [
         "3",
         "0",
         "1",
         "1",
         "1",
         "1"
        ]
       ],
       "shape": {
        "columns": 5,
        "rows": 3
       }
      },
      "text/html": [
       "<div>\n",
       "<style scoped>\n",
       "    .dataframe tbody tr th:only-of-type {\n",
       "        vertical-align: middle;\n",
       "    }\n",
       "\n",
       "    .dataframe tbody tr th {\n",
       "        vertical-align: top;\n",
       "    }\n",
       "\n",
       "    .dataframe thead th {\n",
       "        text-align: right;\n",
       "    }\n",
       "</style>\n",
       "<table border=\"1\" class=\"dataframe\">\n",
       "  <thead>\n",
       "    <tr style=\"text-align: right;\">\n",
       "      <th>barcode</th>\n",
       "      <th>TACTCTCCGTGCCCA</th>\n",
       "      <th>GGTATAACATCTCCG</th>\n",
       "      <th>TTAGGAGTCACACGT</th>\n",
       "      <th>GAATATAACACCCGA</th>\n",
       "      <th>AAACACCGCGCTCTA</th>\n",
       "    </tr>\n",
       "  </thead>\n",
       "  <tbody>\n",
       "    <tr>\n",
       "      <th>1</th>\n",
       "      <td>1</td>\n",
       "      <td>0</td>\n",
       "      <td>0</td>\n",
       "      <td>1</td>\n",
       "      <td>0</td>\n",
       "    </tr>\n",
       "    <tr>\n",
       "      <th>2</th>\n",
       "      <td>0</td>\n",
       "      <td>3</td>\n",
       "      <td>1</td>\n",
       "      <td>1</td>\n",
       "      <td>0</td>\n",
       "    </tr>\n",
       "    <tr>\n",
       "      <th>3</th>\n",
       "      <td>0</td>\n",
       "      <td>1</td>\n",
       "      <td>1</td>\n",
       "      <td>1</td>\n",
       "      <td>1</td>\n",
       "    </tr>\n",
       "  </tbody>\n",
       "</table>\n",
       "</div>"
      ],
      "text/plain": [
       "barcode  TACTCTCCGTGCCCA  GGTATAACATCTCCG  TTAGGAGTCACACGT  GAATATAACACCCGA  \\\n",
       "1                      1                0                0                1   \n",
       "2                      0                3                1                1   \n",
       "3                      0                1                1                1   \n",
       "\n",
       "barcode  AAACACCGCGCTCTA  \n",
       "1                      0  \n",
       "2                      0  \n",
       "3                      1  "
      ]
     },
     "metadata": {},
     "output_type": "display_data"
    },
    {
     "name": "stdout",
     "output_type": "stream",
     "text": [
      "RNA counts\n"
     ]
    },
    {
     "data": {
      "application/vnd.microsoft.datawrangler.viewer.v0+json": {
       "columns": [
        {
         "name": "index",
         "rawType": "object",
         "type": "string"
        },
        {
         "name": "TACTCTCCGTGCCCA",
         "rawType": "int64",
         "type": "integer"
        },
        {
         "name": "GGTATAACATCTCCG",
         "rawType": "int64",
         "type": "integer"
        },
        {
         "name": "TTAGGAGTCACACGT",
         "rawType": "int64",
         "type": "integer"
        },
        {
         "name": "GAATATAACACCCGA",
         "rawType": "int64",
         "type": "integer"
        },
        {
         "name": "AAACACCGCGCTCTA",
         "rawType": "int64",
         "type": "integer"
        }
       ],
       "conversionMethod": "pd.DataFrame",
       "ref": "4a636e79-4e91-473e-8a70-175454f092d6",
       "rows": [
        [
         "1",
         "1",
         "0",
         "0",
         "1",
         "0"
        ],
        [
         "2",
         "0",
         "1",
         "1",
         "1",
         "0"
        ],
        [
         "3",
         "0",
         "2",
         "2",
         "3",
         "1"
        ]
       ],
       "shape": {
        "columns": 5,
        "rows": 3
       }
      },
      "text/html": [
       "<div>\n",
       "<style scoped>\n",
       "    .dataframe tbody tr th:only-of-type {\n",
       "        vertical-align: middle;\n",
       "    }\n",
       "\n",
       "    .dataframe tbody tr th {\n",
       "        vertical-align: top;\n",
       "    }\n",
       "\n",
       "    .dataframe thead th {\n",
       "        text-align: right;\n",
       "    }\n",
       "</style>\n",
       "<table border=\"1\" class=\"dataframe\">\n",
       "  <thead>\n",
       "    <tr style=\"text-align: right;\">\n",
       "      <th>barcode</th>\n",
       "      <th>TACTCTCCGTGCCCA</th>\n",
       "      <th>GGTATAACATCTCCG</th>\n",
       "      <th>TTAGGAGTCACACGT</th>\n",
       "      <th>GAATATAACACCCGA</th>\n",
       "      <th>AAACACCGCGCTCTA</th>\n",
       "    </tr>\n",
       "  </thead>\n",
       "  <tbody>\n",
       "    <tr>\n",
       "      <th>1</th>\n",
       "      <td>1</td>\n",
       "      <td>0</td>\n",
       "      <td>0</td>\n",
       "      <td>1</td>\n",
       "      <td>0</td>\n",
       "    </tr>\n",
       "    <tr>\n",
       "      <th>2</th>\n",
       "      <td>0</td>\n",
       "      <td>1</td>\n",
       "      <td>1</td>\n",
       "      <td>1</td>\n",
       "      <td>0</td>\n",
       "    </tr>\n",
       "    <tr>\n",
       "      <th>3</th>\n",
       "      <td>0</td>\n",
       "      <td>2</td>\n",
       "      <td>2</td>\n",
       "      <td>3</td>\n",
       "      <td>1</td>\n",
       "    </tr>\n",
       "  </tbody>\n",
       "</table>\n",
       "</div>"
      ],
      "text/plain": [
       "barcode  TACTCTCCGTGCCCA  GGTATAACATCTCCG  TTAGGAGTCACACGT  GAATATAACACCCGA  \\\n",
       "1                      1                0                0                1   \n",
       "2                      0                1                1                1   \n",
       "3                      0                2                2                3   \n",
       "\n",
       "barcode  AAACACCGCGCTCTA  \n",
       "1                      0  \n",
       "2                      0  \n",
       "3                      1  "
      ]
     },
     "metadata": {},
     "output_type": "display_data"
    }
   ],
   "source": [
    "# Loading the MPRAlib library\n",
    "from mpralib.mpradata import MPRAdata\n",
    "# Loading other libraries\n",
    "import pandas as pd\n",
    "import numpy as np\n",
    "\n",
    "# Load the data\n",
    "mpradata = MPRAdata.from_file(\"../resources/reporter_experiment.barcode.HEPG2.fromFile.default.all.tsv.gz\")\n",
    "\n",
    "# Getting counts, no filtering/sampling done, so raw counts\n",
    "print(\"DNA counts\")\n",
    "display(pd.DataFrame(mpradata.dna_counts[:,0:5], index=mpradata.replicates, columns=mpradata.barcodes[0:5]))\n",
    "print(\"RNA counts\")\n",
    "display(pd.DataFrame(mpradata.rna_counts[:,0:5], index=mpradata.replicates, columns=mpradata.barcodes[0:5]))\n"
   ]
  },
  {
   "cell_type": "markdown",
   "metadata": {},
   "source": [
    "Generating correlations across repliactes on certain barcode thresholds:"
   ]
  },
  {
   "cell_type": "code",
   "execution_count": 38,
   "metadata": {},
   "outputs": [
    {
     "name": "stdout",
     "output_type": "stream",
     "text": [
      "Pairwise Pearson correlation\n"
     ]
    },
    {
     "name": "stderr",
     "output_type": "stream",
     "text": [
      "/home/mschubach/miniforge3/envs/jupyter/lib/python3.12/site-packages/mpralib/mpradata.py:494: RuntimeWarning: invalid value encountered in divide\n",
      "  self.grouped_data.layers[\"rna_normalized\"] / self.grouped_data.layers[\"dna_normalized\"]\n"
     ]
    },
    {
     "name": "stdout",
     "output_type": "stream",
     "text": [
      "       1      2      3\n",
      "1  1.000  0.456  0.469\n",
      "2  0.456  1.000  0.481\n",
      "3  0.469  0.481  1.000\n",
      "Parwise Spearman correlation\n",
      "       1      2      3\n",
      "1  1.000  0.361  0.379\n",
      "2  0.361  1.000  0.356\n",
      "3  0.379  0.356  1.000\n",
      "Mean Pearson correlation activity, BC threshold 1: 0.469\n",
      "Mean Pearson correlation RNA counts (normalized), BC threshold 1: -0.142\n",
      "Mean Pearson correlation DNA counts (normalized), BC threshold 1: -0.14\n",
      "\n",
      "Mean Pearson correlation activity, BC threshold 10: 0.655\n",
      "Mean Pearson correlation RNA counts (normalized), BC threshold 10: 0.037\n",
      "Mean Pearson correlation DNA counts (normalized), BC threshold 10: -0.135\n",
      "\n",
      "Mean Pearson correlation activity, BC threshold 50: 0.839\n",
      "Mean Pearson correlation RNA counts (normalized), BC threshold 50: 0.739\n",
      "Mean Pearson correlation DNA counts (normalized), BC threshold 50: 0.195\n",
      "\n"
     ]
    }
   ],
   "source": [
    "print(\"Pairwise Pearson correlation\")\n",
    "print(pd.DataFrame(mpradata.pearson_correlation, index=mpradata.replicates, columns=mpradata.replicates).round(3))\n",
    "print(\"Parwise Spearman correlation\")\n",
    "print(pd.DataFrame(mpradata.spearman_correlation, index=mpradata.replicates, columns=mpradata.replicates).round(3))\n",
    "\n",
    "\n",
    "# Setting a different barcode threshold 1, 10, 50 and getting the average across replicates\n",
    "for threshold in [1, 10, 50]:\n",
    "    mpradata.barcode_threshold = threshold\n",
    "    print(f\"Mean Pearson correlation activity, BC threshold {mpradata.barcode_threshold}: {mpradata.pearson_correlation.flatten()[[1,2,5]].mean().round(3)}\")\n",
    "    \n",
    "    print(f\"Mean Pearson correlation RNA counts (normalized), BC threshold {mpradata.barcode_threshold}: {mpradata.pearson_correlation_rna.flatten()[[1,2,5]].mean().round(3)}\")\n",
    "    \n",
    "    print(f\"Mean Pearson correlation DNA counts (normalized), BC threshold {mpradata.barcode_threshold}: {mpradata.pearson_correlation_dna.flatten()[[1,2,5]].mean().round(3)}\")\n",
    "\n",
    "    print(\"\")"
   ]
  },
  {
   "cell_type": "markdown",
   "metadata": {},
   "source": [
    "Using such strict barcode threshold will also reduce our oligos available per replicate:"
   ]
  },
  {
   "cell_type": "code",
   "execution_count": 39,
   "metadata": {},
   "outputs": [
    {
     "name": "stdout",
     "output_type": "stream",
     "text": [
      "Number of oligos per individual replicate, using BC threshold 1\n",
      "[2243 2250 2253]\n",
      "Number of oligos per individual replicate, using BC threshold 10\n",
      "[1359 1349 1357]\n",
      "Number of oligos per individual replicate, using BC threshold 50\n",
      "[148 146 154]\n"
     ]
    }
   ],
   "source": [
    "for threshold in [1, 10, 50]:\n",
    "    mpradata.barcode_threshold = threshold\n",
    "    print(f\"Number of oligos per individual replicate, using BC threshold {mpradata.barcode_threshold}\")\n",
    "    print(np.sum(mpradata.grouped_data.layers[\"barcodes\"]!=0,axis=1))\n"
   ]
  },
  {
   "cell_type": "markdown",
   "metadata": {},
   "source": [
    "## Barcode filtering and outlier detection\n",
    "\n",
    "There is some pre-build function to remove barcodes from experiments. This is done via the function `MPRAData.apply_barcode_filter()`. This function has pre-build filters like setting a minimum or maximum threshold for counts. E.g. you want to remove very very high barcode counts or you 'trust' only barcode counts with 3 RNA counts to remove noisy data. The functin can also randomly remove barcodes if you want to downsample your data on barcodes (Which correspons to removing barcodes from your assignment, theerfor ehaving a lower quality/lower depth assignment file).\n",
    "\n",
    "But it can also detect outlier barcodes. E.g. if you want to remove barcodes that do not follow the distribution per oligo. This is usually done per repliacte.\n",
    "\n",
    "Now we try to remove barcodes that are outliers within the RNA counts using the zscore:"
   ]
  },
  {
   "cell_type": "code",
   "execution_count": 40,
   "metadata": {},
   "outputs": [
    {
     "name": "stdout",
     "output_type": "stream",
     "text": [
      "Mean Pearson correlation before BC filter, BC threshold 10\n",
      "0.655\n",
      "Number of oligs\n",
      "[1359 1349 1357]\n",
      "Mean Pearson correlation after BC filter, BC threshold 10\n",
      "0.594\n",
      "Number of oligs\n",
      "[1359 1349 1357]\n"
     ]
    }
   ],
   "source": [
    "from mpralib.mpradata import BarcodeFilter\n",
    "\n",
    "# using standard number of barcodes per oligo\n",
    "mpradata.barcode_threshold = 10\n",
    "\n",
    "# Resetting the barcode filter\n",
    "mpradata.barcode_filter = None\n",
    "print(f\"Mean Pearson correlation before BC filter, BC threshold {mpradata.barcode_threshold}\")\n",
    "print(mpradata.pearson_correlation.flatten()[[1,2,5]].mean().round(3))\n",
    "print(f\"Number of oligs\")\n",
    "print(np.sum(mpradata.grouped_data.layers[\"barcodes\"]!=0,axis=1))\n",
    "\n",
    "# Apply filter\n",
    "mpradata.apply_barcode_filter(BarcodeFilter.RNA_ZSCORE, {\"times_zscore\": 3})\n",
    "\n",
    "print(f\"Mean Pearson correlation after BC filter, BC threshold {mpradata.barcode_threshold}\")\n",
    "print(mpradata.pearson_correlation.flatten()[[1,2,5]].mean().round(3))\n",
    "print(f\"Number of oligs\")\n",
    "print(np.sum(mpradata.grouped_data.layers[\"barcodes\"]!=0,axis=1))"
   ]
  },
  {
   "cell_type": "markdown",
   "metadata": {},
   "source": [
    "You see we keeping number of oligos the same but our Person correlaton drops. Maybe within this example dataset this was not a good idea. But we want to see the barcodes that were removed. We can access them using the  `MPRAData.barcode_filter` matrix on the `MPRAData.data.var` object."
   ]
  },
  {
   "cell_type": "code",
   "execution_count": null,
   "metadata": {},
   "outputs": [],
   "source": [
    "#TODO\n",
    "# \n",
    "#  Example: Iterate over the first axis (rows) of a numpy array\n",
    "array = np.array([[1, 2, 3], [4, 5, 6], [7, 8, 9]])\n",
    "\n",
    "def process_row(row):\n",
    "    # Perform some operation on each row\n",
    "    print(row)\n",
    "\n",
    "np.apply_along_axis(process_row, axis=1, arr=array)"
   ]
  },
  {
   "cell_type": "markdown",
   "metadata": {},
   "source": [
    "Let's see if we achieve something else when allowing only a higher number of DNA and RNA counts:"
   ]
  },
  {
   "cell_type": "code",
   "execution_count": 41,
   "metadata": {},
   "outputs": [
    {
     "name": "stdout",
     "output_type": "stream",
     "text": [
      "Mean Pearson correlation before BC filter, BC threshold 10\n",
      "0.655\n",
      "Number of oligs\n",
      "[1359 1349 1357]\n",
      "Mean Pearson correlation after BC filter, BC threshold 10\n",
      "0.78\n",
      "Number of oligs\n",
      "[12  5  8]\n"
     ]
    }
   ],
   "source": [
    "mpradata.barcode_filter = None\n",
    "print(f\"Mean Pearson correlation before BC filter, BC threshold {mpradata.barcode_threshold}\")\n",
    "print(mpradata.pearson_correlation.flatten()[[1,2,5]].mean().round(3))\n",
    "print(f\"Number of oligs\")\n",
    "print(np.sum(mpradata.grouped_data.layers[\"barcodes\"]!=0,axis=1))\n",
    "\n",
    "# Apply filter\n",
    "mpradata.apply_barcode_filter(BarcodeFilter.MIN_COUNT, {\"dna_min_count\": 2, \"rna_min_count\": 4})\n",
    "\n",
    "print(f\"Mean Pearson correlation after BC filter, BC threshold {mpradata.barcode_threshold}\")\n",
    "print(mpradata.pearson_correlation.flatten()[[1,2,5]].mean().round(3))\n",
    "print(f\"Number of oligs\")\n",
    "print(np.sum(mpradata.grouped_data.layers[\"barcodes\"]!=0,axis=1))"
   ]
  },
  {
   "cell_type": "markdown",
   "metadata": {},
   "source": [
    "Now we see an improved correlaton. But hold on... We have nearly no oligo left that fullfills the BC threshold 10 criteria. This example data seems to be a very very low count data. Maybe not the best idea. "
   ]
  },
  {
   "cell_type": "markdown",
   "metadata": {},
   "source": [
    "## Saving activity files.\n",
    "\n",
    "Finally we want to safe our oligo activities. We have a pre-build function for that."
   ]
  },
  {
   "cell_type": "code",
   "execution_count": 42,
   "metadata": {},
   "outputs": [
    {
     "data": {
      "application/vnd.microsoft.datawrangler.viewer.v0+json": {
       "columns": [
        {
         "name": "index",
         "rawType": "int64",
         "type": "integer"
        },
        {
         "name": "replicate",
         "rawType": "int64",
         "type": "integer"
        },
        {
         "name": "oligo_name",
         "rawType": "object",
         "type": "string"
        },
        {
         "name": "dna_counts",
         "rawType": "int64",
         "type": "integer"
        },
        {
         "name": "rna_counts",
         "rawType": "int64",
         "type": "integer"
        },
        {
         "name": "dna_normalized",
         "rawType": "float64",
         "type": "float"
        },
        {
         "name": "rna_normalized",
         "rawType": "float64",
         "type": "float"
        },
        {
         "name": "log2FoldChange",
         "rawType": "float64",
         "type": "float"
        },
        {
         "name": "n_bc",
         "rawType": "int64",
         "type": "integer"
        }
       ],
       "conversionMethod": "pd.DataFrame",
       "ref": "7e7aa279-4d79-420a-99a7-b1c05f781437",
       "rows": [
        [
         "0",
         "1",
         "A:HNF4A-ChMod_chr5:78281698-78281840__chr5:78281683-78281854_:081",
         "71",
         "154",
         "839.8032",
         "995.9447",
         "0.246",
         "27"
        ],
        [
         "1",
         "1",
         "A:HNF4A-NoMod_chr17:27505275-27505406__chr17:27505255-27505426_:031",
         "24",
         "62",
         "786.6728",
         "1069.6776",
         "0.4433",
         "10"
        ],
        [
         "2",
         "1",
         "A:HNF4A-NoMod_chr17:37895425-37895596__chr17:37895425-37895596_:088",
         "49",
         "123",
         "861.2268",
         "1163.7696",
         "0.4343",
         "18"
        ],
        [
         "3",
         "1",
         "C:SLEA_hg18:chr9:82902419-82902586|13:V_HNF6_Q6:CAAAATCAATAA;28:V_PPARA_02:CCGGGTCATTGGGGTCAGG;50:V_XBP1_01:GTGATGACGTGTCCCAT;70:V_Rxra_UP:GGCCGTGACCCCGTGAT;90:V_HNF3ALPHA_Q6:TGTTTGCTTTG;104:V_HNF4_Q6:AAGGTCCAG;116:V_HNF1_C:AGTTAATGATTAACCAA;136:V_AHRARNT_02:GGGGATCGCGTGCCAGCCC:071",
         "40",
         "100",
         "848.3727",
         "1139.0086",
         "0.425",
         "15"
        ],
        [
         "4",
         "1",
         "R:EP300-ChMod_chr19:3397595-3397766__chr19:3397595-3397766_:028",
         "36",
         "77",
         "826.337",
         "965.6812",
         "0.2248",
         "14"
        ],
        [
         "5",
         "1",
         "R:EP300-ChMod_chr4:6784271-6784442__chr4:6784271-6784442_:070",
         "39",
         "69",
         "875.9172",
         "880.7861",
         "0.008",
         "14"
        ],
        [
         "6",
         "1",
         "R:EP300-NoMod_chr3:23958571-23958742__chr3:23958571-23958742_:001",
         "27",
         "47",
         "799.2933",
         "783.3498",
         "-0.0291",
         "11"
        ],
        [
         "7",
         "1",
         "R:FOXA1-ChMod_chr6:137674036-137674152__chr6:137674008-137674179_:051",
         "27",
         "48",
         "856.0851",
         "861.6847",
         "0.0094",
         "10"
        ],
        [
         "8",
         "1",
         "R:FOXA1_FOXA2-ChMod_chr5:74172389-74172557__chr5:74172387-74172558_:023",
         "61",
         "89",
         "1113.4891",
         "974.9666",
         "-0.1917",
         "16"
        ],
        [
         "9",
         "1",
         "R:FOXA1_FOXA2-ChMod_chr6:11393329-11393497__chr6:11393327-11393498_:019",
         "24",
         "44",
         "786.6728",
         "802.2582",
         "0.0283",
         "10"
        ],
        [
         "10",
         "1",
         "R:HNF4A-ChMod_chr1:27320293-27320362__chr1:27320242-27320413_:028",
         "49",
         "79",
         "987.1973",
         "931.0157",
         "-0.0845",
         "15"
        ],
        [
         "11",
         "1",
         "R:HNF4A-NoMod_chr5:42824710-42824777__chr5:42824658-42824829_:086",
         "52",
         "106",
         "899.7892",
         "1023.457",
         "0.1858",
         "18"
        ],
        [
         "12",
         "2",
         "A:HNF4A-ChMod_chr5:78281698-78281840__chr5:78281683-78281854_:081",
         "35",
         "82",
         "1001.9613",
         "1310.5794",
         "0.3874",
         "12"
        ],
        [
         "13",
         "2",
         "C:SLEA_hg18:chr9:82902419-82902586|13:V_HNF6_Q6:CAAAATCAATAA;28:V_PPARA_02:CCGGGTCATTGGGGTCAGG;50:V_XBP1_01:GTGATGACGTGTCCCAT;70:V_Rxra_UP:GGCCGTGACCCCGTGAT;90:V_HNF3ALPHA_Q6:TGTTTGCTTTG;104:V_HNF4_Q6:AAGGTCCAG;116:V_HNF1_C:AGTTAATGATTAACCAA;136:V_AHRARNT_02:GGGGATCGCGTGCCAGCCC:071",
         "42",
         "156",
         "887.8455",
         "1702.6051",
         "0.9394",
         "17"
        ],
        [
         "14",
         "2",
         "R:EP300-ChMod_chr19:3397595-3397766__chr19:3397595-3397766_:028",
         "41",
         "81",
         "955.061",
         "1070.7713",
         "0.165",
         "15"
        ],
        [
         "15",
         "2",
         "R:FOXA1_FOXA2-ChMod_chr5:74172389-74172557__chr5:74172387-74172558_:023",
         "41",
         "46",
         "1304.6815",
         "936.9249",
         "-0.4777",
         "10"
        ],
        [
         "16",
         "2",
         "R:HNF4A-ChMod_chr1:27320293-27320362__chr1:27320242-27320413_:028",
         "35",
         "57",
         "1001.9613",
         "962.0211",
         "-0.0587",
         "12"
        ],
        [
         "17",
         "3",
         "A:HNF4A-NoMod_chr17:27505275-27505406__chr17:27505255-27505426_:031",
         "35",
         "80",
         "870.322",
         "1085.2182",
         "0.3184",
         "15"
        ],
        [
         "18",
         "3",
         "A:HNF4A-NoMod_chr17:37895425-37895596__chr17:37895425-37895596_:088",
         "59",
         "95",
         "1167.2554",
         "1128.8957",
         "-0.0482",
         "17"
        ],
        [
         "19",
         "3",
         "C:SLEA_hg18:chr9:82902419-82902586|13:V_HNF6_Q6:CAAAATCAATAA;28:V_PPARA_02:CCGGGTCATTGGGGTCAGG;50:V_XBP1_01:GTGATGACGTGTCCCAT;70:V_Rxra_UP:GGCCGTGACCCCGTGAT;90:V_HNF3ALPHA_Q6:TGTTTGCTTTG;104:V_HNF4_Q6:AAGGTCCAG;116:V_HNF1_C:AGTTAATGATTAACCAA;136:V_AHRARNT_02:GGGGATCGCGTGCCAGCCC:071",
         "30",
         "123",
         "863.6272",
         "1792.5871",
         "1.0536",
         "13"
        ],
        [
         "20",
         "3",
         "C:SLEA_hg18:chr9:82902419-82902586|24:V_HNF4_Q6:AAGGTCCAG;36:V_HNF1_C:AGTTAATGATTAACCAA;56:V_HNF3ALPHA_Q6:TGTTTGCTTTG;70:V_Rxra_UP:GGCCGTGACCCCGTGAT;90:V_HNF6_Q6:CAAAATCAATAA;105:V_XBP1_01:GTGATGACGTGTCCCAT;125:V_PPARA_02:CCGGGTCATTGGGGTCAGG:079",
         "25",
         "65",
         "913.8381",
         "1285.1268",
         "0.4919",
         "10"
        ],
        [
         "21",
         "3",
         "R:EP300-ChMod_chr19:3397595-3397766__chr19:3397595-3397766_:028",
         "46",
         "72",
         "1184.9769",
         "1120.367",
         "-0.0809",
         "13"
        ],
        [
         "22",
         "3",
         "R:FOXA1_FOXA2-ChMod_chr5:74172389-74172557__chr5:74172387-74172558_:023",
         "45",
         "75",
         "1100.3357",
         "1089.298",
         "-0.0145",
         "14"
        ],
        [
         "23",
         "3",
         "R:HNF4A-ChMod_chr1:27320293-27320362__chr1:27320242-27320413_:028",
         "46",
         "66",
         "1184.9769",
         "1041.2822",
         "-0.1865",
         "13"
        ],
        [
         "24",
         "3",
         "R:HNF4A-NoMod_chr5:42824710-42824777__chr5:42824658-42824829_:086",
         "45",
         "73",
         "1044.3864",
         "1005.2547",
         "-0.0551",
         "15"
        ]
       ],
       "shape": {
        "columns": 8,
        "rows": 25
       }
      },
      "text/html": [
       "<div>\n",
       "<style scoped>\n",
       "    .dataframe tbody tr th:only-of-type {\n",
       "        vertical-align: middle;\n",
       "    }\n",
       "\n",
       "    .dataframe tbody tr th {\n",
       "        vertical-align: top;\n",
       "    }\n",
       "\n",
       "    .dataframe thead th {\n",
       "        text-align: right;\n",
       "    }\n",
       "</style>\n",
       "<table border=\"1\" class=\"dataframe\">\n",
       "  <thead>\n",
       "    <tr style=\"text-align: right;\">\n",
       "      <th></th>\n",
       "      <th>replicate</th>\n",
       "      <th>oligo_name</th>\n",
       "      <th>dna_counts</th>\n",
       "      <th>rna_counts</th>\n",
       "      <th>dna_normalized</th>\n",
       "      <th>rna_normalized</th>\n",
       "      <th>log2FoldChange</th>\n",
       "      <th>n_bc</th>\n",
       "    </tr>\n",
       "  </thead>\n",
       "  <tbody>\n",
       "    <tr>\n",
       "      <th>0</th>\n",
       "      <td>1</td>\n",
       "      <td>A:HNF4A-ChMod_chr5:78281698-78281840__chr5:782...</td>\n",
       "      <td>71</td>\n",
       "      <td>154</td>\n",
       "      <td>839.8032</td>\n",
       "      <td>995.9447</td>\n",
       "      <td>0.2460</td>\n",
       "      <td>27</td>\n",
       "    </tr>\n",
       "    <tr>\n",
       "      <th>1</th>\n",
       "      <td>1</td>\n",
       "      <td>A:HNF4A-NoMod_chr17:27505275-27505406__chr17:2...</td>\n",
       "      <td>24</td>\n",
       "      <td>62</td>\n",
       "      <td>786.6728</td>\n",
       "      <td>1069.6776</td>\n",
       "      <td>0.4433</td>\n",
       "      <td>10</td>\n",
       "    </tr>\n",
       "    <tr>\n",
       "      <th>2</th>\n",
       "      <td>1</td>\n",
       "      <td>A:HNF4A-NoMod_chr17:37895425-37895596__chr17:3...</td>\n",
       "      <td>49</td>\n",
       "      <td>123</td>\n",
       "      <td>861.2268</td>\n",
       "      <td>1163.7696</td>\n",
       "      <td>0.4343</td>\n",
       "      <td>18</td>\n",
       "    </tr>\n",
       "    <tr>\n",
       "      <th>3</th>\n",
       "      <td>1</td>\n",
       "      <td>C:SLEA_hg18:chr9:82902419-82902586|13:V_HNF6_Q...</td>\n",
       "      <td>40</td>\n",
       "      <td>100</td>\n",
       "      <td>848.3727</td>\n",
       "      <td>1139.0086</td>\n",
       "      <td>0.4250</td>\n",
       "      <td>15</td>\n",
       "    </tr>\n",
       "    <tr>\n",
       "      <th>4</th>\n",
       "      <td>1</td>\n",
       "      <td>R:EP300-ChMod_chr19:3397595-3397766__chr19:339...</td>\n",
       "      <td>36</td>\n",
       "      <td>77</td>\n",
       "      <td>826.3370</td>\n",
       "      <td>965.6812</td>\n",
       "      <td>0.2248</td>\n",
       "      <td>14</td>\n",
       "    </tr>\n",
       "    <tr>\n",
       "      <th>5</th>\n",
       "      <td>1</td>\n",
       "      <td>R:EP300-ChMod_chr4:6784271-6784442__chr4:67842...</td>\n",
       "      <td>39</td>\n",
       "      <td>69</td>\n",
       "      <td>875.9172</td>\n",
       "      <td>880.7861</td>\n",
       "      <td>0.0080</td>\n",
       "      <td>14</td>\n",
       "    </tr>\n",
       "    <tr>\n",
       "      <th>6</th>\n",
       "      <td>1</td>\n",
       "      <td>R:EP300-NoMod_chr3:23958571-23958742__chr3:239...</td>\n",
       "      <td>27</td>\n",
       "      <td>47</td>\n",
       "      <td>799.2933</td>\n",
       "      <td>783.3498</td>\n",
       "      <td>-0.0291</td>\n",
       "      <td>11</td>\n",
       "    </tr>\n",
       "    <tr>\n",
       "      <th>7</th>\n",
       "      <td>1</td>\n",
       "      <td>R:FOXA1-ChMod_chr6:137674036-137674152__chr6:1...</td>\n",
       "      <td>27</td>\n",
       "      <td>48</td>\n",
       "      <td>856.0851</td>\n",
       "      <td>861.6847</td>\n",
       "      <td>0.0094</td>\n",
       "      <td>10</td>\n",
       "    </tr>\n",
       "    <tr>\n",
       "      <th>8</th>\n",
       "      <td>1</td>\n",
       "      <td>R:FOXA1_FOXA2-ChMod_chr5:74172389-74172557__ch...</td>\n",
       "      <td>61</td>\n",
       "      <td>89</td>\n",
       "      <td>1113.4891</td>\n",
       "      <td>974.9666</td>\n",
       "      <td>-0.1917</td>\n",
       "      <td>16</td>\n",
       "    </tr>\n",
       "    <tr>\n",
       "      <th>9</th>\n",
       "      <td>1</td>\n",
       "      <td>R:FOXA1_FOXA2-ChMod_chr6:11393329-11393497__ch...</td>\n",
       "      <td>24</td>\n",
       "      <td>44</td>\n",
       "      <td>786.6728</td>\n",
       "      <td>802.2582</td>\n",
       "      <td>0.0283</td>\n",
       "      <td>10</td>\n",
       "    </tr>\n",
       "    <tr>\n",
       "      <th>10</th>\n",
       "      <td>1</td>\n",
       "      <td>R:HNF4A-ChMod_chr1:27320293-27320362__chr1:273...</td>\n",
       "      <td>49</td>\n",
       "      <td>79</td>\n",
       "      <td>987.1973</td>\n",
       "      <td>931.0157</td>\n",
       "      <td>-0.0845</td>\n",
       "      <td>15</td>\n",
       "    </tr>\n",
       "    <tr>\n",
       "      <th>11</th>\n",
       "      <td>1</td>\n",
       "      <td>R:HNF4A-NoMod_chr5:42824710-42824777__chr5:428...</td>\n",
       "      <td>52</td>\n",
       "      <td>106</td>\n",
       "      <td>899.7892</td>\n",
       "      <td>1023.4570</td>\n",
       "      <td>0.1858</td>\n",
       "      <td>18</td>\n",
       "    </tr>\n",
       "    <tr>\n",
       "      <th>12</th>\n",
       "      <td>2</td>\n",
       "      <td>A:HNF4A-ChMod_chr5:78281698-78281840__chr5:782...</td>\n",
       "      <td>35</td>\n",
       "      <td>82</td>\n",
       "      <td>1001.9613</td>\n",
       "      <td>1310.5794</td>\n",
       "      <td>0.3874</td>\n",
       "      <td>12</td>\n",
       "    </tr>\n",
       "    <tr>\n",
       "      <th>13</th>\n",
       "      <td>2</td>\n",
       "      <td>C:SLEA_hg18:chr9:82902419-82902586|13:V_HNF6_Q...</td>\n",
       "      <td>42</td>\n",
       "      <td>156</td>\n",
       "      <td>887.8455</td>\n",
       "      <td>1702.6051</td>\n",
       "      <td>0.9394</td>\n",
       "      <td>17</td>\n",
       "    </tr>\n",
       "    <tr>\n",
       "      <th>14</th>\n",
       "      <td>2</td>\n",
       "      <td>R:EP300-ChMod_chr19:3397595-3397766__chr19:339...</td>\n",
       "      <td>41</td>\n",
       "      <td>81</td>\n",
       "      <td>955.0610</td>\n",
       "      <td>1070.7713</td>\n",
       "      <td>0.1650</td>\n",
       "      <td>15</td>\n",
       "    </tr>\n",
       "    <tr>\n",
       "      <th>15</th>\n",
       "      <td>2</td>\n",
       "      <td>R:FOXA1_FOXA2-ChMod_chr5:74172389-74172557__ch...</td>\n",
       "      <td>41</td>\n",
       "      <td>46</td>\n",
       "      <td>1304.6815</td>\n",
       "      <td>936.9249</td>\n",
       "      <td>-0.4777</td>\n",
       "      <td>10</td>\n",
       "    </tr>\n",
       "    <tr>\n",
       "      <th>16</th>\n",
       "      <td>2</td>\n",
       "      <td>R:HNF4A-ChMod_chr1:27320293-27320362__chr1:273...</td>\n",
       "      <td>35</td>\n",
       "      <td>57</td>\n",
       "      <td>1001.9613</td>\n",
       "      <td>962.0211</td>\n",
       "      <td>-0.0587</td>\n",
       "      <td>12</td>\n",
       "    </tr>\n",
       "    <tr>\n",
       "      <th>17</th>\n",
       "      <td>3</td>\n",
       "      <td>A:HNF4A-NoMod_chr17:27505275-27505406__chr17:2...</td>\n",
       "      <td>35</td>\n",
       "      <td>80</td>\n",
       "      <td>870.3220</td>\n",
       "      <td>1085.2182</td>\n",
       "      <td>0.3184</td>\n",
       "      <td>15</td>\n",
       "    </tr>\n",
       "    <tr>\n",
       "      <th>18</th>\n",
       "      <td>3</td>\n",
       "      <td>A:HNF4A-NoMod_chr17:37895425-37895596__chr17:3...</td>\n",
       "      <td>59</td>\n",
       "      <td>95</td>\n",
       "      <td>1167.2554</td>\n",
       "      <td>1128.8957</td>\n",
       "      <td>-0.0482</td>\n",
       "      <td>17</td>\n",
       "    </tr>\n",
       "    <tr>\n",
       "      <th>19</th>\n",
       "      <td>3</td>\n",
       "      <td>C:SLEA_hg18:chr9:82902419-82902586|13:V_HNF6_Q...</td>\n",
       "      <td>30</td>\n",
       "      <td>123</td>\n",
       "      <td>863.6272</td>\n",
       "      <td>1792.5871</td>\n",
       "      <td>1.0536</td>\n",
       "      <td>13</td>\n",
       "    </tr>\n",
       "    <tr>\n",
       "      <th>20</th>\n",
       "      <td>3</td>\n",
       "      <td>C:SLEA_hg18:chr9:82902419-82902586|24:V_HNF4_Q...</td>\n",
       "      <td>25</td>\n",
       "      <td>65</td>\n",
       "      <td>913.8381</td>\n",
       "      <td>1285.1268</td>\n",
       "      <td>0.4919</td>\n",
       "      <td>10</td>\n",
       "    </tr>\n",
       "    <tr>\n",
       "      <th>21</th>\n",
       "      <td>3</td>\n",
       "      <td>R:EP300-ChMod_chr19:3397595-3397766__chr19:339...</td>\n",
       "      <td>46</td>\n",
       "      <td>72</td>\n",
       "      <td>1184.9769</td>\n",
       "      <td>1120.3670</td>\n",
       "      <td>-0.0809</td>\n",
       "      <td>13</td>\n",
       "    </tr>\n",
       "    <tr>\n",
       "      <th>22</th>\n",
       "      <td>3</td>\n",
       "      <td>R:FOXA1_FOXA2-ChMod_chr5:74172389-74172557__ch...</td>\n",
       "      <td>45</td>\n",
       "      <td>75</td>\n",
       "      <td>1100.3357</td>\n",
       "      <td>1089.2980</td>\n",
       "      <td>-0.0145</td>\n",
       "      <td>14</td>\n",
       "    </tr>\n",
       "    <tr>\n",
       "      <th>23</th>\n",
       "      <td>3</td>\n",
       "      <td>R:HNF4A-ChMod_chr1:27320293-27320362__chr1:273...</td>\n",
       "      <td>46</td>\n",
       "      <td>66</td>\n",
       "      <td>1184.9769</td>\n",
       "      <td>1041.2822</td>\n",
       "      <td>-0.1865</td>\n",
       "      <td>13</td>\n",
       "    </tr>\n",
       "    <tr>\n",
       "      <th>24</th>\n",
       "      <td>3</td>\n",
       "      <td>R:HNF4A-NoMod_chr5:42824710-42824777__chr5:428...</td>\n",
       "      <td>45</td>\n",
       "      <td>73</td>\n",
       "      <td>1044.3864</td>\n",
       "      <td>1005.2547</td>\n",
       "      <td>-0.0551</td>\n",
       "      <td>15</td>\n",
       "    </tr>\n",
       "  </tbody>\n",
       "</table>\n",
       "</div>"
      ],
      "text/plain": [
       "    replicate                                         oligo_name  dna_counts  \\\n",
       "0           1  A:HNF4A-ChMod_chr5:78281698-78281840__chr5:782...          71   \n",
       "1           1  A:HNF4A-NoMod_chr17:27505275-27505406__chr17:2...          24   \n",
       "2           1  A:HNF4A-NoMod_chr17:37895425-37895596__chr17:3...          49   \n",
       "3           1  C:SLEA_hg18:chr9:82902419-82902586|13:V_HNF6_Q...          40   \n",
       "4           1  R:EP300-ChMod_chr19:3397595-3397766__chr19:339...          36   \n",
       "5           1  R:EP300-ChMod_chr4:6784271-6784442__chr4:67842...          39   \n",
       "6           1  R:EP300-NoMod_chr3:23958571-23958742__chr3:239...          27   \n",
       "7           1  R:FOXA1-ChMod_chr6:137674036-137674152__chr6:1...          27   \n",
       "8           1  R:FOXA1_FOXA2-ChMod_chr5:74172389-74172557__ch...          61   \n",
       "9           1  R:FOXA1_FOXA2-ChMod_chr6:11393329-11393497__ch...          24   \n",
       "10          1  R:HNF4A-ChMod_chr1:27320293-27320362__chr1:273...          49   \n",
       "11          1  R:HNF4A-NoMod_chr5:42824710-42824777__chr5:428...          52   \n",
       "12          2  A:HNF4A-ChMod_chr5:78281698-78281840__chr5:782...          35   \n",
       "13          2  C:SLEA_hg18:chr9:82902419-82902586|13:V_HNF6_Q...          42   \n",
       "14          2  R:EP300-ChMod_chr19:3397595-3397766__chr19:339...          41   \n",
       "15          2  R:FOXA1_FOXA2-ChMod_chr5:74172389-74172557__ch...          41   \n",
       "16          2  R:HNF4A-ChMod_chr1:27320293-27320362__chr1:273...          35   \n",
       "17          3  A:HNF4A-NoMod_chr17:27505275-27505406__chr17:2...          35   \n",
       "18          3  A:HNF4A-NoMod_chr17:37895425-37895596__chr17:3...          59   \n",
       "19          3  C:SLEA_hg18:chr9:82902419-82902586|13:V_HNF6_Q...          30   \n",
       "20          3  C:SLEA_hg18:chr9:82902419-82902586|24:V_HNF4_Q...          25   \n",
       "21          3  R:EP300-ChMod_chr19:3397595-3397766__chr19:339...          46   \n",
       "22          3  R:FOXA1_FOXA2-ChMod_chr5:74172389-74172557__ch...          45   \n",
       "23          3  R:HNF4A-ChMod_chr1:27320293-27320362__chr1:273...          46   \n",
       "24          3  R:HNF4A-NoMod_chr5:42824710-42824777__chr5:428...          45   \n",
       "\n",
       "    rna_counts  dna_normalized  rna_normalized  log2FoldChange  n_bc  \n",
       "0          154        839.8032        995.9447          0.2460    27  \n",
       "1           62        786.6728       1069.6776          0.4433    10  \n",
       "2          123        861.2268       1163.7696          0.4343    18  \n",
       "3          100        848.3727       1139.0086          0.4250    15  \n",
       "4           77        826.3370        965.6812          0.2248    14  \n",
       "5           69        875.9172        880.7861          0.0080    14  \n",
       "6           47        799.2933        783.3498         -0.0291    11  \n",
       "7           48        856.0851        861.6847          0.0094    10  \n",
       "8           89       1113.4891        974.9666         -0.1917    16  \n",
       "9           44        786.6728        802.2582          0.0283    10  \n",
       "10          79        987.1973        931.0157         -0.0845    15  \n",
       "11         106        899.7892       1023.4570          0.1858    18  \n",
       "12          82       1001.9613       1310.5794          0.3874    12  \n",
       "13         156        887.8455       1702.6051          0.9394    17  \n",
       "14          81        955.0610       1070.7713          0.1650    15  \n",
       "15          46       1304.6815        936.9249         -0.4777    10  \n",
       "16          57       1001.9613        962.0211         -0.0587    12  \n",
       "17          80        870.3220       1085.2182          0.3184    15  \n",
       "18          95       1167.2554       1128.8957         -0.0482    17  \n",
       "19         123        863.6272       1792.5871          1.0536    13  \n",
       "20          65        913.8381       1285.1268          0.4919    10  \n",
       "21          72       1184.9769       1120.3670         -0.0809    13  \n",
       "22          75       1100.3357       1089.2980         -0.0145    14  \n",
       "23          66       1184.9769       1041.2822         -0.1865    13  \n",
       "24          73       1044.3864       1005.2547         -0.0551    15  "
      ]
     },
     "metadata": {},
     "output_type": "display_data"
    }
   ],
   "source": [
    "from mpralib.utils import export_activity_file, export_barcode_file\n",
    "export_activity_file(mpradata, \"activity.tsv\")\n",
    "\n",
    "df = pd.read_csv(\"activity.tsv\", sep='\\t')\n",
    "display(df)"
   ]
  },
  {
   "cell_type": "markdown",
   "metadata": {},
   "source": [
    "So every oligo per replicate is written into one row with its counts, normalized counts, log2 fold change and the number of supporting barcodes. In total there are only 25 entries beacuse we did this drastical filtering before.\n",
    "\n",
    "We can also write out the results in a barcode format"
   ]
  },
  {
   "cell_type": "code",
   "execution_count": 43,
   "metadata": {},
   "outputs": [
    {
     "data": {
      "application/vnd.microsoft.datawrangler.viewer.v0+json": {
       "columns": [
        {
         "name": "index",
         "rawType": "int64",
         "type": "integer"
        },
        {
         "name": "barcode",
         "rawType": "object",
         "type": "string"
        },
        {
         "name": "oligo_name",
         "rawType": "object",
         "type": "string"
        },
        {
         "name": "dna_count_1",
         "rawType": "float64",
         "type": "float"
        },
        {
         "name": "rna_count_1",
         "rawType": "float64",
         "type": "float"
        },
        {
         "name": "dna_count_2",
         "rawType": "float64",
         "type": "float"
        },
        {
         "name": "rna_count_2",
         "rawType": "float64",
         "type": "float"
        },
        {
         "name": "dna_count_3",
         "rawType": "float64",
         "type": "float"
        },
        {
         "name": "rna_count_3",
         "rawType": "float64",
         "type": "float"
        }
       ],
       "conversionMethod": "pd.DataFrame",
       "ref": "d9e603a0-56d0-4fc9-a7ba-1a414d433b54",
       "rows": [
        [
         "0",
         "TACTCTCCGTGCCCA",
         "A:HNF4A-ChMod_chr10:11917871-11917984__chr10:11917842-11918013_:015",
         null,
         null,
         null,
         null,
         null,
         null
        ],
        [
         "1",
         "GGTATAACATCTCCG",
         "A:HNF4A-ChMod_chr10:11917871-11917984__chr10:11917842-11918013_:015",
         null,
         null,
         null,
         null,
         null,
         null
        ],
        [
         "2",
         "TTAGGAGTCACACGT",
         "A:HNF4A-ChMod_chr10:11917871-11917984__chr10:11917842-11918013_:015",
         null,
         null,
         null,
         null,
         null,
         null
        ],
        [
         "3",
         "GAATATAACACCCGA",
         "A:HNF4A-ChMod_chr10:11917871-11917984__chr10:11917842-11918013_:015",
         null,
         null,
         null,
         null,
         null,
         null
        ],
        [
         "4",
         "AAACACCGCGCTCTA",
         "A:HNF4A-ChMod_chr10:11917871-11917984__chr10:11917842-11918013_:015",
         null,
         null,
         null,
         null,
         null,
         null
        ],
        [
         "5",
         "CCTTGGCGATATACT",
         "A:HNF4A-ChMod_chr10:11917871-11917984__chr10:11917842-11918013_:015",
         null,
         null,
         null,
         null,
         null,
         null
        ],
        [
         "6",
         "CCATTGGCTGCATAC",
         "A:HNF4A-ChMod_chr10:11917871-11917984__chr10:11917842-11918013_:015",
         null,
         null,
         null,
         null,
         null,
         null
        ],
        [
         "7",
         "TTGCCCGCACTCTAG",
         "A:HNF4A-ChMod_chr10:11917871-11917984__chr10:11917842-11918013_:015",
         null,
         null,
         null,
         null,
         null,
         null
        ],
        [
         "8",
         "TTCCGGCAGGATGCC",
         "A:HNF4A-ChMod_chr10:11917871-11917984__chr10:11917842-11918013_:015",
         null,
         null,
         null,
         null,
         null,
         null
        ],
        [
         "9",
         "ACCCCGCCTCTGCGT",
         "A:HNF4A-ChMod_chr10:11917871-11917984__chr10:11917842-11918013_:015",
         null,
         null,
         null,
         null,
         null,
         null
        ],
        [
         "10",
         "TCATCCATTTTCCAC",
         "A:HNF4A-ChMod_chr10:11917871-11917984__chr10:11917842-11918013_:015",
         null,
         null,
         null,
         null,
         null,
         null
        ],
        [
         "11",
         "ACTAACACCACACTG",
         "A:HNF4A-ChMod_chr10:11917871-11917984__chr10:11917842-11918013_:015",
         null,
         null,
         null,
         null,
         null,
         null
        ],
        [
         "12",
         "TCATCTCGCAATCTC",
         "A:HNF4A-ChMod_chr10:11917871-11917984__chr10:11917842-11918013_:015",
         null,
         null,
         null,
         null,
         null,
         null
        ],
        [
         "13",
         "CTTACCGTACACCGG",
         "A:HNF4A-ChMod_chr10:11917871-11917984__chr10:11917842-11918013_:015",
         null,
         null,
         null,
         null,
         null,
         null
        ],
        [
         "14",
         "TAGCGTGAAACCGAC",
         "A:HNF4A-ChMod_chr10:11917871-11917984__chr10:11917842-11918013_:015",
         null,
         null,
         null,
         null,
         null,
         null
        ],
        [
         "15",
         "ATTTGCACCTTCTCA",
         "A:HNF4A-ChMod_chr10:11917871-11917984__chr10:11917842-11918013_:015",
         null,
         null,
         null,
         null,
         null,
         null
        ],
        [
         "16",
         "AGCCAATTGAATGGC",
         "A:HNF4A-ChMod_chr10:11917871-11917984__chr10:11917842-11918013_:015",
         null,
         null,
         null,
         null,
         null,
         null
        ],
        [
         "17",
         "ATACATGGGCCCGCC",
         "A:HNF4A-ChMod_chr10:11917871-11917984__chr10:11917842-11918013_:015",
         null,
         null,
         null,
         null,
         null,
         null
        ],
        [
         "18",
         "CACTAGTACATTTAG",
         "A:HNF4A-ChMod_chr10:11917871-11917984__chr10:11917842-11918013_:015",
         null,
         null,
         null,
         null,
         null,
         null
        ],
        [
         "19",
         "TAACGACGATGCGCG",
         "A:HNF4A-ChMod_chr10:11917871-11917984__chr10:11917842-11918013_:015",
         null,
         null,
         null,
         null,
         null,
         null
        ],
        [
         "20",
         "GCACAGTCTGGATTG",
         "A:HNF4A-ChMod_chr10:11917871-11917984__chr10:11917842-11918013_:015",
         null,
         null,
         null,
         null,
         null,
         null
        ],
        [
         "21",
         "CACCGAATGTGCGCT",
         "A:HNF4A-ChMod_chr10:11917871-11917984__chr10:11917842-11918013_:015",
         null,
         null,
         null,
         null,
         null,
         null
        ],
        [
         "22",
         "CCTCCATACAGTACG",
         "A:HNF4A-ChMod_chr10:11917871-11917984__chr10:11917842-11918013_:015",
         null,
         null,
         null,
         null,
         null,
         null
        ],
        [
         "23",
         "CCAGCCATTACCGCT",
         "A:HNF4A-ChMod_chr10:11917871-11917984__chr10:11917842-11918013_:015",
         null,
         null,
         null,
         null,
         null,
         null
        ],
        [
         "24",
         "AATAGCCTCATTTGC",
         "A:HNF4A-ChMod_chr10:11917871-11917984__chr10:11917842-11918013_:015",
         null,
         null,
         null,
         null,
         null,
         null
        ],
        [
         "25",
         "CTTCTATTCACGTTC",
         "A:HNF4A-ChMod_chr10:11917871-11917984__chr10:11917842-11918013_:015",
         null,
         null,
         null,
         null,
         null,
         null
        ],
        [
         "26",
         "GACATGAGTCTATCC",
         "A:HNF4A-ChMod_chr10:11917871-11917984__chr10:11917842-11918013_:015",
         null,
         null,
         null,
         null,
         null,
         null
        ],
        [
         "27",
         "ACGAGAGTGAGACCA",
         "A:HNF4A-ChMod_chr10:11917871-11917984__chr10:11917842-11918013_:015",
         null,
         null,
         null,
         null,
         null,
         null
        ],
        [
         "28",
         "ATACACTGCCATCTG",
         "A:HNF4A-ChMod_chr10:11917871-11917984__chr10:11917842-11918013_:015",
         null,
         null,
         null,
         null,
         null,
         null
        ],
        [
         "29",
         "TTTCACCGATAGGCT",
         "A:HNF4A-ChMod_chr10:11917871-11917984__chr10:11917842-11918013_:015",
         null,
         null,
         null,
         null,
         null,
         null
        ],
        [
         "30",
         "CTTCACACAATCTAC",
         "A:HNF4A-ChMod_chr10:11917871-11917984__chr10:11917842-11918013_:015",
         null,
         null,
         null,
         null,
         null,
         null
        ],
        [
         "31",
         "TATTACGGGCAACGA",
         "A:HNF4A-ChMod_chr10:11917871-11917984__chr10:11917842-11918013_:015",
         null,
         null,
         null,
         null,
         null,
         null
        ],
        [
         "32",
         "AGACGCACTACCACC",
         "A:HNF4A-ChMod_chr10:11917871-11917984__chr10:11917842-11918013_:015",
         null,
         null,
         null,
         null,
         null,
         null
        ],
        [
         "33",
         "ATTACGATCAACCCG",
         "A:HNF4A-ChMod_chr10:11917871-11917984__chr10:11917842-11918013_:015",
         null,
         null,
         null,
         null,
         null,
         null
        ],
        [
         "34",
         "AGTCGCTCTCCCAGG",
         "A:HNF4A-ChMod_chr10:11917871-11917984__chr10:11917842-11918013_:015",
         null,
         null,
         null,
         null,
         null,
         null
        ],
        [
         "35",
         "TGTATTTCCCCTATA",
         "A:HNF4A-ChMod_chr10:11917871-11917984__chr10:11917842-11918013_:015",
         null,
         null,
         null,
         null,
         null,
         null
        ],
        [
         "36",
         "TCTTGAGAGCATACA",
         "A:HNF4A-ChMod_chr10:11917871-11917984__chr10:11917842-11918013_:015",
         null,
         null,
         null,
         null,
         null,
         null
        ],
        [
         "37",
         "GGCTTACTTTCACCA",
         "A:HNF4A-ChMod_chr10:11917871-11917984__chr10:11917842-11918013_:015",
         "2.0",
         "4.0",
         null,
         null,
         null,
         null
        ],
        [
         "38",
         "TTTAACACTGTGCTC",
         "A:HNF4A-ChMod_chr10:11917871-11917984__chr10:11917842-11918013_:015",
         null,
         null,
         null,
         null,
         null,
         null
        ],
        [
         "39",
         "CTAACCTCCAGTCGC",
         "A:HNF4A-ChMod_chr10:11917871-11917984__chr10:11917842-11918013_:015",
         null,
         null,
         null,
         null,
         null,
         null
        ],
        [
         "40",
         "ACGCGCTTGGCCATA",
         "A:HNF4A-ChMod_chr10:11917871-11917984__chr10:11917842-11918013_:015",
         null,
         null,
         null,
         null,
         null,
         null
        ],
        [
         "41",
         "TTCCCACCTACGTGA",
         "A:HNF4A-ChMod_chr10:11917871-11917984__chr10:11917842-11918013_:015",
         null,
         null,
         null,
         null,
         null,
         null
        ],
        [
         "42",
         "ACCGCGACTGCCGGT",
         "A:HNF4A-ChMod_chr10:11917871-11917984__chr10:11917842-11918013_:015",
         null,
         null,
         null,
         null,
         null,
         null
        ],
        [
         "43",
         "CTCACCCATACGTCC",
         "A:HNF4A-ChMod_chr10:11917871-11917984__chr10:11917842-11918013_:015",
         null,
         null,
         null,
         null,
         null,
         null
        ],
        [
         "44",
         "GGGCAAACTACTGAT",
         "A:HNF4A-ChMod_chr10:11917871-11917984__chr10:11917842-11918013_:015",
         null,
         null,
         null,
         null,
         null,
         null
        ],
        [
         "45",
         "GCTTGGCCGATTCTC",
         "A:HNF4A-ChMod_chr10:11917871-11917984__chr10:11917842-11918013_:015",
         null,
         null,
         null,
         null,
         null,
         null
        ],
        [
         "46",
         "GTTCTCAAGCCCACC",
         "A:HNF4A-ChMod_chr10:11917871-11917984__chr10:11917842-11918013_:015",
         null,
         null,
         null,
         null,
         null,
         null
        ],
        [
         "47",
         "TTGGCCTCTAGCTGA",
         "A:HNF4A-ChMod_chr10:11917871-11917984__chr10:11917842-11918013_:015",
         null,
         null,
         null,
         null,
         null,
         null
        ],
        [
         "48",
         "AGGCCTTTTACCCAA",
         "A:HNF4A-ChMod_chr10:11917871-11917984__chr10:11917842-11918013_:015",
         null,
         null,
         null,
         null,
         null,
         null
        ],
        [
         "49",
         "CTACTCTTCCGCCAG",
         "A:HNF4A-ChMod_chr10:11917871-11917984__chr10:11917842-11918013_:015",
         null,
         null,
         null,
         null,
         null,
         null
        ]
       ],
       "shape": {
        "columns": 8,
        "rows": 92729
       }
      },
      "text/html": [
       "<div>\n",
       "<style scoped>\n",
       "    .dataframe tbody tr th:only-of-type {\n",
       "        vertical-align: middle;\n",
       "    }\n",
       "\n",
       "    .dataframe tbody tr th {\n",
       "        vertical-align: top;\n",
       "    }\n",
       "\n",
       "    .dataframe thead th {\n",
       "        text-align: right;\n",
       "    }\n",
       "</style>\n",
       "<table border=\"1\" class=\"dataframe\">\n",
       "  <thead>\n",
       "    <tr style=\"text-align: right;\">\n",
       "      <th></th>\n",
       "      <th>barcode</th>\n",
       "      <th>oligo_name</th>\n",
       "      <th>dna_count_1</th>\n",
       "      <th>rna_count_1</th>\n",
       "      <th>dna_count_2</th>\n",
       "      <th>rna_count_2</th>\n",
       "      <th>dna_count_3</th>\n",
       "      <th>rna_count_3</th>\n",
       "    </tr>\n",
       "  </thead>\n",
       "  <tbody>\n",
       "    <tr>\n",
       "      <th>0</th>\n",
       "      <td>TACTCTCCGTGCCCA</td>\n",
       "      <td>A:HNF4A-ChMod_chr10:11917871-11917984__chr10:1...</td>\n",
       "      <td>NaN</td>\n",
       "      <td>NaN</td>\n",
       "      <td>NaN</td>\n",
       "      <td>NaN</td>\n",
       "      <td>NaN</td>\n",
       "      <td>NaN</td>\n",
       "    </tr>\n",
       "    <tr>\n",
       "      <th>1</th>\n",
       "      <td>GGTATAACATCTCCG</td>\n",
       "      <td>A:HNF4A-ChMod_chr10:11917871-11917984__chr10:1...</td>\n",
       "      <td>NaN</td>\n",
       "      <td>NaN</td>\n",
       "      <td>NaN</td>\n",
       "      <td>NaN</td>\n",
       "      <td>NaN</td>\n",
       "      <td>NaN</td>\n",
       "    </tr>\n",
       "    <tr>\n",
       "      <th>2</th>\n",
       "      <td>TTAGGAGTCACACGT</td>\n",
       "      <td>A:HNF4A-ChMod_chr10:11917871-11917984__chr10:1...</td>\n",
       "      <td>NaN</td>\n",
       "      <td>NaN</td>\n",
       "      <td>NaN</td>\n",
       "      <td>NaN</td>\n",
       "      <td>NaN</td>\n",
       "      <td>NaN</td>\n",
       "    </tr>\n",
       "    <tr>\n",
       "      <th>3</th>\n",
       "      <td>GAATATAACACCCGA</td>\n",
       "      <td>A:HNF4A-ChMod_chr10:11917871-11917984__chr10:1...</td>\n",
       "      <td>NaN</td>\n",
       "      <td>NaN</td>\n",
       "      <td>NaN</td>\n",
       "      <td>NaN</td>\n",
       "      <td>NaN</td>\n",
       "      <td>NaN</td>\n",
       "    </tr>\n",
       "    <tr>\n",
       "      <th>4</th>\n",
       "      <td>AAACACCGCGCTCTA</td>\n",
       "      <td>A:HNF4A-ChMod_chr10:11917871-11917984__chr10:1...</td>\n",
       "      <td>NaN</td>\n",
       "      <td>NaN</td>\n",
       "      <td>NaN</td>\n",
       "      <td>NaN</td>\n",
       "      <td>NaN</td>\n",
       "      <td>NaN</td>\n",
       "    </tr>\n",
       "    <tr>\n",
       "      <th>...</th>\n",
       "      <td>...</td>\n",
       "      <td>...</td>\n",
       "      <td>...</td>\n",
       "      <td>...</td>\n",
       "      <td>...</td>\n",
       "      <td>...</td>\n",
       "      <td>...</td>\n",
       "      <td>...</td>\n",
       "    </tr>\n",
       "    <tr>\n",
       "      <th>92724</th>\n",
       "      <td>ACCCTATCAACGGCT</td>\n",
       "      <td>R:HNF4A-NoMod_chrY:18213828-18213963__chrY:182...</td>\n",
       "      <td>NaN</td>\n",
       "      <td>NaN</td>\n",
       "      <td>NaN</td>\n",
       "      <td>NaN</td>\n",
       "      <td>NaN</td>\n",
       "      <td>NaN</td>\n",
       "    </tr>\n",
       "    <tr>\n",
       "      <th>92725</th>\n",
       "      <td>AAGCGCTCGGCGATT</td>\n",
       "      <td>R:HNF4A-NoMod_chrY:18213828-18213963__chrY:182...</td>\n",
       "      <td>NaN</td>\n",
       "      <td>NaN</td>\n",
       "      <td>NaN</td>\n",
       "      <td>NaN</td>\n",
       "      <td>NaN</td>\n",
       "      <td>NaN</td>\n",
       "    </tr>\n",
       "    <tr>\n",
       "      <th>92726</th>\n",
       "      <td>CCCGACGGTCCCGGC</td>\n",
       "      <td>R:HNF4A-NoMod_chrY:18213828-18213963__chrY:182...</td>\n",
       "      <td>NaN</td>\n",
       "      <td>NaN</td>\n",
       "      <td>NaN</td>\n",
       "      <td>NaN</td>\n",
       "      <td>NaN</td>\n",
       "      <td>NaN</td>\n",
       "    </tr>\n",
       "    <tr>\n",
       "      <th>92727</th>\n",
       "      <td>CCAATCATCGAACTT</td>\n",
       "      <td>R:HNF4A-NoMod_chrY:18213828-18213963__chrY:182...</td>\n",
       "      <td>NaN</td>\n",
       "      <td>NaN</td>\n",
       "      <td>NaN</td>\n",
       "      <td>NaN</td>\n",
       "      <td>NaN</td>\n",
       "      <td>NaN</td>\n",
       "    </tr>\n",
       "    <tr>\n",
       "      <th>92728</th>\n",
       "      <td>AAACGCCCGCCACTC</td>\n",
       "      <td>R:HNF4A-NoMod_chrY:18213828-18213963__chrY:182...</td>\n",
       "      <td>NaN</td>\n",
       "      <td>NaN</td>\n",
       "      <td>NaN</td>\n",
       "      <td>NaN</td>\n",
       "      <td>NaN</td>\n",
       "      <td>NaN</td>\n",
       "    </tr>\n",
       "  </tbody>\n",
       "</table>\n",
       "<p>92729 rows × 8 columns</p>\n",
       "</div>"
      ],
      "text/plain": [
       "               barcode                                         oligo_name  \\\n",
       "0      TACTCTCCGTGCCCA  A:HNF4A-ChMod_chr10:11917871-11917984__chr10:1...   \n",
       "1      GGTATAACATCTCCG  A:HNF4A-ChMod_chr10:11917871-11917984__chr10:1...   \n",
       "2      TTAGGAGTCACACGT  A:HNF4A-ChMod_chr10:11917871-11917984__chr10:1...   \n",
       "3      GAATATAACACCCGA  A:HNF4A-ChMod_chr10:11917871-11917984__chr10:1...   \n",
       "4      AAACACCGCGCTCTA  A:HNF4A-ChMod_chr10:11917871-11917984__chr10:1...   \n",
       "...                ...                                                ...   \n",
       "92724  ACCCTATCAACGGCT  R:HNF4A-NoMod_chrY:18213828-18213963__chrY:182...   \n",
       "92725  AAGCGCTCGGCGATT  R:HNF4A-NoMod_chrY:18213828-18213963__chrY:182...   \n",
       "92726  CCCGACGGTCCCGGC  R:HNF4A-NoMod_chrY:18213828-18213963__chrY:182...   \n",
       "92727  CCAATCATCGAACTT  R:HNF4A-NoMod_chrY:18213828-18213963__chrY:182...   \n",
       "92728  AAACGCCCGCCACTC  R:HNF4A-NoMod_chrY:18213828-18213963__chrY:182...   \n",
       "\n",
       "       dna_count_1  rna_count_1  dna_count_2  rna_count_2  dna_count_3  \\\n",
       "0              NaN          NaN          NaN          NaN          NaN   \n",
       "1              NaN          NaN          NaN          NaN          NaN   \n",
       "2              NaN          NaN          NaN          NaN          NaN   \n",
       "3              NaN          NaN          NaN          NaN          NaN   \n",
       "4              NaN          NaN          NaN          NaN          NaN   \n",
       "...            ...          ...          ...          ...          ...   \n",
       "92724          NaN          NaN          NaN          NaN          NaN   \n",
       "92725          NaN          NaN          NaN          NaN          NaN   \n",
       "92726          NaN          NaN          NaN          NaN          NaN   \n",
       "92727          NaN          NaN          NaN          NaN          NaN   \n",
       "92728          NaN          NaN          NaN          NaN          NaN   \n",
       "\n",
       "       rna_count_3  \n",
       "0              NaN  \n",
       "1              NaN  \n",
       "2              NaN  \n",
       "3              NaN  \n",
       "4              NaN  \n",
       "...            ...  \n",
       "92724          NaN  \n",
       "92725          NaN  \n",
       "92726          NaN  \n",
       "92727          NaN  \n",
       "92728          NaN  \n",
       "\n",
       "[92729 rows x 8 columns]"
      ]
     },
     "metadata": {},
     "output_type": "display_data"
    }
   ],
   "source": [
    "export_barcode_file(mpradata, \"barcodes.tsv\")\n",
    "\n",
    "df = pd.read_csv(\"barcodes.tsv\", sep='\\t')\n",
    "display(df)"
   ]
  },
  {
   "cell_type": "markdown",
   "metadata": {},
   "source": [
    "This dumped the whole DNA and rna counts into a file. Same format as we loaded the data. BUT now with the filtereing applied. So we see a lot of missing values."
   ]
  }
 ],
 "metadata": {
  "kernelspec": {
   "display_name": "jupyter",
   "language": "python",
   "name": "python3"
  },
  "language_info": {
   "codemirror_mode": {
    "name": "ipython",
    "version": 3
   },
   "file_extension": ".py",
   "mimetype": "text/x-python",
   "name": "python",
   "nbconvert_exporter": "python",
   "pygments_lexer": "ipython3",
   "version": "3.12.4"
  }
 },
 "nbformat": 4,
 "nbformat_minor": 2
}
