{
 "cells": [
  {
   "cell_type": "markdown",
   "metadata": {},
   "source": [
    "<a target=\"_blank\" href=\"https://colab.research.google.com/github/kircherlab/MPRAlib/examples/mpralib.ipynb\">\n",
    "  <img src=\"https://colab.research.google.com/assets/colab-badge.svg\" alt=\"Open In Colab\"/>\n",
    "</a>"
   ]
  },
  {
   "cell_type": "code",
   "execution_count": null,
   "metadata": {},
   "outputs": [],
   "source": [
    "!pip --quiet install \"MPRAlib==0.5.0\""
   ]
  },
  {
   "cell_type": "markdown",
   "metadata": {},
   "source": [
    "# Loading Data and Understanding the MPRAlib data structure\n",
    "\n",
    "Here we will load a barcode count file (output of [MPRAsnakeflow](https://github.com/kircherlab/MPRAsnakeflow)) into MPRAlib, more precise into an `MPRAData` data object in `mpralib.mpradata`. MPRAlib will generate an [AnnData](https://anndata.readthedocs.io) object out of it, which is acessable via `MRAData.data`:\n",
    "\n",
    "<img src=\"https://raw.githubusercontent.com/scverse/anndata/main/docs/_static/img/anndata_schema.svg\" alt=\"AnnData\" width=\"480 \"/>"
   ]
  },
  {
   "cell_type": "markdown",
   "metadata": {},
   "source": [
    "## Core data\n",
    "\n",
    "We defined two objects inhereted from `MPRAdata`:\n",
    "- `MPRABarcodeData` for DNA and RNA counts per barcode\n",
    "- `MPRAOligoData` for RNA and DNA counts aggregated per oligo\n",
    "\n",
    "`MPRABarcodeData` can be generated from `MPRABarcodeData` but not vice versa. So we start with the `MPRABarcodeData` object:"
   ]
  },
  {
   "cell_type": "markdown",
   "metadata": {},
   "source": [
    "### `MPRABarcodeData`\n",
    "\n",
    "- `var`: barcodes\n",
    "- `obs`: replicates\n",
    "\n",
    "Oligo names are also stored in `var` like `MPRABarcodeData.data.var[\"oligo\"]` and can also be accessed via `MPRABarcodeData.oligos`. Further DNA and RNA counts are stored in `layers` like `MPRABarcodeData.data.layers[\"dna\"]` and `layers[\"rna\"]`. This are the raw counts and those layers are never been modified. You can also access this data via `MPRABarcodeData.raw_rna_counts` and `MPRABarcodeData.raw_dna_counts`.\n",
    "\n",
    "Metadata is stored in the `MPRABarcodeData.data.uns` dictionary."
   ]
  },
  {
   "cell_type": "markdown",
   "metadata": {},
   "source": [
    "#### Extended count data\n",
    "\n",
    "There are some further layers that are dynamically updated via the library. This are:\n",
    "\n",
    "1. Normalization layers in `MPRABarcodeData.data.layers[\"dna_normalized\"]` and `MPRABarcodeData.data.layers[\"rna_normalized\"]`. Usually we have to normalize the data to account for different sequencing depths. This is done by dividing the raw counts by the sum of the counts all counts per replicate and scale them (usually `1e6` like counts per million). We use a pseudo count of `1` to avoid division by zero. So barcodes are allowed to be not observed in either RNA or DNA. When both counts are zero the library will take this barcodes as not observed and will not use it for counting/normalization etc. The pseudocount can be modified via `MPRABarcodeData.PSEUDOCOUNT` e.g. avoiding it via `MPRABarcodeData.PSEUDOCOUNT = 0`.\n",
    "2. Sampling layers in `MPRABarcodeData.data.layers[\"dna_sampling\"]` and `MPRABarcodeData.data.layers[\"rna_sampling\"]`. This is only an edge case when you want to downsample your counts.\n",
    "\n",
    "The library usually generates the layers and takes care of them. E.g. when barcode filtering is applied, the normalization layers are updated accordingly.\n",
    "\n",
    "MPRAlib provides some getters (in python properties) to access the data intuitively. E.g. `MPRABarcodeData.raw_dna_counts` will return the raw DNA counts. `MPRABarcodeData.raw_rna_counts` for RNA accordingly. If you use the property `MPRABarcodeData.rna_counts` or `MPRABarcodeData.dna_counts` it will return the latest counts. That can be the raw counts (if nothing was done), filtered counts when where some barcode counts are set to zero according to the barcode filter mask (see below), sampled or sampled and filtered counts. If you want to get norlazied counts use `MPRABarcodeData.normalized_rna_counts` or `MPRABarcodeData.normalized_dna_counts`. It returns the layer `\"rna_normalized\"` or `\"dna_normalized\"` which is a normalization of `MPRABarcodeData.rna_counts` or `MPRABarcodeData.dna_counts`."
   ]
  },
  {
   "cell_type": "markdown",
   "metadata": {},
   "source": [
    "#### Barcode filtering\n",
    "\n",
    "Barcode filters are (or in AnnData filter for `var`) stored in a n_barcodes x n_replicates matrix within the AnnData object `MPRABarcodeData.data.varm[\"var_filter\"]`. You can set any new filter using the setter `MPRABarcodeData.var_filter = new_filter`. The filter is a boolean matrix with `True` for barcodes that should be removed and `False` for barcodes that should be kept. This setter magically also updates the normalized counts for you.\n",
    "\n",
    "There are pre implemented methods to filter barcodes, like detecting outliers. We will cover this part later."
   ]
  },
  {
   "cell_type": "markdown",
   "metadata": {},
   "source": [
    "### Grouping Data by Oligo - The `MPRAOligoData` object\n",
    "\n",
    "Usually when we work with MPRA data we are not interested by the barcode count itself but an aggregated count version per oligo. This is done by grouping the data by oligo and writing a new MPRAlib object with a new AnnData object, called `MPRAOligoData` and `MPRAOligoData.data` accordingly. `MPRAOligoData` also inherits from `MPRAData` so has very similar functionality than `MPRABarcodeData`. It is a new AnnData object because the data structure is slightly different. The `var` are now the oligos and the `obs` remain the replicates. The layers `\"dna\"`, `\"rna\"`, `\"dna_normalized\"`, and  `\"rna_normalized\"` exist also for the grouped data but are now aggregated per oligo. \n",
    "\n",
    "When generating a `MPRAOligoData` from an `MPRABarcodeData` usually the filtered counts or sampled counts are used for aggregation (if applicable). Also you can define a barcode threshold to filter out oligos that have not enough barcodes. This threshold can be set by `MPRAdata.barcode_threshold = 10` for example. The default is 1 (no oligo is removed). Barcode thereshold is only applied when running correlations on the `MPRAOligoData` object or saving outputs. Otherwise you will see all counts from all oligos.\n",
    "\n",
    "For this purpose we have one additional layers: `MPRAOligoData.data.layers[\"barcode_counts\"]` counts the number of barcodes per oligo that was used for the aggregation (or simple property `MPRAOligoData.barcode_counts`). The layer is also available in MPRABarcode data and shows the same value for each barcode within the same oligo.\n",
    "\n",
    "Maybe the most interesting layer is the one for activity (whch also exists in the barcode object but there this can be very sparse data): `MPRAOligoData.data.layers[\"activity\"]` stores the log2 rna/dna ratio and can also be accessed via `MPRAOligoData.activities`."
   ]
  },
  {
   "cell_type": "markdown",
   "metadata": {},
   "source": [
    "## Example\n",
    "\n",
    "Let's start with loading a barcode count file from [MPRAsnakeflow](https://github.com/kircherlab/MPRAsnakeflow):"
   ]
  },
  {
   "cell_type": "code",
   "execution_count": 13,
   "metadata": {},
   "outputs": [
    {
     "name": "stdout",
     "output_type": "stream",
     "text": [
      "DNA counts\n"
     ]
    },
    {
     "data": {
      "application/vnd.microsoft.datawrangler.viewer.v0+json": {
       "columns": [
        {
         "name": "index",
         "rawType": "object",
         "type": "string"
        },
        {
         "name": "TACTCTCCGTGCCCA",
         "rawType": "int64",
         "type": "integer"
        },
        {
         "name": "GGTATAACATCTCCG",
         "rawType": "int64",
         "type": "integer"
        },
        {
         "name": "TTAGGAGTCACACGT",
         "rawType": "int64",
         "type": "integer"
        },
        {
         "name": "GAATATAACACCCGA",
         "rawType": "int64",
         "type": "integer"
        },
        {
         "name": "AAACACCGCGCTCTA",
         "rawType": "int64",
         "type": "integer"
        }
       ],
       "conversionMethod": "pd.DataFrame",
       "ref": "3976e4bd-6495-4542-9b30-8f85c8192842",
       "rows": [
        [
         "1",
         "1",
         "0",
         "0",
         "1",
         "0"
        ],
        [
         "2",
         "0",
         "3",
         "1",
         "1",
         "0"
        ],
        [
         "3",
         "0",
         "1",
         "1",
         "1",
         "1"
        ]
       ],
       "shape": {
        "columns": 5,
        "rows": 3
       }
      },
      "text/html": [
       "<div>\n",
       "<style scoped>\n",
       "    .dataframe tbody tr th:only-of-type {\n",
       "        vertical-align: middle;\n",
       "    }\n",
       "\n",
       "    .dataframe tbody tr th {\n",
       "        vertical-align: top;\n",
       "    }\n",
       "\n",
       "    .dataframe thead th {\n",
       "        text-align: right;\n",
       "    }\n",
       "</style>\n",
       "<table border=\"1\" class=\"dataframe\">\n",
       "  <thead>\n",
       "    <tr style=\"text-align: right;\">\n",
       "      <th>barcode</th>\n",
       "      <th>TACTCTCCGTGCCCA</th>\n",
       "      <th>GGTATAACATCTCCG</th>\n",
       "      <th>TTAGGAGTCACACGT</th>\n",
       "      <th>GAATATAACACCCGA</th>\n",
       "      <th>AAACACCGCGCTCTA</th>\n",
       "    </tr>\n",
       "  </thead>\n",
       "  <tbody>\n",
       "    <tr>\n",
       "      <th>1</th>\n",
       "      <td>1</td>\n",
       "      <td>0</td>\n",
       "      <td>0</td>\n",
       "      <td>1</td>\n",
       "      <td>0</td>\n",
       "    </tr>\n",
       "    <tr>\n",
       "      <th>2</th>\n",
       "      <td>0</td>\n",
       "      <td>3</td>\n",
       "      <td>1</td>\n",
       "      <td>1</td>\n",
       "      <td>0</td>\n",
       "    </tr>\n",
       "    <tr>\n",
       "      <th>3</th>\n",
       "      <td>0</td>\n",
       "      <td>1</td>\n",
       "      <td>1</td>\n",
       "      <td>1</td>\n",
       "      <td>1</td>\n",
       "    </tr>\n",
       "  </tbody>\n",
       "</table>\n",
       "</div>"
      ],
      "text/plain": [
       "barcode  TACTCTCCGTGCCCA  GGTATAACATCTCCG  TTAGGAGTCACACGT  GAATATAACACCCGA  \\\n",
       "1                      1                0                0                1   \n",
       "2                      0                3                1                1   \n",
       "3                      0                1                1                1   \n",
       "\n",
       "barcode  AAACACCGCGCTCTA  \n",
       "1                      0  \n",
       "2                      0  \n",
       "3                      1  "
      ]
     },
     "metadata": {},
     "output_type": "display_data"
    },
    {
     "name": "stdout",
     "output_type": "stream",
     "text": [
      "RNA counts\n"
     ]
    },
    {
     "data": {
      "application/vnd.microsoft.datawrangler.viewer.v0+json": {
       "columns": [
        {
         "name": "index",
         "rawType": "object",
         "type": "string"
        },
        {
         "name": "TACTCTCCGTGCCCA",
         "rawType": "int64",
         "type": "integer"
        },
        {
         "name": "GGTATAACATCTCCG",
         "rawType": "int64",
         "type": "integer"
        },
        {
         "name": "TTAGGAGTCACACGT",
         "rawType": "int64",
         "type": "integer"
        },
        {
         "name": "GAATATAACACCCGA",
         "rawType": "int64",
         "type": "integer"
        },
        {
         "name": "AAACACCGCGCTCTA",
         "rawType": "int64",
         "type": "integer"
        }
       ],
       "conversionMethod": "pd.DataFrame",
       "ref": "b74b1675-e325-4f18-af80-481771756515",
       "rows": [
        [
         "1",
         "1",
         "0",
         "0",
         "1",
         "0"
        ],
        [
         "2",
         "0",
         "1",
         "1",
         "1",
         "0"
        ],
        [
         "3",
         "0",
         "2",
         "2",
         "3",
         "1"
        ]
       ],
       "shape": {
        "columns": 5,
        "rows": 3
       }
      },
      "text/html": [
       "<div>\n",
       "<style scoped>\n",
       "    .dataframe tbody tr th:only-of-type {\n",
       "        vertical-align: middle;\n",
       "    }\n",
       "\n",
       "    .dataframe tbody tr th {\n",
       "        vertical-align: top;\n",
       "    }\n",
       "\n",
       "    .dataframe thead th {\n",
       "        text-align: right;\n",
       "    }\n",
       "</style>\n",
       "<table border=\"1\" class=\"dataframe\">\n",
       "  <thead>\n",
       "    <tr style=\"text-align: right;\">\n",
       "      <th>barcode</th>\n",
       "      <th>TACTCTCCGTGCCCA</th>\n",
       "      <th>GGTATAACATCTCCG</th>\n",
       "      <th>TTAGGAGTCACACGT</th>\n",
       "      <th>GAATATAACACCCGA</th>\n",
       "      <th>AAACACCGCGCTCTA</th>\n",
       "    </tr>\n",
       "  </thead>\n",
       "  <tbody>\n",
       "    <tr>\n",
       "      <th>1</th>\n",
       "      <td>1</td>\n",
       "      <td>0</td>\n",
       "      <td>0</td>\n",
       "      <td>1</td>\n",
       "      <td>0</td>\n",
       "    </tr>\n",
       "    <tr>\n",
       "      <th>2</th>\n",
       "      <td>0</td>\n",
       "      <td>1</td>\n",
       "      <td>1</td>\n",
       "      <td>1</td>\n",
       "      <td>0</td>\n",
       "    </tr>\n",
       "    <tr>\n",
       "      <th>3</th>\n",
       "      <td>0</td>\n",
       "      <td>2</td>\n",
       "      <td>2</td>\n",
       "      <td>3</td>\n",
       "      <td>1</td>\n",
       "    </tr>\n",
       "  </tbody>\n",
       "</table>\n",
       "</div>"
      ],
      "text/plain": [
       "barcode  TACTCTCCGTGCCCA  GGTATAACATCTCCG  TTAGGAGTCACACGT  GAATATAACACCCGA  \\\n",
       "1                      1                0                0                1   \n",
       "2                      0                1                1                1   \n",
       "3                      0                2                2                3   \n",
       "\n",
       "barcode  AAACACCGCGCTCTA  \n",
       "1                      0  \n",
       "2                      0  \n",
       "3                      1  "
      ]
     },
     "metadata": {},
     "output_type": "display_data"
    }
   ],
   "source": [
    "# Loading the MPRAlib library\n",
    "from mpralib.mpradata import MPRABarcodeData\n",
    "# Loading other libraries\n",
    "import pandas as pd\n",
    "import numpy as np\n",
    "\n",
    "# Load the data\n",
    "mpra_barcode_data = MPRABarcodeData.from_file(\"../resources/reporter_experiment.barcode.HEPG2.fromFile.default.all.tsv.gz\")\n",
    "\n",
    "# Getting counts, no filtering/sampling done, so raw counts\n",
    "print(\"DNA counts\")\n",
    "display(pd.DataFrame(mpra_barcode_data.dna_counts[:,0:5], index=mpra_barcode_data.obs_names, columns=mpra_barcode_data.var_names[0:5]))\n",
    "print(\"RNA counts\")\n",
    "display(pd.DataFrame(mpra_barcode_data.rna_counts[:,0:5], index=mpra_barcode_data.obs_names, columns=mpra_barcode_data.var_names[0:5]))\n"
   ]
  },
  {
   "cell_type": "markdown",
   "metadata": {},
   "source": [
    "### Correlation\n",
    "\n",
    "We can correlate replicates based on DNA/RNA counts or activity. We are able to do this on a barcode level. But usually this generates very very low correlations:"
   ]
  },
  {
   "cell_type": "code",
   "execution_count": 14,
   "metadata": {},
   "outputs": [
    {
     "name": "stdout",
     "output_type": "stream",
     "text": [
      "Pairwise Pearson correlation activity\n",
      "       1      2      3\n",
      "1  1.000  0.018 -0.004\n",
      "2  0.018  1.000  0.137\n",
      "3 -0.004  0.137  1.000\n",
      "Pairwise Pearson correlation normalized DNA\n",
      "       1      2      3\n",
      "1  1.000 -0.121 -0.123\n",
      "2 -0.121  1.000 -0.128\n",
      "3 -0.123 -0.128  1.000\n",
      "Pairwise Pearson correlation normalized RNA\n",
      "       1      2      3\n",
      "1  1.000 -0.057 -0.053\n",
      "2 -0.057  1.000 -0.065\n",
      "3 -0.053 -0.065  1.000\n"
     ]
    }
   ],
   "source": [
    "print(\"Pairwise Pearson correlation activity\")\n",
    "print(pd.DataFrame(mpra_barcode_data.correlation(), index=mpra_barcode_data.obs_names, columns=mpra_barcode_data.obs_names).round(3))\n",
    "print(\"Pairwise Pearson correlation normalized DNA\")\n",
    "print(pd.DataFrame(mpra_barcode_data.correlation(count_type=\"dna\"), index=mpra_barcode_data.obs_names, columns=mpra_barcode_data.obs_names).round(3))\n",
    "print(\"Pairwise Pearson correlation normalized RNA\")\n",
    "print(pd.DataFrame(mpra_barcode_data.correlation(count_type=\"rna\"), index=mpra_barcode_data.obs_names, columns=mpra_barcode_data.obs_names).round(3))"
   ]
  },
  {
   "cell_type": "markdown",
   "metadata": {},
   "source": [
    "So let#s tdo this for aggregated data (per Oligo not per barcode):"
   ]
  },
  {
   "cell_type": "code",
   "execution_count": 15,
   "metadata": {},
   "outputs": [
    {
     "name": "stdout",
     "output_type": "stream",
     "text": [
      "Pairwise Pearson correlation\n",
      "       1      2      3\n",
      "1  1.000  0.382  0.412\n",
      "2  0.382  1.000  0.417\n",
      "3  0.412  0.417  1.000\n",
      "Parwise Spearman correlation\n",
      "       1      2      3\n",
      "1  1.000  0.345  0.374\n",
      "2  0.345  1.000  0.350\n",
      "3  0.374  0.350  1.000\n",
      "Mean Pearson correlation activity, BC threshold 1: 0.404\n",
      "Mean Pearson correlation RNA counts (normalized), BC threshold 1: 0.608\n",
      "Mean Pearson correlation DNA counts (normalized), BC threshold 1: 0.29\n",
      "\n",
      "Mean Pearson correlation activity, BC threshold 10: 0.629\n",
      "Mean Pearson correlation RNA counts (normalized), BC threshold 10: 0.763\n",
      "Mean Pearson correlation DNA counts (normalized), BC threshold 10: 0.464\n",
      "\n",
      "Mean Pearson correlation activity, BC threshold 50: 0.839\n",
      "Mean Pearson correlation RNA counts (normalized), BC threshold 50: 0.886\n",
      "Mean Pearson correlation DNA counts (normalized), BC threshold 50: 0.638\n",
      "\n"
     ]
    }
   ],
   "source": [
    "mpra_oligo_data = mpra_barcode_data.oligo_data\n",
    "\n",
    "print(\"Pairwise Pearson correlation\")\n",
    "print(pd.DataFrame(mpra_oligo_data.correlation(), index=mpra_oligo_data.obs_names, columns=mpra_oligo_data.obs_names).round(3))\n",
    "print(\"Parwise Spearman correlation\")\n",
    "print(pd.DataFrame(mpra_oligo_data.correlation(\"spearman\", \"activity\"), index=mpra_oligo_data.obs_names, columns=mpra_oligo_data.obs_names).round(3))\n",
    "\n",
    "\n",
    "# Setting a different barcode threshold 1, 10, 50 and getting the average across replicates\n",
    "for threshold in [1, 10, 50]:\n",
    "    mpra_oligo_data.barcode_threshold = threshold\n",
    "    print(f\"Mean Pearson correlation activity, BC threshold {mpra_oligo_data.barcode_threshold}: {mpra_oligo_data.correlation().flatten()[[1,2,5]].mean().round(3)}\")\n",
    "    \n",
    "    print(f\"Mean Pearson correlation RNA counts (normalized), BC threshold {mpra_oligo_data.barcode_threshold}: {mpra_oligo_data.correlation(count_type=\"rna\").flatten()[[1,2,5]].mean().round(3)}\")\n",
    "    \n",
    "    print(f\"Mean Pearson correlation DNA counts (normalized), BC threshold {mpra_oligo_data.barcode_threshold}: {mpra_oligo_data.correlation(count_type=\"dna\").flatten()[[1,2,5]].mean().round(3)}\")\n",
    "\n",
    "    print(\"\")"
   ]
  },
  {
   "cell_type": "markdown",
   "metadata": {},
   "source": [
    "Using such strict barcode threshold will also reduce our oligos available per replicate:"
   ]
  },
  {
   "cell_type": "code",
   "execution_count": 16,
   "metadata": {},
   "outputs": [
    {
     "name": "stdout",
     "output_type": "stream",
     "text": [
      "Number of oligos per individual replicate, using BC threshold 1\n",
      "[2243 2250 2253]\n",
      "Number of oligos per individual replicate, using BC threshold 10\n",
      "[1359 1349 1357]\n",
      "Number of oligos per individual replicate, using BC threshold 50\n",
      "[148 146 154]\n"
     ]
    }
   ],
   "source": [
    "for threshold in [1, 10, 50]:\n",
    "    mpra_oligo_data.barcode_threshold = threshold\n",
    "    print(f\"Number of oligos per individual replicate, using BC threshold {mpra_oligo_data.barcode_threshold}\")\n",
    "    print(np.sum(mpra_oligo_data.barcode_counts >= mpra_oligo_data.barcode_threshold,axis=1))\n"
   ]
  },
  {
   "cell_type": "markdown",
   "metadata": {},
   "source": [
    "## Barcode filtering and outlier detection\n",
    "\n",
    "There is some pre-build function to remove barcodes from experiments. This is done via the function `MPRAData.apply_barcode_filter()`. This function has pre-build filters like setting a minimum or maximum threshold for counts. E.g. you want to remove very very high barcode counts or you 'trust' only barcode counts with 3 RNA counts to remove noisy data. The functin can also randomly remove barcodes if you want to downsample your data on barcodes (Which correspons to removing barcodes from your assignment, theerfor ehaving a lower quality/lower depth assignment file).\n",
    "\n",
    "But it can also detect outlier barcodes. E.g. if you want to remove barcodes that do not follow the distribution per oligo. This is usually done per repliacte.\n",
    "\n",
    "Now we try to remove barcodes that are outliers within the RNA counts using the zscore:"
   ]
  },
  {
   "cell_type": "code",
   "execution_count": 17,
   "metadata": {},
   "outputs": [
    {
     "name": "stdout",
     "output_type": "stream",
     "text": [
      "Mean Pearson correlation before BC filter, BC threshold 10\n",
      "0.629\n",
      "Number of oligs\n",
      "[1359 1349 1357]\n",
      "Mean Pearson correlation after BC filter, BC threshold 10\n",
      "0.602\n",
      "Number of oligs\n",
      "[1359 1349 1357]\n"
     ]
    }
   ],
   "source": [
    "from mpralib.mpradata import BarcodeFilter\n",
    "\n",
    "# using standard number of barcodes per oligo\n",
    "mpra_barcode_data.barcode_threshold = 10\n",
    "\n",
    "# Resetting the barcode filter\n",
    "mpra_barcode_data.barcode_filter = None\n",
    "mpra_oligo_data = mpra_barcode_data.oligo_data\n",
    "print(f\"Mean Pearson correlation before BC filter, BC threshold {mpra_oligo_data.barcode_threshold}\")\n",
    "print(mpra_oligo_data.correlation().flatten()[[1,2,5]].mean().round(3))\n",
    "print(f\"Number of oligs\")\n",
    "print(np.sum(mpra_oligo_data.barcode_counts >= mpra_oligo_data.barcode_threshold,axis=1))\n",
    "\n",
    "# Apply filter\n",
    "mpra_barcode_data.apply_barcode_filter(BarcodeFilter.RNA_ZSCORE, {\"times_zscore\": 3})\n",
    "\n",
    "mpra_oligo_data = mpra_barcode_data.oligo_data\n",
    "print(f\"Mean Pearson correlation after BC filter, BC threshold {mpra_oligo_data.barcode_threshold}\")\n",
    "print(mpra_oligo_data.correlation().flatten()[[1,2,5]].mean().round(3))\n",
    "print(f\"Number of oligs\")\n",
    "print(np.sum(mpra_oligo_data.barcode_counts >= mpra_oligo_data.barcode_threshold,axis=1))"
   ]
  },
  {
   "cell_type": "markdown",
   "metadata": {},
   "source": [
    "You see we keeping number of oligos the same but our Person correlaton drops. Maybe within this example dataset this was not a good idea. But we want to see the barcodes that were removed. We can access them using the  `MPRAData.barcode_filter` matrix on the `MPRAData.var` (our barcodes) object. We also compute all barcodes that are consistently renoved across repliactes."
   ]
  },
  {
   "cell_type": "code",
   "execution_count": 18,
   "metadata": {},
   "outputs": [
    {
     "name": "stdout",
     "output_type": "stream",
     "text": [
      "Number of removed barcodes in replicate 0: 7389\n",
      "Number of removed barcodes in replicate 1: 6349\n",
      "Number of removed barcodes in replicate 2: 6614\n",
      "Number of common barcodes: 29\n",
      "Common barcodes: Index(['CCACGCCTGTCCAAC', 'TCACTGAACTAGTGC', 'GCTATCCACCGTAAC',\n",
      "       'GAAGACTTTGAATAC', 'AACACGTACCTCACC', 'CTCATATCCGACGGC',\n",
      "       'TCACCAGTTCTGCTG', 'TCCTTACTGTTGGGT', 'CTTTGACGTATCACC',\n",
      "       'ACAATCTCACAGCTG', 'GCCACTTCGGCTAAA', 'CTCCTCGTAAGTTGA',\n",
      "       'CCTGACAACGCAAAT', 'AAACAGGTCCGAGCG', 'TGAATTCCGGCGCCC',\n",
      "       'GATTCAAAAGCGTCC', 'ACACACAAAAGCCTA', 'AAACCGGCCATAATA',\n",
      "       'TCACCCCTCTCCCAC', 'CCTTCCGAGCGCAGC', 'AATGTATGAGAACGC',\n",
      "       'TACGCCTCGCAACTG', 'GGAACGACTCAAGCC', 'GACTCCGTCTACTCC',\n",
      "       'CCTAACTTCCCACCG', 'CTGGCTTGGGGCGAG', 'AGCCCGGGGGACAGC',\n",
      "       'CACCTTCGCCATTTG', 'CTAGCTATGCGCTAA'],\n",
      "      dtype='object', name='barcode')\n"
     ]
    }
   ],
   "source": [
    "common_barcodes = None\n",
    "for i, replicate in enumerate(mpra_barcode_data.var_filter):\n",
    "    print(f\"Number of removed barcodes in replicate {i}: {len(mpra_barcode_data.data.var_names[mpra_barcode_data.var_filter.iloc[:,i]])}\")\n",
    "    if common_barcodes is None:\n",
    "        common_barcodes = mpra_barcode_data.data.var_names[mpra_barcode_data.var_filter.iloc[:,i]]\n",
    "    else:\n",
    "        common_barcodes = common_barcodes.intersection(mpra_barcode_data.data.var_names[mpra_barcode_data.var_filter.iloc[:,i]])\n",
    "print(f\"Number of common barcodes: {len(common_barcodes)}\")\n",
    "print(f\"Common barcodes: {common_barcodes}\")"
   ]
  },
  {
   "cell_type": "markdown",
   "metadata": {},
   "source": [
    "Let's see if we achieve something else when allowing only a higher number of DNA and RNA counts:"
   ]
  },
  {
   "cell_type": "code",
   "execution_count": 19,
   "metadata": {},
   "outputs": [
    {
     "name": "stdout",
     "output_type": "stream",
     "text": [
      "Mean Pearson correlation before BC filter, BC threshold 10\n",
      "0.602\n",
      "Number of oligs\n",
      "[1359 1349 1357]\n",
      "Mean Pearson correlation before BC filter, BC threshold 10\n",
      "0.852\n",
      "Number of oligs\n",
      "[10  5  7]\n"
     ]
    }
   ],
   "source": [
    "mpra_barcode_data.barcode_filter = None\n",
    "\n",
    "mpra_oligo_data = mpra_barcode_data.oligo_data\n",
    "print(f\"Mean Pearson correlation before BC filter, BC threshold {mpra_oligo_data.barcode_threshold}\")\n",
    "print(mpra_oligo_data.correlation().flatten()[[1,2,5]].mean().round(3))\n",
    "print(f\"Number of oligs\")\n",
    "print(np.sum(mpra_oligo_data.barcode_counts >= mpra_oligo_data.barcode_threshold,axis=1))\n",
    "\n",
    "# Apply filter\n",
    "mpra_barcode_data.apply_barcode_filter(BarcodeFilter.MIN_COUNT, {\"dna_min_count\": 2, \"rna_min_count\": 4})\n",
    "\n",
    "mpra_oligo_data = mpra_barcode_data.oligo_data\n",
    "print(f\"Mean Pearson correlation before BC filter, BC threshold {mpra_oligo_data.barcode_threshold}\")\n",
    "print(mpra_oligo_data.correlation().flatten()[[1,2,5]].mean().round(3))\n",
    "print(f\"Number of oligs\")\n",
    "print(np.sum(mpra_oligo_data.barcode_counts >= mpra_oligo_data.barcode_threshold,axis=1))"
   ]
  },
  {
   "cell_type": "markdown",
   "metadata": {},
   "source": [
    "Now we see an improved correlaton. But hold on... We have nearly no oligo left that fullfills the BC threshold 10 criteria. This example data seems to be a very very low count data. Maybe not the best idea. "
   ]
  },
  {
   "cell_type": "markdown",
   "metadata": {},
   "source": [
    "## Saving activity files.\n",
    "\n",
    "Finally we want to safe our oligo activities. We have a pre-build function for that."
   ]
  },
  {
   "cell_type": "code",
   "execution_count": 20,
   "metadata": {},
   "outputs": [
    {
     "data": {
      "application/vnd.microsoft.datawrangler.viewer.v0+json": {
       "columns": [
        {
         "name": "index",
         "rawType": "int64",
         "type": "integer"
        },
        {
         "name": "replicate",
         "rawType": "int64",
         "type": "integer"
        },
        {
         "name": "oligo_name",
         "rawType": "object",
         "type": "string"
        },
        {
         "name": "dna_counts",
         "rawType": "int64",
         "type": "integer"
        },
        {
         "name": "rna_counts",
         "rawType": "int64",
         "type": "integer"
        },
        {
         "name": "dna_normalized",
         "rawType": "float64",
         "type": "float"
        },
        {
         "name": "rna_normalized",
         "rawType": "float64",
         "type": "float"
        },
        {
         "name": "log2FoldChange",
         "rawType": "float64",
         "type": "float"
        },
        {
         "name": "n_bc",
         "rawType": "int64",
         "type": "integer"
        }
       ],
       "conversionMethod": "pd.DataFrame",
       "ref": "5c8ae0bd-3c75-408b-a083-c52ab35ef551",
       "rows": [
        [
         "0",
         "1",
         "A:HNF4A-ChMod_chr5:78281698-78281840__chr5:78281683-78281854_:081",
         "71",
         "154",
         "1160.7386",
         "1421.1795",
         "0.292",
         "27"
        ],
        [
         "1",
         "1",
         "A:HNF4A-NoMod_chr17:37895425-37895596__chr17:37895425-37895596_:088",
         "45",
         "92",
         "1219.2197",
         "1430.9943",
         "0.2311",
         "16"
        ],
        [
         "2",
         "1",
         "C:SLEA_hg18:chr9:82902419-82902586|13:V_HNF6_Q6:CAAAATCAATAA;28:V_PPARA_02:CCGGGTCATTGGGGTCAGG;50:V_XBP1_01:GTGATGACGTGTCCCAT;70:V_Rxra_UP:GGCCGTGACCCCGTGAT;90:V_HNF3ALPHA_Q6:TGTTTGCTTTG;104:V_HNF4_Q6:AAGGTCCAG;116:V_HNF1_C:AGTTAATGATTAACCAA;136:V_AHRARNT_02:GGGGATCGCGTGCCAGCCC:071",
         "40",
         "100",
         "1172.5829",
         "1625.3268",
         "0.471",
         "15"
        ],
        [
         "3",
         "1",
         "R:EP300-ChMod_chr19:3397595-3397766__chr19:3397595-3397766_:028",
         "32",
         "69",
         "1106.9838",
         "1337.2254",
         "0.2726",
         "13"
        ],
        [
         "4",
         "1",
         "R:EP300-ChMod_chr4:6784271-6784442__chr4:6784271-6784442_:070",
         "39",
         "69",
         "1210.6538",
         "1256.8521",
         "0.054",
         "14"
        ],
        [
         "5",
         "1",
         "R:EP300-NoMod_chr3:23958571-23958742__chr3:23958571-23958742_:001",
         "27",
         "47",
         "1104.7475",
         "1117.8137",
         "0.017",
         "11"
        ],
        [
         "6",
         "1",
         "R:FOXA1_FOXA2-ChMod_chr5:74172389-74172557__chr5:74172387-74172558_:023",
         "57",
         "79",
         "1535.0176",
         "1328.528",
         "-0.2084",
         "15"
        ],
        [
         "7",
         "1",
         "R:FOXA1_FOXA2-ChMod_chr6:11393329-11393497__chr6:11393327-11393498_:019",
         "24",
         "44",
         "1087.3041",
         "1144.7954",
         "0.0743",
         "10"
        ],
        [
         "8",
         "1",
         "R:HNF4A-ChMod_chr1:27320293-27320362__chr1:27320242-27320413_:028",
         "46",
         "67",
         "1370.5514",
         "1226.5665",
         "-0.1601",
         "14"
        ],
        [
         "9",
         "1",
         "R:HNF4A-NoMod_chr5:42824710-42824777__chr5:42824658-42824829_:086",
         "46",
         "86",
         "1239.2069",
         "1351.4946",
         "0.1251",
         "16"
        ],
        [
         "10",
         "2",
         "A:HNF4A-ChMod_chr5:78281698-78281840__chr5:78281683-78281854_:081",
         "32",
         "68",
         "1378.868",
         "1738.0973",
         "0.334",
         "11"
        ],
        [
         "11",
         "2",
         "C:SLEA_hg18:chr9:82902419-82902586|13:V_HNF6_Q6:CAAAATCAATAA;28:V_PPARA_02:CCGGGTCATTGGGGTCAGG;50:V_XBP1_01:GTGATGACGTGTCCCAT;70:V_Rxra_UP:GGCCGTGACCCCGTGAT;90:V_HNF3ALPHA_Q6:TGTTTGCTTTG;104:V_HNF4_Q6:AAGGTCCAG;116:V_HNF1_C:AGTTAATGATTAACCAA;136:V_AHRARNT_02:GGGGATCGCGTGCCAGCCC:071",
         "38",
         "126",
         "1190.4762",
         "2147.8703",
         "0.8514",
         "16"
        ],
        [
         "12",
         "2",
         "R:EP300-ChMod_chr19:3397595-3397766__chr19:3397595-3397766_:028",
         "41",
         "81",
         "1316.8724",
         "1548.8867",
         "0.2341",
         "15"
        ],
        [
         "13",
         "2",
         "R:FOXA1_FOXA2-ChMod_chr5:74172389-74172557__chr5:74172387-74172558_:023",
         "41",
         "46",
         "1798.9418",
         "1355.2759",
         "-0.4086",
         "10"
        ],
        [
         "14",
         "2",
         "R:HNF4A-ChMod_chr1:27320293-27320362__chr1:27320242-27320413_:028",
         "35",
         "57",
         "1381.5403",
         "1391.5779",
         "0.0104",
         "12"
        ],
        [
         "15",
         "3",
         "A:HNF4A-NoMod_chr17:27505275-27505406__chr17:27505255-27505426_:031",
         "32",
         "72",
         "1211.9935",
         "1523.1483",
         "0.3297",
         "14"
        ],
        [
         "16",
         "3",
         "A:HNF4A-NoMod_chr17:37895425-37895596__chr17:37895425-37895596_:088",
         "54",
         "85",
         "1613.7956",
         "1565.212",
         "-0.0441",
         "16"
        ],
        [
         "17",
         "3",
         "C:SLEA_hg18:chr9:82902419-82902586|13:V_HNF6_Q6:CAAAATCAATAA;28:V_PPARA_02:CCGGGTCATTGGGGTCAGG;50:V_XBP1_01:GTGATGACGTGTCCCAT;70:V_Rxra_UP:GGCCGTGACCCCGTGAT;90:V_HNF3ALPHA_Q6:TGTTTGCTTTG;104:V_HNF4_Q6:AAGGTCCAG;116:V_HNF1_C:AGTTAATGATTAACCAA;136:V_AHRARNT_02:GGGGATCGCGTGCCAGCCC:071",
         "27",
         "97",
         "1198.8196",
         "2252.2523",
         "0.9098",
         "12"
        ],
        [
         "18",
         "3",
         "R:EP300-ChMod_chr19:3397595-3397766__chr19:3397595-3397766_:028",
         "46",
         "72",
         "1674.0913",
         "1621.2402",
         "-0.0463",
         "13"
        ],
        [
         "19",
         "3",
         "R:FOXA1_FOXA2-ChMod_chr5:74172389-74172557__chr5:74172387-74172558_:023",
         "39",
         "57",
         "1567.6872",
         "1425.7377",
         "-0.1369",
         "12"
        ],
        [
         "20",
         "3",
         "R:HNF4A-ChMod_chr1:27320293-27320362__chr1:27320242-27320413_:028",
         "39",
         "50",
         "1676.6708",
         "1375.0197",
         "-0.2861",
         "11"
        ],
        [
         "21",
         "3",
         "R:HNF4A-NoMod_chr5:42824710-42824777__chr5:42824658-42824829_:086",
         "45",
         "73",
         "1475.4703",
         "1454.6657",
         "-0.0205",
         "15"
        ]
       ],
       "shape": {
        "columns": 8,
        "rows": 22
       }
      },
      "text/html": [
       "<div>\n",
       "<style scoped>\n",
       "    .dataframe tbody tr th:only-of-type {\n",
       "        vertical-align: middle;\n",
       "    }\n",
       "\n",
       "    .dataframe tbody tr th {\n",
       "        vertical-align: top;\n",
       "    }\n",
       "\n",
       "    .dataframe thead th {\n",
       "        text-align: right;\n",
       "    }\n",
       "</style>\n",
       "<table border=\"1\" class=\"dataframe\">\n",
       "  <thead>\n",
       "    <tr style=\"text-align: right;\">\n",
       "      <th></th>\n",
       "      <th>replicate</th>\n",
       "      <th>oligo_name</th>\n",
       "      <th>dna_counts</th>\n",
       "      <th>rna_counts</th>\n",
       "      <th>dna_normalized</th>\n",
       "      <th>rna_normalized</th>\n",
       "      <th>log2FoldChange</th>\n",
       "      <th>n_bc</th>\n",
       "    </tr>\n",
       "  </thead>\n",
       "  <tbody>\n",
       "    <tr>\n",
       "      <th>0</th>\n",
       "      <td>1</td>\n",
       "      <td>A:HNF4A-ChMod_chr5:78281698-78281840__chr5:782...</td>\n",
       "      <td>71</td>\n",
       "      <td>154</td>\n",
       "      <td>1160.7386</td>\n",
       "      <td>1421.1795</td>\n",
       "      <td>0.2920</td>\n",
       "      <td>27</td>\n",
       "    </tr>\n",
       "    <tr>\n",
       "      <th>1</th>\n",
       "      <td>1</td>\n",
       "      <td>A:HNF4A-NoMod_chr17:37895425-37895596__chr17:3...</td>\n",
       "      <td>45</td>\n",
       "      <td>92</td>\n",
       "      <td>1219.2197</td>\n",
       "      <td>1430.9943</td>\n",
       "      <td>0.2311</td>\n",
       "      <td>16</td>\n",
       "    </tr>\n",
       "    <tr>\n",
       "      <th>2</th>\n",
       "      <td>1</td>\n",
       "      <td>C:SLEA_hg18:chr9:82902419-82902586|13:V_HNF6_Q...</td>\n",
       "      <td>40</td>\n",
       "      <td>100</td>\n",
       "      <td>1172.5829</td>\n",
       "      <td>1625.3268</td>\n",
       "      <td>0.4710</td>\n",
       "      <td>15</td>\n",
       "    </tr>\n",
       "    <tr>\n",
       "      <th>3</th>\n",
       "      <td>1</td>\n",
       "      <td>R:EP300-ChMod_chr19:3397595-3397766__chr19:339...</td>\n",
       "      <td>32</td>\n",
       "      <td>69</td>\n",
       "      <td>1106.9838</td>\n",
       "      <td>1337.2254</td>\n",
       "      <td>0.2726</td>\n",
       "      <td>13</td>\n",
       "    </tr>\n",
       "    <tr>\n",
       "      <th>4</th>\n",
       "      <td>1</td>\n",
       "      <td>R:EP300-ChMod_chr4:6784271-6784442__chr4:67842...</td>\n",
       "      <td>39</td>\n",
       "      <td>69</td>\n",
       "      <td>1210.6538</td>\n",
       "      <td>1256.8521</td>\n",
       "      <td>0.0540</td>\n",
       "      <td>14</td>\n",
       "    </tr>\n",
       "    <tr>\n",
       "      <th>5</th>\n",
       "      <td>1</td>\n",
       "      <td>R:EP300-NoMod_chr3:23958571-23958742__chr3:239...</td>\n",
       "      <td>27</td>\n",
       "      <td>47</td>\n",
       "      <td>1104.7475</td>\n",
       "      <td>1117.8137</td>\n",
       "      <td>0.0170</td>\n",
       "      <td>11</td>\n",
       "    </tr>\n",
       "    <tr>\n",
       "      <th>6</th>\n",
       "      <td>1</td>\n",
       "      <td>R:FOXA1_FOXA2-ChMod_chr5:74172389-74172557__ch...</td>\n",
       "      <td>57</td>\n",
       "      <td>79</td>\n",
       "      <td>1535.0176</td>\n",
       "      <td>1328.5280</td>\n",
       "      <td>-0.2084</td>\n",
       "      <td>15</td>\n",
       "    </tr>\n",
       "    <tr>\n",
       "      <th>7</th>\n",
       "      <td>1</td>\n",
       "      <td>R:FOXA1_FOXA2-ChMod_chr6:11393329-11393497__ch...</td>\n",
       "      <td>24</td>\n",
       "      <td>44</td>\n",
       "      <td>1087.3041</td>\n",
       "      <td>1144.7954</td>\n",
       "      <td>0.0743</td>\n",
       "      <td>10</td>\n",
       "    </tr>\n",
       "    <tr>\n",
       "      <th>8</th>\n",
       "      <td>1</td>\n",
       "      <td>R:HNF4A-ChMod_chr1:27320293-27320362__chr1:273...</td>\n",
       "      <td>46</td>\n",
       "      <td>67</td>\n",
       "      <td>1370.5514</td>\n",
       "      <td>1226.5665</td>\n",
       "      <td>-0.1601</td>\n",
       "      <td>14</td>\n",
       "    </tr>\n",
       "    <tr>\n",
       "      <th>9</th>\n",
       "      <td>1</td>\n",
       "      <td>R:HNF4A-NoMod_chr5:42824710-42824777__chr5:428...</td>\n",
       "      <td>46</td>\n",
       "      <td>86</td>\n",
       "      <td>1239.2069</td>\n",
       "      <td>1351.4946</td>\n",
       "      <td>0.1251</td>\n",
       "      <td>16</td>\n",
       "    </tr>\n",
       "    <tr>\n",
       "      <th>10</th>\n",
       "      <td>2</td>\n",
       "      <td>A:HNF4A-ChMod_chr5:78281698-78281840__chr5:782...</td>\n",
       "      <td>32</td>\n",
       "      <td>68</td>\n",
       "      <td>1378.8680</td>\n",
       "      <td>1738.0973</td>\n",
       "      <td>0.3340</td>\n",
       "      <td>11</td>\n",
       "    </tr>\n",
       "    <tr>\n",
       "      <th>11</th>\n",
       "      <td>2</td>\n",
       "      <td>C:SLEA_hg18:chr9:82902419-82902586|13:V_HNF6_Q...</td>\n",
       "      <td>38</td>\n",
       "      <td>126</td>\n",
       "      <td>1190.4762</td>\n",
       "      <td>2147.8703</td>\n",
       "      <td>0.8514</td>\n",
       "      <td>16</td>\n",
       "    </tr>\n",
       "    <tr>\n",
       "      <th>12</th>\n",
       "      <td>2</td>\n",
       "      <td>R:EP300-ChMod_chr19:3397595-3397766__chr19:339...</td>\n",
       "      <td>41</td>\n",
       "      <td>81</td>\n",
       "      <td>1316.8724</td>\n",
       "      <td>1548.8867</td>\n",
       "      <td>0.2341</td>\n",
       "      <td>15</td>\n",
       "    </tr>\n",
       "    <tr>\n",
       "      <th>13</th>\n",
       "      <td>2</td>\n",
       "      <td>R:FOXA1_FOXA2-ChMod_chr5:74172389-74172557__ch...</td>\n",
       "      <td>41</td>\n",
       "      <td>46</td>\n",
       "      <td>1798.9418</td>\n",
       "      <td>1355.2759</td>\n",
       "      <td>-0.4086</td>\n",
       "      <td>10</td>\n",
       "    </tr>\n",
       "    <tr>\n",
       "      <th>14</th>\n",
       "      <td>2</td>\n",
       "      <td>R:HNF4A-ChMod_chr1:27320293-27320362__chr1:273...</td>\n",
       "      <td>35</td>\n",
       "      <td>57</td>\n",
       "      <td>1381.5403</td>\n",
       "      <td>1391.5779</td>\n",
       "      <td>0.0104</td>\n",
       "      <td>12</td>\n",
       "    </tr>\n",
       "    <tr>\n",
       "      <th>15</th>\n",
       "      <td>3</td>\n",
       "      <td>A:HNF4A-NoMod_chr17:27505275-27505406__chr17:2...</td>\n",
       "      <td>32</td>\n",
       "      <td>72</td>\n",
       "      <td>1211.9935</td>\n",
       "      <td>1523.1483</td>\n",
       "      <td>0.3297</td>\n",
       "      <td>14</td>\n",
       "    </tr>\n",
       "    <tr>\n",
       "      <th>16</th>\n",
       "      <td>3</td>\n",
       "      <td>A:HNF4A-NoMod_chr17:37895425-37895596__chr17:3...</td>\n",
       "      <td>54</td>\n",
       "      <td>85</td>\n",
       "      <td>1613.7956</td>\n",
       "      <td>1565.2120</td>\n",
       "      <td>-0.0441</td>\n",
       "      <td>16</td>\n",
       "    </tr>\n",
       "    <tr>\n",
       "      <th>17</th>\n",
       "      <td>3</td>\n",
       "      <td>C:SLEA_hg18:chr9:82902419-82902586|13:V_HNF6_Q...</td>\n",
       "      <td>27</td>\n",
       "      <td>97</td>\n",
       "      <td>1198.8196</td>\n",
       "      <td>2252.2523</td>\n",
       "      <td>0.9098</td>\n",
       "      <td>12</td>\n",
       "    </tr>\n",
       "    <tr>\n",
       "      <th>18</th>\n",
       "      <td>3</td>\n",
       "      <td>R:EP300-ChMod_chr19:3397595-3397766__chr19:339...</td>\n",
       "      <td>46</td>\n",
       "      <td>72</td>\n",
       "      <td>1674.0913</td>\n",
       "      <td>1621.2402</td>\n",
       "      <td>-0.0463</td>\n",
       "      <td>13</td>\n",
       "    </tr>\n",
       "    <tr>\n",
       "      <th>19</th>\n",
       "      <td>3</td>\n",
       "      <td>R:FOXA1_FOXA2-ChMod_chr5:74172389-74172557__ch...</td>\n",
       "      <td>39</td>\n",
       "      <td>57</td>\n",
       "      <td>1567.6872</td>\n",
       "      <td>1425.7377</td>\n",
       "      <td>-0.1369</td>\n",
       "      <td>12</td>\n",
       "    </tr>\n",
       "    <tr>\n",
       "      <th>20</th>\n",
       "      <td>3</td>\n",
       "      <td>R:HNF4A-ChMod_chr1:27320293-27320362__chr1:273...</td>\n",
       "      <td>39</td>\n",
       "      <td>50</td>\n",
       "      <td>1676.6708</td>\n",
       "      <td>1375.0197</td>\n",
       "      <td>-0.2861</td>\n",
       "      <td>11</td>\n",
       "    </tr>\n",
       "    <tr>\n",
       "      <th>21</th>\n",
       "      <td>3</td>\n",
       "      <td>R:HNF4A-NoMod_chr5:42824710-42824777__chr5:428...</td>\n",
       "      <td>45</td>\n",
       "      <td>73</td>\n",
       "      <td>1475.4703</td>\n",
       "      <td>1454.6657</td>\n",
       "      <td>-0.0205</td>\n",
       "      <td>15</td>\n",
       "    </tr>\n",
       "  </tbody>\n",
       "</table>\n",
       "</div>"
      ],
      "text/plain": [
       "    replicate                                         oligo_name  dna_counts  \\\n",
       "0           1  A:HNF4A-ChMod_chr5:78281698-78281840__chr5:782...          71   \n",
       "1           1  A:HNF4A-NoMod_chr17:37895425-37895596__chr17:3...          45   \n",
       "2           1  C:SLEA_hg18:chr9:82902419-82902586|13:V_HNF6_Q...          40   \n",
       "3           1  R:EP300-ChMod_chr19:3397595-3397766__chr19:339...          32   \n",
       "4           1  R:EP300-ChMod_chr4:6784271-6784442__chr4:67842...          39   \n",
       "5           1  R:EP300-NoMod_chr3:23958571-23958742__chr3:239...          27   \n",
       "6           1  R:FOXA1_FOXA2-ChMod_chr5:74172389-74172557__ch...          57   \n",
       "7           1  R:FOXA1_FOXA2-ChMod_chr6:11393329-11393497__ch...          24   \n",
       "8           1  R:HNF4A-ChMod_chr1:27320293-27320362__chr1:273...          46   \n",
       "9           1  R:HNF4A-NoMod_chr5:42824710-42824777__chr5:428...          46   \n",
       "10          2  A:HNF4A-ChMod_chr5:78281698-78281840__chr5:782...          32   \n",
       "11          2  C:SLEA_hg18:chr9:82902419-82902586|13:V_HNF6_Q...          38   \n",
       "12          2  R:EP300-ChMod_chr19:3397595-3397766__chr19:339...          41   \n",
       "13          2  R:FOXA1_FOXA2-ChMod_chr5:74172389-74172557__ch...          41   \n",
       "14          2  R:HNF4A-ChMod_chr1:27320293-27320362__chr1:273...          35   \n",
       "15          3  A:HNF4A-NoMod_chr17:27505275-27505406__chr17:2...          32   \n",
       "16          3  A:HNF4A-NoMod_chr17:37895425-37895596__chr17:3...          54   \n",
       "17          3  C:SLEA_hg18:chr9:82902419-82902586|13:V_HNF6_Q...          27   \n",
       "18          3  R:EP300-ChMod_chr19:3397595-3397766__chr19:339...          46   \n",
       "19          3  R:FOXA1_FOXA2-ChMod_chr5:74172389-74172557__ch...          39   \n",
       "20          3  R:HNF4A-ChMod_chr1:27320293-27320362__chr1:273...          39   \n",
       "21          3  R:HNF4A-NoMod_chr5:42824710-42824777__chr5:428...          45   \n",
       "\n",
       "    rna_counts  dna_normalized  rna_normalized  log2FoldChange  n_bc  \n",
       "0          154       1160.7386       1421.1795          0.2920    27  \n",
       "1           92       1219.2197       1430.9943          0.2311    16  \n",
       "2          100       1172.5829       1625.3268          0.4710    15  \n",
       "3           69       1106.9838       1337.2254          0.2726    13  \n",
       "4           69       1210.6538       1256.8521          0.0540    14  \n",
       "5           47       1104.7475       1117.8137          0.0170    11  \n",
       "6           79       1535.0176       1328.5280         -0.2084    15  \n",
       "7           44       1087.3041       1144.7954          0.0743    10  \n",
       "8           67       1370.5514       1226.5665         -0.1601    14  \n",
       "9           86       1239.2069       1351.4946          0.1251    16  \n",
       "10          68       1378.8680       1738.0973          0.3340    11  \n",
       "11         126       1190.4762       2147.8703          0.8514    16  \n",
       "12          81       1316.8724       1548.8867          0.2341    15  \n",
       "13          46       1798.9418       1355.2759         -0.4086    10  \n",
       "14          57       1381.5403       1391.5779          0.0104    12  \n",
       "15          72       1211.9935       1523.1483          0.3297    14  \n",
       "16          85       1613.7956       1565.2120         -0.0441    16  \n",
       "17          97       1198.8196       2252.2523          0.9098    12  \n",
       "18          72       1674.0913       1621.2402         -0.0463    13  \n",
       "19          57       1567.6872       1425.7377         -0.1369    12  \n",
       "20          50       1676.6708       1375.0197         -0.2861    11  \n",
       "21          73       1475.4703       1454.6657         -0.0205    15  "
      ]
     },
     "metadata": {},
     "output_type": "display_data"
    }
   ],
   "source": [
    "from mpralib.utils import export_activity_file, export_barcode_file\n",
    "export_activity_file(mpra_oligo_data, \"activity.tsv\")\n",
    "\n",
    "df = pd.read_csv(\"activity.tsv\", sep='\\t')\n",
    "display(df)"
   ]
  },
  {
   "cell_type": "markdown",
   "metadata": {},
   "source": [
    "So every oligo per replicate is written into one row with its counts, normalized counts, log2 fold change and the number of supporting barcodes. In total there are only 25 entries beacuse we did this drastical filtering before.\n",
    "\n",
    "We can also write out the results in a barcode format"
   ]
  },
  {
   "cell_type": "code",
   "execution_count": 21,
   "metadata": {},
   "outputs": [
    {
     "data": {
      "application/vnd.microsoft.datawrangler.viewer.v0+json": {
       "columns": [
        {
         "name": "index",
         "rawType": "int64",
         "type": "integer"
        },
        {
         "name": "barcode",
         "rawType": "object",
         "type": "string"
        },
        {
         "name": "oligo_name",
         "rawType": "object",
         "type": "string"
        },
        {
         "name": "dna_count_1",
         "rawType": "float64",
         "type": "float"
        },
        {
         "name": "rna_count_1",
         "rawType": "float64",
         "type": "float"
        },
        {
         "name": "dna_count_2",
         "rawType": "float64",
         "type": "float"
        },
        {
         "name": "rna_count_2",
         "rawType": "float64",
         "type": "float"
        },
        {
         "name": "dna_count_3",
         "rawType": "float64",
         "type": "float"
        },
        {
         "name": "rna_count_3",
         "rawType": "float64",
         "type": "float"
        }
       ],
       "conversionMethod": "pd.DataFrame",
       "ref": "3ebc2868-218b-4495-a93e-34941358a0c6",
       "rows": [
        [
         "0",
         "TACTCTCCGTGCCCA",
         "A:HNF4A-ChMod_chr10:11917871-11917984__chr10:11917842-11918013_:015",
         null,
         null,
         null,
         null,
         null,
         null
        ],
        [
         "1",
         "GGTATAACATCTCCG",
         "A:HNF4A-ChMod_chr10:11917871-11917984__chr10:11917842-11918013_:015",
         null,
         null,
         null,
         null,
         null,
         null
        ],
        [
         "2",
         "TTAGGAGTCACACGT",
         "A:HNF4A-ChMod_chr10:11917871-11917984__chr10:11917842-11918013_:015",
         null,
         null,
         null,
         null,
         null,
         null
        ],
        [
         "3",
         "GAATATAACACCCGA",
         "A:HNF4A-ChMod_chr10:11917871-11917984__chr10:11917842-11918013_:015",
         null,
         null,
         null,
         null,
         null,
         null
        ],
        [
         "4",
         "AAACACCGCGCTCTA",
         "A:HNF4A-ChMod_chr10:11917871-11917984__chr10:11917842-11918013_:015",
         null,
         null,
         null,
         null,
         null,
         null
        ],
        [
         "5",
         "CCTTGGCGATATACT",
         "A:HNF4A-ChMod_chr10:11917871-11917984__chr10:11917842-11918013_:015",
         null,
         null,
         null,
         null,
         null,
         null
        ],
        [
         "6",
         "CCATTGGCTGCATAC",
         "A:HNF4A-ChMod_chr10:11917871-11917984__chr10:11917842-11918013_:015",
         null,
         null,
         null,
         null,
         null,
         null
        ],
        [
         "7",
         "TTGCCCGCACTCTAG",
         "A:HNF4A-ChMod_chr10:11917871-11917984__chr10:11917842-11918013_:015",
         null,
         null,
         null,
         null,
         null,
         null
        ],
        [
         "8",
         "TTCCGGCAGGATGCC",
         "A:HNF4A-ChMod_chr10:11917871-11917984__chr10:11917842-11918013_:015",
         null,
         null,
         null,
         null,
         null,
         null
        ],
        [
         "9",
         "ACCCCGCCTCTGCGT",
         "A:HNF4A-ChMod_chr10:11917871-11917984__chr10:11917842-11918013_:015",
         null,
         null,
         null,
         null,
         null,
         null
        ],
        [
         "10",
         "TCATCCATTTTCCAC",
         "A:HNF4A-ChMod_chr10:11917871-11917984__chr10:11917842-11918013_:015",
         null,
         null,
         null,
         null,
         null,
         null
        ],
        [
         "11",
         "ACTAACACCACACTG",
         "A:HNF4A-ChMod_chr10:11917871-11917984__chr10:11917842-11918013_:015",
         null,
         null,
         null,
         null,
         null,
         null
        ],
        [
         "12",
         "TCATCTCGCAATCTC",
         "A:HNF4A-ChMod_chr10:11917871-11917984__chr10:11917842-11918013_:015",
         null,
         null,
         null,
         null,
         null,
         null
        ],
        [
         "13",
         "CTTACCGTACACCGG",
         "A:HNF4A-ChMod_chr10:11917871-11917984__chr10:11917842-11918013_:015",
         null,
         null,
         null,
         null,
         null,
         null
        ],
        [
         "14",
         "TAGCGTGAAACCGAC",
         "A:HNF4A-ChMod_chr10:11917871-11917984__chr10:11917842-11918013_:015",
         null,
         null,
         null,
         null,
         null,
         null
        ],
        [
         "15",
         "ATTTGCACCTTCTCA",
         "A:HNF4A-ChMod_chr10:11917871-11917984__chr10:11917842-11918013_:015",
         null,
         null,
         null,
         null,
         null,
         null
        ],
        [
         "16",
         "AGCCAATTGAATGGC",
         "A:HNF4A-ChMod_chr10:11917871-11917984__chr10:11917842-11918013_:015",
         null,
         null,
         null,
         null,
         null,
         null
        ],
        [
         "17",
         "ATACATGGGCCCGCC",
         "A:HNF4A-ChMod_chr10:11917871-11917984__chr10:11917842-11918013_:015",
         null,
         null,
         null,
         null,
         null,
         null
        ],
        [
         "18",
         "CACTAGTACATTTAG",
         "A:HNF4A-ChMod_chr10:11917871-11917984__chr10:11917842-11918013_:015",
         null,
         null,
         null,
         null,
         null,
         null
        ],
        [
         "19",
         "TAACGACGATGCGCG",
         "A:HNF4A-ChMod_chr10:11917871-11917984__chr10:11917842-11918013_:015",
         null,
         null,
         null,
         null,
         null,
         null
        ],
        [
         "20",
         "GCACAGTCTGGATTG",
         "A:HNF4A-ChMod_chr10:11917871-11917984__chr10:11917842-11918013_:015",
         null,
         null,
         null,
         null,
         null,
         null
        ],
        [
         "21",
         "CACCGAATGTGCGCT",
         "A:HNF4A-ChMod_chr10:11917871-11917984__chr10:11917842-11918013_:015",
         null,
         null,
         null,
         null,
         null,
         null
        ],
        [
         "22",
         "CCTCCATACAGTACG",
         "A:HNF4A-ChMod_chr10:11917871-11917984__chr10:11917842-11918013_:015",
         null,
         null,
         null,
         null,
         null,
         null
        ],
        [
         "23",
         "CCAGCCATTACCGCT",
         "A:HNF4A-ChMod_chr10:11917871-11917984__chr10:11917842-11918013_:015",
         null,
         null,
         null,
         null,
         null,
         null
        ],
        [
         "24",
         "AATAGCCTCATTTGC",
         "A:HNF4A-ChMod_chr10:11917871-11917984__chr10:11917842-11918013_:015",
         null,
         null,
         null,
         null,
         null,
         null
        ],
        [
         "25",
         "CTTCTATTCACGTTC",
         "A:HNF4A-ChMod_chr10:11917871-11917984__chr10:11917842-11918013_:015",
         null,
         null,
         null,
         null,
         null,
         null
        ],
        [
         "26",
         "GACATGAGTCTATCC",
         "A:HNF4A-ChMod_chr10:11917871-11917984__chr10:11917842-11918013_:015",
         null,
         null,
         null,
         null,
         null,
         null
        ],
        [
         "27",
         "ACGAGAGTGAGACCA",
         "A:HNF4A-ChMod_chr10:11917871-11917984__chr10:11917842-11918013_:015",
         null,
         null,
         null,
         null,
         null,
         null
        ],
        [
         "28",
         "ATACACTGCCATCTG",
         "A:HNF4A-ChMod_chr10:11917871-11917984__chr10:11917842-11918013_:015",
         null,
         null,
         null,
         null,
         null,
         null
        ],
        [
         "29",
         "TTTCACCGATAGGCT",
         "A:HNF4A-ChMod_chr10:11917871-11917984__chr10:11917842-11918013_:015",
         null,
         null,
         null,
         null,
         null,
         null
        ],
        [
         "30",
         "CTTCACACAATCTAC",
         "A:HNF4A-ChMod_chr10:11917871-11917984__chr10:11917842-11918013_:015",
         null,
         null,
         null,
         null,
         null,
         null
        ],
        [
         "31",
         "TATTACGGGCAACGA",
         "A:HNF4A-ChMod_chr10:11917871-11917984__chr10:11917842-11918013_:015",
         null,
         null,
         null,
         null,
         null,
         null
        ],
        [
         "32",
         "AGACGCACTACCACC",
         "A:HNF4A-ChMod_chr10:11917871-11917984__chr10:11917842-11918013_:015",
         null,
         null,
         null,
         null,
         null,
         null
        ],
        [
         "33",
         "ATTACGATCAACCCG",
         "A:HNF4A-ChMod_chr10:11917871-11917984__chr10:11917842-11918013_:015",
         null,
         null,
         null,
         null,
         null,
         null
        ],
        [
         "34",
         "AGTCGCTCTCCCAGG",
         "A:HNF4A-ChMod_chr10:11917871-11917984__chr10:11917842-11918013_:015",
         null,
         null,
         null,
         null,
         null,
         null
        ],
        [
         "35",
         "TGTATTTCCCCTATA",
         "A:HNF4A-ChMod_chr10:11917871-11917984__chr10:11917842-11918013_:015",
         null,
         null,
         null,
         null,
         null,
         null
        ],
        [
         "36",
         "TCTTGAGAGCATACA",
         "A:HNF4A-ChMod_chr10:11917871-11917984__chr10:11917842-11918013_:015",
         null,
         null,
         null,
         null,
         null,
         null
        ],
        [
         "37",
         "GGCTTACTTTCACCA",
         "A:HNF4A-ChMod_chr10:11917871-11917984__chr10:11917842-11918013_:015",
         null,
         null,
         null,
         null,
         null,
         null
        ],
        [
         "38",
         "TTTAACACTGTGCTC",
         "A:HNF4A-ChMod_chr10:11917871-11917984__chr10:11917842-11918013_:015",
         null,
         null,
         null,
         null,
         null,
         null
        ],
        [
         "39",
         "CTAACCTCCAGTCGC",
         "A:HNF4A-ChMod_chr10:11917871-11917984__chr10:11917842-11918013_:015",
         null,
         null,
         null,
         null,
         null,
         null
        ],
        [
         "40",
         "ACGCGCTTGGCCATA",
         "A:HNF4A-ChMod_chr10:11917871-11917984__chr10:11917842-11918013_:015",
         null,
         null,
         null,
         null,
         null,
         null
        ],
        [
         "41",
         "TTCCCACCTACGTGA",
         "A:HNF4A-ChMod_chr10:11917871-11917984__chr10:11917842-11918013_:015",
         null,
         null,
         null,
         null,
         null,
         null
        ],
        [
         "42",
         "ACCGCGACTGCCGGT",
         "A:HNF4A-ChMod_chr10:11917871-11917984__chr10:11917842-11918013_:015",
         null,
         null,
         null,
         null,
         null,
         null
        ],
        [
         "43",
         "CTCACCCATACGTCC",
         "A:HNF4A-ChMod_chr10:11917871-11917984__chr10:11917842-11918013_:015",
         null,
         null,
         null,
         null,
         null,
         null
        ],
        [
         "44",
         "GGGCAAACTACTGAT",
         "A:HNF4A-ChMod_chr10:11917871-11917984__chr10:11917842-11918013_:015",
         null,
         null,
         null,
         null,
         null,
         null
        ],
        [
         "45",
         "GCTTGGCCGATTCTC",
         "A:HNF4A-ChMod_chr10:11917871-11917984__chr10:11917842-11918013_:015",
         null,
         null,
         null,
         null,
         null,
         null
        ],
        [
         "46",
         "GTTCTCAAGCCCACC",
         "A:HNF4A-ChMod_chr10:11917871-11917984__chr10:11917842-11918013_:015",
         null,
         null,
         null,
         null,
         null,
         null
        ],
        [
         "47",
         "TTGGCCTCTAGCTGA",
         "A:HNF4A-ChMod_chr10:11917871-11917984__chr10:11917842-11918013_:015",
         null,
         null,
         null,
         null,
         null,
         null
        ],
        [
         "48",
         "AGGCCTTTTACCCAA",
         "A:HNF4A-ChMod_chr10:11917871-11917984__chr10:11917842-11918013_:015",
         null,
         null,
         null,
         null,
         null,
         null
        ],
        [
         "49",
         "CTACTCTTCCGCCAG",
         "A:HNF4A-ChMod_chr10:11917871-11917984__chr10:11917842-11918013_:015",
         null,
         null,
         null,
         null,
         null,
         null
        ]
       ],
       "shape": {
        "columns": 8,
        "rows": 92729
       }
      },
      "text/html": [
       "<div>\n",
       "<style scoped>\n",
       "    .dataframe tbody tr th:only-of-type {\n",
       "        vertical-align: middle;\n",
       "    }\n",
       "\n",
       "    .dataframe tbody tr th {\n",
       "        vertical-align: top;\n",
       "    }\n",
       "\n",
       "    .dataframe thead th {\n",
       "        text-align: right;\n",
       "    }\n",
       "</style>\n",
       "<table border=\"1\" class=\"dataframe\">\n",
       "  <thead>\n",
       "    <tr style=\"text-align: right;\">\n",
       "      <th></th>\n",
       "      <th>barcode</th>\n",
       "      <th>oligo_name</th>\n",
       "      <th>dna_count_1</th>\n",
       "      <th>rna_count_1</th>\n",
       "      <th>dna_count_2</th>\n",
       "      <th>rna_count_2</th>\n",
       "      <th>dna_count_3</th>\n",
       "      <th>rna_count_3</th>\n",
       "    </tr>\n",
       "  </thead>\n",
       "  <tbody>\n",
       "    <tr>\n",
       "      <th>0</th>\n",
       "      <td>TACTCTCCGTGCCCA</td>\n",
       "      <td>A:HNF4A-ChMod_chr10:11917871-11917984__chr10:1...</td>\n",
       "      <td>NaN</td>\n",
       "      <td>NaN</td>\n",
       "      <td>NaN</td>\n",
       "      <td>NaN</td>\n",
       "      <td>NaN</td>\n",
       "      <td>NaN</td>\n",
       "    </tr>\n",
       "    <tr>\n",
       "      <th>1</th>\n",
       "      <td>GGTATAACATCTCCG</td>\n",
       "      <td>A:HNF4A-ChMod_chr10:11917871-11917984__chr10:1...</td>\n",
       "      <td>NaN</td>\n",
       "      <td>NaN</td>\n",
       "      <td>NaN</td>\n",
       "      <td>NaN</td>\n",
       "      <td>NaN</td>\n",
       "      <td>NaN</td>\n",
       "    </tr>\n",
       "    <tr>\n",
       "      <th>2</th>\n",
       "      <td>TTAGGAGTCACACGT</td>\n",
       "      <td>A:HNF4A-ChMod_chr10:11917871-11917984__chr10:1...</td>\n",
       "      <td>NaN</td>\n",
       "      <td>NaN</td>\n",
       "      <td>NaN</td>\n",
       "      <td>NaN</td>\n",
       "      <td>NaN</td>\n",
       "      <td>NaN</td>\n",
       "    </tr>\n",
       "    <tr>\n",
       "      <th>3</th>\n",
       "      <td>GAATATAACACCCGA</td>\n",
       "      <td>A:HNF4A-ChMod_chr10:11917871-11917984__chr10:1...</td>\n",
       "      <td>NaN</td>\n",
       "      <td>NaN</td>\n",
       "      <td>NaN</td>\n",
       "      <td>NaN</td>\n",
       "      <td>NaN</td>\n",
       "      <td>NaN</td>\n",
       "    </tr>\n",
       "    <tr>\n",
       "      <th>4</th>\n",
       "      <td>AAACACCGCGCTCTA</td>\n",
       "      <td>A:HNF4A-ChMod_chr10:11917871-11917984__chr10:1...</td>\n",
       "      <td>NaN</td>\n",
       "      <td>NaN</td>\n",
       "      <td>NaN</td>\n",
       "      <td>NaN</td>\n",
       "      <td>NaN</td>\n",
       "      <td>NaN</td>\n",
       "    </tr>\n",
       "    <tr>\n",
       "      <th>...</th>\n",
       "      <td>...</td>\n",
       "      <td>...</td>\n",
       "      <td>...</td>\n",
       "      <td>...</td>\n",
       "      <td>...</td>\n",
       "      <td>...</td>\n",
       "      <td>...</td>\n",
       "      <td>...</td>\n",
       "    </tr>\n",
       "    <tr>\n",
       "      <th>92724</th>\n",
       "      <td>ACCCTATCAACGGCT</td>\n",
       "      <td>R:HNF4A-NoMod_chrY:18213828-18213963__chrY:182...</td>\n",
       "      <td>NaN</td>\n",
       "      <td>NaN</td>\n",
       "      <td>NaN</td>\n",
       "      <td>NaN</td>\n",
       "      <td>NaN</td>\n",
       "      <td>NaN</td>\n",
       "    </tr>\n",
       "    <tr>\n",
       "      <th>92725</th>\n",
       "      <td>AAGCGCTCGGCGATT</td>\n",
       "      <td>R:HNF4A-NoMod_chrY:18213828-18213963__chrY:182...</td>\n",
       "      <td>NaN</td>\n",
       "      <td>NaN</td>\n",
       "      <td>NaN</td>\n",
       "      <td>NaN</td>\n",
       "      <td>NaN</td>\n",
       "      <td>NaN</td>\n",
       "    </tr>\n",
       "    <tr>\n",
       "      <th>92726</th>\n",
       "      <td>CCCGACGGTCCCGGC</td>\n",
       "      <td>R:HNF4A-NoMod_chrY:18213828-18213963__chrY:182...</td>\n",
       "      <td>NaN</td>\n",
       "      <td>NaN</td>\n",
       "      <td>NaN</td>\n",
       "      <td>NaN</td>\n",
       "      <td>NaN</td>\n",
       "      <td>NaN</td>\n",
       "    </tr>\n",
       "    <tr>\n",
       "      <th>92727</th>\n",
       "      <td>CCAATCATCGAACTT</td>\n",
       "      <td>R:HNF4A-NoMod_chrY:18213828-18213963__chrY:182...</td>\n",
       "      <td>NaN</td>\n",
       "      <td>NaN</td>\n",
       "      <td>NaN</td>\n",
       "      <td>NaN</td>\n",
       "      <td>NaN</td>\n",
       "      <td>NaN</td>\n",
       "    </tr>\n",
       "    <tr>\n",
       "      <th>92728</th>\n",
       "      <td>AAACGCCCGCCACTC</td>\n",
       "      <td>R:HNF4A-NoMod_chrY:18213828-18213963__chrY:182...</td>\n",
       "      <td>NaN</td>\n",
       "      <td>NaN</td>\n",
       "      <td>NaN</td>\n",
       "      <td>NaN</td>\n",
       "      <td>NaN</td>\n",
       "      <td>NaN</td>\n",
       "    </tr>\n",
       "  </tbody>\n",
       "</table>\n",
       "<p>92729 rows × 8 columns</p>\n",
       "</div>"
      ],
      "text/plain": [
       "               barcode                                         oligo_name  \\\n",
       "0      TACTCTCCGTGCCCA  A:HNF4A-ChMod_chr10:11917871-11917984__chr10:1...   \n",
       "1      GGTATAACATCTCCG  A:HNF4A-ChMod_chr10:11917871-11917984__chr10:1...   \n",
       "2      TTAGGAGTCACACGT  A:HNF4A-ChMod_chr10:11917871-11917984__chr10:1...   \n",
       "3      GAATATAACACCCGA  A:HNF4A-ChMod_chr10:11917871-11917984__chr10:1...   \n",
       "4      AAACACCGCGCTCTA  A:HNF4A-ChMod_chr10:11917871-11917984__chr10:1...   \n",
       "...                ...                                                ...   \n",
       "92724  ACCCTATCAACGGCT  R:HNF4A-NoMod_chrY:18213828-18213963__chrY:182...   \n",
       "92725  AAGCGCTCGGCGATT  R:HNF4A-NoMod_chrY:18213828-18213963__chrY:182...   \n",
       "92726  CCCGACGGTCCCGGC  R:HNF4A-NoMod_chrY:18213828-18213963__chrY:182...   \n",
       "92727  CCAATCATCGAACTT  R:HNF4A-NoMod_chrY:18213828-18213963__chrY:182...   \n",
       "92728  AAACGCCCGCCACTC  R:HNF4A-NoMod_chrY:18213828-18213963__chrY:182...   \n",
       "\n",
       "       dna_count_1  rna_count_1  dna_count_2  rna_count_2  dna_count_3  \\\n",
       "0              NaN          NaN          NaN          NaN          NaN   \n",
       "1              NaN          NaN          NaN          NaN          NaN   \n",
       "2              NaN          NaN          NaN          NaN          NaN   \n",
       "3              NaN          NaN          NaN          NaN          NaN   \n",
       "4              NaN          NaN          NaN          NaN          NaN   \n",
       "...            ...          ...          ...          ...          ...   \n",
       "92724          NaN          NaN          NaN          NaN          NaN   \n",
       "92725          NaN          NaN          NaN          NaN          NaN   \n",
       "92726          NaN          NaN          NaN          NaN          NaN   \n",
       "92727          NaN          NaN          NaN          NaN          NaN   \n",
       "92728          NaN          NaN          NaN          NaN          NaN   \n",
       "\n",
       "       rna_count_3  \n",
       "0              NaN  \n",
       "1              NaN  \n",
       "2              NaN  \n",
       "3              NaN  \n",
       "4              NaN  \n",
       "...            ...  \n",
       "92724          NaN  \n",
       "92725          NaN  \n",
       "92726          NaN  \n",
       "92727          NaN  \n",
       "92728          NaN  \n",
       "\n",
       "[92729 rows x 8 columns]"
      ]
     },
     "metadata": {},
     "output_type": "display_data"
    }
   ],
   "source": [
    "export_barcode_file(mpra_barcode_data, \"barcodes.tsv\")\n",
    "\n",
    "df = pd.read_csv(\"barcodes.tsv\", sep='\\t')\n",
    "display(df)"
   ]
  },
  {
   "cell_type": "markdown",
   "metadata": {},
   "source": [
    "This dumped the whole DNA and rna counts into a file. Same format as we loaded the data. BUT now with the filtereing applied. So we see a lot of missing values."
   ]
  }
 ],
 "metadata": {
  "kernelspec": {
   "display_name": "jupyter",
   "language": "python",
   "name": "python3"
  },
  "language_info": {
   "codemirror_mode": {
    "name": "ipython",
    "version": 3
   },
   "file_extension": ".py",
   "mimetype": "text/x-python",
   "name": "python",
   "nbconvert_exporter": "python",
   "pygments_lexer": "ipython3",
   "version": "3.12.4"
  }
 },
 "nbformat": 4,
 "nbformat_minor": 2
}
