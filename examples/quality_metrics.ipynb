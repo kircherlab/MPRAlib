{
 "cells": [
  {
   "cell_type": "code",
   "execution_count": 1,
   "metadata": {},
   "outputs": [],
   "source": [
    "!pip --quiet install \"MPRAlib==0.6.0\""
   ]
  },
  {
   "cell_type": "markdown",
   "metadata": {},
   "source": [
    "# Quality Metrics\n",
    "\n",
    "This python notebook uses a MPRA dataset to generate some general quality metrics."
   ]
  },
  {
   "cell_type": "code",
   "execution_count": 2,
   "metadata": {},
   "outputs": [],
   "source": [
    "# Loading the MPRAlib library\n",
    "from mpralib.mpradata import MPRABarcodeData\n",
    "# Loading other libraries\n",
    "import pandas as pd\n",
    "import numpy as np\n",
    "\n",
    "# Load the data\n",
    "mpra_barcode_data = MPRABarcodeData.from_file(\"../resources/barcode_counts.tsv.gz\")\n",
    "mpra_oligo_data = mpra_barcode_data.oligo_data"
   ]
  },
  {
   "cell_type": "markdown",
   "metadata": {},
   "source": [
    "## Pearson Correlation\n",
    "\n",
    "\n",
    "Use the median or maybe the min across replicates."
   ]
  },
  {
   "cell_type": "code",
   "execution_count": 3,
   "metadata": {},
   "outputs": [
    {
     "name": "stdout",
     "output_type": "stream",
     "text": [
      "Median Pearson correlation across replicates:\n",
      "0.977\n",
      "Min Pearson correlation across replicates:\n",
      "0.976\n"
     ]
    }
   ],
   "source": [
    "mpra_oligo_data.barcode_threshold = 10\n",
    "\n",
    "print(\"Median Pearson correlation across replicates:\")\n",
    "print(np.median(mpra_oligo_data.correlation().flatten()[[1,2,5]]).round(3))\n",
    "\n",
    "print(\"Min Pearson correlation across replicates:\")\n",
    "print(mpra_oligo_data.correlation().flatten()[[1,2,5]].min().round(3))"
   ]
  },
  {
   "cell_type": "markdown",
   "metadata": {},
   "source": [
    "## Median barcodes per oligo\n",
    "\n",
    "How to compute:\n",
    "\n",
    "I am sure here we do NOT use the BC threshold!\n",
    "\n",
    "- use average median across replicates\n",
    "- Use the smalles median\n",
    "- compute median on all"
   ]
  },
  {
   "cell_type": "code",
   "execution_count": 4,
   "metadata": {},
   "outputs": [
    {
     "name": "stdout",
     "output_type": "stream",
     "text": [
      "Median across replicates of median barcodes per oligo:\n",
      "159\n",
      "Minimum across replicates of median barcodes per oligo:\n",
      "158\n",
      "Median on all (flatten) Barcode counts where BC threshold >= 1:\n",
      "159\n"
     ]
    }
   ],
   "source": [
    "mpra_oligo_data.barcode_threshold = 1\n",
    "n_barcodes_replicate = []\n",
    "for replicate in mpra_oligo_data.obs_names:\n",
    "    replicate_data = mpra_oligo_data.data[replicate, :]\n",
    "    replicate_data = replicate_data[:, replicate_data.layers[\"barcode_counts\"] >= mpra_oligo_data.barcode_threshold]\n",
    "    n_barcodes_replicate += [np.median(replicate_data.layers[\"barcode_counts\"])]\n",
    "\n",
    "print(\"Median across replicates of median barcodes per oligo:\")\n",
    "print(int(np.median(n_barcodes_replicate)))\n",
    "\n",
    "print(\"Minimum across replicates of median barcodes per oligo:\")\n",
    "print(int(np.min(n_barcodes_replicate)))\n",
    "\n",
    "all = mpra_oligo_data.barcode_counts[mpra_oligo_data.barcode_counts >= mpra_oligo_data.barcode_threshold].flatten()\n",
    "\n",
    "print(f\"Median on all (flatten) Barcode counts where BC threshold >= {mpra_oligo_data.barcode_threshold}:\")\n",
    "print(int(np.median(all[all != 0])))"
   ]
  },
  {
   "cell_type": "markdown",
   "metadata": {},
   "source": [
    "## Median RNA Counts per oligo\n",
    "\n",
    "How to compute:\n",
    "\n",
    "- use average median across replicates\n",
    "- compute median on all\n",
    "\n",
    "Using BC thershold or not?"
   ]
  },
  {
   "cell_type": "code",
   "execution_count": 5,
   "metadata": {},
   "outputs": [
    {
     "name": "stdout",
     "output_type": "stream",
     "text": [
      "Median across replicates of median RNA counts per oligo:\n",
      "1952\n",
      "Min across replicates of median RNA counts per oligo:\n",
      "1748\n",
      "Median on all (flatten) RNA counts where BC threshold >= 10:\n",
      "1890\n"
     ]
    }
   ],
   "source": [
    "mpra_oligo_data.barcode_threshold = 10\n",
    "n_rna_replicate = []\n",
    "for replicate in mpra_oligo_data.obs_names:\n",
    "    replicate_data = mpra_oligo_data.data[replicate, :]\n",
    "    replicate_data = replicate_data[:, replicate_data.layers[\"barcode_counts\"] >= mpra_oligo_data.barcode_threshold]\n",
    "    n_rna_replicate += [np.median(replicate_data.layers[\"rna\"])]\n",
    "\n",
    "print(\"Median across replicates of median RNA counts per oligo:\")\n",
    "print(int(np.median(n_rna_replicate)))\n",
    "\n",
    "print(\"Min across replicates of median RNA counts per oligo:\")\n",
    "print(int(np.min(n_rna_replicate)))\n",
    "\n",
    "\n",
    "all = mpra_oligo_data.rna_counts[mpra_oligo_data.barcode_counts >= mpra_oligo_data.barcode_threshold].flatten()\n",
    "\n",
    "print(f\"Median on all (flatten) RNA counts where BC threshold >= {mpra_oligo_data.barcode_threshold}:\")\n",
    "print(int(np.median(all[all != 0])))"
   ]
  },
  {
   "cell_type": "markdown",
   "metadata": {},
   "source": [
    "## Percent Oligos Passing\n",
    "\n",
    "What is the total n? \n",
    "\n",
    "- All oligos in the assignment\n",
    "- All oligos with at least 1 barcode (in any sample so observed). Then it is basically the bc_threshold that sets the filter\n",
    "\n",
    "How to compute across replicates?\n",
    "\n",
    "- Use the mean of the replicates.\n",
    "- Merge replicates and compute from them.\n",
    "- use only oligos where number of barcodes are larger than threshold in ALL replicates."
   ]
  },
  {
   "cell_type": "code",
   "execution_count": 6,
   "metadata": {},
   "outputs": [
    {
     "name": "stdout",
     "output_type": "stream",
     "text": [
      "7440\n",
      "97.96\n",
      "97.94\n"
     ]
    }
   ],
   "source": [
    "n_oligos = len(mpra_barcode_data.oligos.values.unique())\n",
    "print(n_oligos)\n",
    "# or this one:\n",
    "# len(mpradata.grouped_data.var[\"oligo\"])\n",
    "\n",
    "mpra_oligo_data.barcode_threshold = 10\n",
    "n_oligos_replicate = []\n",
    "for replicate in mpra_oligo_data.obs_names:\n",
    "    replicate_data = mpra_oligo_data.data[replicate, :]\n",
    "    replicate_data = replicate_data[:, replicate_data.layers[\"barcode_counts\"] >= mpra_oligo_data.barcode_threshold]\n",
    "    n_oligos_replicate += [len(replicate_data.var[\"oligo\"])]\n",
    "\n",
    "print(round(np.median(n_oligos_replicate) / n_oligos * 100, 2))\n",
    "\n",
    "print(round(np.min(n_oligos_replicate) / n_oligos * 100, 2))"
   ]
  }
 ],
 "metadata": {
  "kernelspec": {
   "display_name": "jupyter",
   "language": "python",
   "name": "python3"
  },
  "language_info": {
   "codemirror_mode": {
    "name": "ipython",
    "version": 3
   },
   "file_extension": ".py",
   "mimetype": "text/x-python",
   "name": "python",
   "nbconvert_exporter": "python",
   "pygments_lexer": "ipython3",
   "version": "3.12.4"
  }
 },
 "nbformat": 4,
 "nbformat_minor": 2
}
