{
 "cells": [
  {
   "cell_type": "code",
   "execution_count": 7,
   "metadata": {},
   "outputs": [],
   "source": [
    "!pip --quiet install MPRAlib"
   ]
  },
  {
   "cell_type": "markdown",
   "metadata": {},
   "source": [
    "# Quality Metrics\n",
    "\n",
    "This python notebook uses a MPRA dataset to generate some general quality metrics."
   ]
  },
  {
   "cell_type": "code",
   "execution_count": 8,
   "metadata": {},
   "outputs": [],
   "source": [
    "# Loading the MPRAlib library\n",
    "from mpralib.mpradata import MPRAdata\n",
    "# Loading other libraries\n",
    "import pandas as pd\n",
    "import numpy as np\n",
    "\n",
    "# Load the data\n",
    "mpradata = MPRAdata.from_file(\"../resources/IGVFFI0402JCOL.tsv.gz\")\n"
   ]
  },
  {
   "cell_type": "markdown",
   "metadata": {},
   "source": [
    "## Pearson Correlation"
   ]
  },
  {
   "cell_type": "code",
   "execution_count": 9,
   "metadata": {},
   "outputs": [
    {
     "data": {
      "text/plain": [
       "np.float64(0.943)"
      ]
     },
     "execution_count": 9,
     "metadata": {},
     "output_type": "execute_result"
    }
   ],
   "source": [
    "mpradata.barcode_threshold = 10\n",
    "\n",
    "mpradata.pearson_correlation.flatten()[[1,2,5]].mean().round(3)"
   ]
  },
  {
   "cell_type": "markdown",
   "metadata": {},
   "source": [
    "## Median barcodes per oligo\n",
    "\n",
    "How to compute:\n",
    "\n",
    "I am sure here we do NOT use the BC threshold!\n",
    "\n",
    "- use average median across replicates\n",
    "- compute median on all"
   ]
  },
  {
   "cell_type": "code",
   "execution_count": 10,
   "metadata": {},
   "outputs": [
    {
     "name": "stdout",
     "output_type": "stream",
     "text": [
      "Mean of RNA count median per replicate:\n",
      "120\n",
      "Median on all (flatten) Barcode counts where BC threshold >= 1:\n",
      "121\n"
     ]
    }
   ],
   "source": [
    "mpradata.barcode_threshold = 1\n",
    "grouped_data = mpradata.grouped_data\n",
    "n_barcodes_replicate = []\n",
    "for replicate in grouped_data.obs_names:\n",
    "    replicate_data = grouped_data[replicate, :]\n",
    "    replicate_data = replicate_data[:, replicate_data.layers[\"barcodes\"] != 0]\n",
    "    n_barcodes_replicate += [np.median(replicate_data.layers[\"barcodes\"])]\n",
    "\n",
    "print(\"Mean of RNA count median per replicate:\")\n",
    "print(int(np.mean(n_barcodes_replicate)))\n",
    "\n",
    "all = grouped_data.layers[\"barcodes\"][grouped_data.layers[\"barcodes\"] != 0].flatten()\n",
    "\n",
    "print(f\"Median on all (flatten) Barcode counts where BC threshold >= {mpradata.barcode_threshold}:\")\n",
    "print(int(np.median(all[all != 0])))"
   ]
  },
  {
   "cell_type": "markdown",
   "metadata": {},
   "source": [
    "## Median RNA Counts per oligo\n",
    "\n",
    "How to compute:\n",
    "\n",
    "- use average median across replicates\n",
    "- compute median on all\n",
    "\n",
    "Using BC thershold or not?"
   ]
  },
  {
   "cell_type": "code",
   "execution_count": 11,
   "metadata": {},
   "outputs": [
    {
     "name": "stdout",
     "output_type": "stream",
     "text": [
      "Mean of RNA count median per replicate:\n",
      "5584\n",
      "Median on all (flatten) RNA counts where BC threshold >= 10:\n",
      "5573\n"
     ]
    }
   ],
   "source": [
    "mpradata.barcode_threshold = 10\n",
    "grouped_data = mpradata.grouped_data\n",
    "n_rna_replicate = []\n",
    "for replicate in grouped_data.obs_names:\n",
    "    replicate_data = grouped_data[replicate, :]\n",
    "    replicate_data = replicate_data[:, replicate_data.layers[\"barcodes\"] != 0]\n",
    "    n_rna_replicate += [np.median(replicate_data.layers[\"rna\"])]\n",
    "\n",
    "print(\"Mean of RNA count median per replicate:\")\n",
    "print(int(np.mean(n_rna_replicate)))\n",
    "\n",
    "all = grouped_data.layers[\"rna\"][grouped_data.layers[\"barcodes\"] != 0].flatten()\n",
    "\n",
    "print(f\"Median on all (flatten) RNA counts where BC threshold >= {mpradata.barcode_threshold}:\")\n",
    "print(int(np.median(all[all != 0])))"
   ]
  },
  {
   "cell_type": "markdown",
   "metadata": {},
   "source": [
    "## Percent Oligos Passing\n",
    "\n",
    "What is the total n? \n",
    "\n",
    "- All oligos in the assignment\n",
    "- All oligos with at least 1 barcode (in any sample so observed). Then it is basically the bc_threshold that sets the filter\n",
    "\n",
    "How to compute across replicates?\n",
    "\n",
    "- Use the mean of the replicates.\n",
    "- Merge replicates and compute from them.\n",
    "- use only oligos where number of barcodes are larger than threshold in ALL replicates."
   ]
  },
  {
   "cell_type": "code",
   "execution_count": 12,
   "metadata": {},
   "outputs": [
    {
     "name": "stdout",
     "output_type": "stream",
     "text": [
      "11713\n"
     ]
    },
    {
     "data": {
      "text/plain": [
       "96.45"
      ]
     },
     "execution_count": 12,
     "metadata": {},
     "output_type": "execute_result"
    }
   ],
   "source": [
    "n_oligos = len(mpradata.oligos.values.unique())\n",
    "print(n_oligos)\n",
    "# or this one:\n",
    "# len(mpradata.grouped_data.var[\"oligo\"])\n",
    "\n",
    "mpradata.barcode_threshold = 10\n",
    "grouped_data = mpradata.grouped_data\n",
    "n_oligos_replicate = []\n",
    "for replicate in grouped_data.obs_names:\n",
    "    replicate_data = grouped_data[replicate, :]\n",
    "    replicate_data = replicate_data[:, replicate_data.layers[\"barcodes\"] != 0]\n",
    "    n_oligos_replicate += [len(replicate_data.var[\"oligo\"])]\n",
    "\n",
    "float(round(np.mean(n_oligos_replicate) / n_oligos * 100, 2))"
   ]
  },
  {
   "cell_type": "markdown",
   "metadata": {},
   "source": [
    "## median_assigned_barocdes (Assignment)"
   ]
  },
  {
   "cell_type": "code",
   "execution_count": null,
   "metadata": {},
   "outputs": [],
   "source": []
  },
  {
   "cell_type": "markdown",
   "metadata": {},
   "source": [
    "## fraction_assigned_oligos (assignment)"
   ]
  },
  {
   "cell_type": "code",
   "execution_count": null,
   "metadata": {},
   "outputs": [],
   "source": []
  }
 ],
 "metadata": {
  "kernelspec": {
   "display_name": "jupyter",
   "language": "python",
   "name": "python3"
  },
  "language_info": {
   "codemirror_mode": {
    "name": "ipython",
    "version": 3
   },
   "file_extension": ".py",
   "mimetype": "text/x-python",
   "name": "python",
   "nbconvert_exporter": "python",
   "pygments_lexer": "ipython3",
   "version": "3.12.4"
  }
 },
 "nbformat": 4,
 "nbformat_minor": 2
}
